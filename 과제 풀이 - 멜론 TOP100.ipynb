{
 "cells": [
  {
   "cell_type": "code",
   "execution_count": 1,
   "id": "a4663b0b-e741-4112-81e7-26a04f0d48c5",
   "metadata": {},
   "outputs": [],
   "source": [
    "import requests\n",
    "from bs4 import BeautifulSoup"
   ]
  },
  {
   "cell_type": "code",
   "execution_count": 2,
   "id": "c5434bea-a57a-417c-9cf3-7fe00be70ef2",
   "metadata": {},
   "outputs": [],
   "source": [
    "url = \"https://www.melon.com/chart/index.htm\""
   ]
  },
  {
   "cell_type": "code",
   "execution_count": 5,
   "id": "c809c21e-7473-46bd-a88b-9b827d9663cb",
   "metadata": {},
   "outputs": [],
   "source": [
    "headers = {\n",
    "    \"User-Agent\": \"Mozilla/5.0 (Macintosh; Intel Mac OS X 10_15_7) AppleWebKit/537.36 (KHTML, like Gecko) Chrome/114.0.0.0 Safari/537.36\",\n",
    "}"
   ]
  },
  {
   "cell_type": "code",
   "execution_count": 6,
   "id": "c793c0f9-fbe1-4af8-9d37-f638c1bb8bd3",
   "metadata": {},
   "outputs": [
    {
     "data": {
      "text/plain": [
       "<Response [200]>"
      ]
     },
     "execution_count": 6,
     "metadata": {},
     "output_type": "execute_result"
    }
   ],
   "source": [
    "res = requests.get(url, headers=headers)\n",
    "res"
   ]
  },
  {
   "cell_type": "code",
   "execution_count": 12,
   "id": "c0cb4972-c0b1-4d03-a47e-2ef1bbab1294",
   "metadata": {},
   "outputs": [
    {
     "name": "stdout",
     "output_type": "stream",
     "text": [
      "'<!DOCTYPE html>\\r\\n<html lang=\"ko\">\\r\\n\\r\\n\\r\\n\\r\\n\\r\\n\\r\\n\\r\\n\\r\\n\\r\\n\\r\\n\\r\\n\\r\\n\\r\\n\\r\\n<head>\\r\\n\\t\\t\\r\\n\\t\\r\\n\\t\\r\\n\\t\\r\\n\\t\\r\\n\\t\\r\\n\\t\\r\\n\\t\\r\\n\\t\\r\\n\\r\\n\\t'\n"
     ]
    }
   ],
   "source": [
    "html = res.text\n",
    "print(repr(html[:100]))\n",
    "soup = BeautifulSoup(html, \"html.parser\")"
   ]
  },
  {
   "cell_type": "code",
   "execution_count": 19,
   "id": "d758e09d-5317-4dd5-8543-122a56cd7177",
   "metadata": {},
   "outputs": [
    {
     "data": {
      "text/plain": [
       "100"
      ]
     },
     "execution_count": 19,
     "metadata": {},
     "output_type": "execute_result"
    }
   ],
   "source": [
    "# wrap_tag_list = soup.select(\".service_list_song tbody tr\")\n",
    "# wrap_tag_list = soup.select(\".lst50, .lst100\")\n",
    "\n",
    "wrap_tag_list = soup.select(\"tr[data-song-no]\")\n",
    "len(wrap_tag_list)"
   ]
  },
  {
   "cell_type": "code",
   "execution_count": 37,
   "id": "fb437f59-92dd-42aa-907e-eba615b5f781",
   "metadata": {},
   "outputs": [
    {
     "data": {
      "text/plain": [
       "100"
      ]
     },
     "execution_count": 37,
     "metadata": {},
     "output_type": "execute_result"
    }
   ],
   "source": [
    "song_list = []\n",
    "\n",
    "for wrap_tag in wrap_tag_list:\n",
    "    song_no = wrap_tag[\"data-song-no\"]\n",
    "\n",
    "    # wrap_tag.select_one(\"[href^=playSong]\")  # href.startswith(\"playSong\")의 의미\n",
    "    # wrap_tag.select_one(\"[href$=playSong]\")  # href.endswith(\"playSong\")의 의미\n",
    "    song_title = wrap_tag.select_one(\"[href*=playSong]\").text  # \"playSong\" in href 의 의미\n",
    "    artist_name = wrap_tag.select_one(\"[href*=goArtistDetail]\").text\n",
    "    album_name = wrap_tag.select_one(\"[href*=goAlbumDetail]\")[\"title\"]\n",
    "    \n",
    "    cover_image_url = wrap_tag.select_one(\"[onerror*=defaultAlbumImg]\")[\"src\"]\n",
    "\n",
    "    song_list.append({\n",
    "        \"곡일련번호\": song_no,\n",
    "        \"앨범명\": album_name,\n",
    "        \"곡명\": song_title,\n",
    "        \"가수명\": artist_name,\n",
    "        \"커버이미지_주소\": cover_image_url,\n",
    "    })\n",
    "    \n",
    "    # print(song_no, album_name, song_title, artist_name, cover_image_url)\n",
    "\n",
    "len(song_list)"
   ]
  },
  {
   "cell_type": "code",
   "execution_count": 47,
   "id": "7fa3a0b5-6451-4bde-b903-6f48106baef2",
   "metadata": {},
   "outputs": [
    {
     "name": "stdout",
     "output_type": "stream",
     "text": [
      "(100, 5)\n"
     ]
    },
    {
     "data": {
      "text/html": [
       "<div>\n",
       "<style scoped>\n",
       "    .dataframe tbody tr th:only-of-type {\n",
       "        vertical-align: middle;\n",
       "    }\n",
       "\n",
       "    .dataframe tbody tr th {\n",
       "        vertical-align: top;\n",
       "    }\n",
       "\n",
       "    .dataframe thead th {\n",
       "        text-align: right;\n",
       "    }\n",
       "</style>\n",
       "<table border=\"1\" class=\"dataframe\">\n",
       "  <thead>\n",
       "    <tr style=\"text-align: right;\">\n",
       "      <th></th>\n",
       "      <th>앨범명</th>\n",
       "      <th>곡명</th>\n",
       "      <th>가수명</th>\n",
       "      <th>커버이미지_주소</th>\n",
       "      <th>순위</th>\n",
       "    </tr>\n",
       "    <tr>\n",
       "      <th>곡일련번호</th>\n",
       "      <th></th>\n",
       "      <th></th>\n",
       "      <th></th>\n",
       "      <th></th>\n",
       "      <th></th>\n",
       "    </tr>\n",
       "  </thead>\n",
       "  <tbody>\n",
       "    <tr>\n",
       "      <th>36599950</th>\n",
       "      <td>NewJeans 2nd EP 'Get Up'</td>\n",
       "      <td>Super Shy</td>\n",
       "      <td>NewJeans</td>\n",
       "      <td>https://cdnimg.melon.co.kr/cm2/album/images/11...</td>\n",
       "      <td>1</td>\n",
       "    </tr>\n",
       "    <tr>\n",
       "      <th>36617841</th>\n",
       "      <td>Seven (feat. Latto) - Clean Ver.</td>\n",
       "      <td>Seven (feat. Latto) - Clean Ver.</td>\n",
       "      <td>정국</td>\n",
       "      <td>https://cdnimg.melon.co.kr/cm2/album/images/11...</td>\n",
       "      <td>2</td>\n",
       "    </tr>\n",
       "    <tr>\n",
       "      <th>36635522</th>\n",
       "      <td>NewJeans 2nd EP 'Get Up'</td>\n",
       "      <td>ETA</td>\n",
       "      <td>NewJeans</td>\n",
       "      <td>https://cdnimg.melon.co.kr/cm2/album/images/11...</td>\n",
       "      <td>3</td>\n",
       "    </tr>\n",
       "    <tr>\n",
       "      <th>36430773</th>\n",
       "      <td>I feel</td>\n",
       "      <td>퀸카 (Queencard)</td>\n",
       "      <td>(여자)아이들</td>\n",
       "      <td>https://cdnimg.melon.co.kr/cm2/album/images/11...</td>\n",
       "      <td>4</td>\n",
       "    </tr>\n",
       "    <tr>\n",
       "      <th>36382580</th>\n",
       "      <td>1집 Alone</td>\n",
       "      <td>헤어지자 말해요</td>\n",
       "      <td>박재정</td>\n",
       "      <td>https://cdnimg.melon.co.kr/cm2/album/images/11...</td>\n",
       "      <td>5</td>\n",
       "    </tr>\n",
       "  </tbody>\n",
       "</table>\n",
       "</div>"
      ],
      "text/plain": [
       "                                       앨범명                                곡명  \\\n",
       "곡일련번호                                                                          \n",
       "36599950          NewJeans 2nd EP 'Get Up'                         Super Shy   \n",
       "36617841  Seven (feat. Latto) - Clean Ver.  Seven (feat. Latto) - Clean Ver.   \n",
       "36635522          NewJeans 2nd EP 'Get Up'                               ETA   \n",
       "36430773                            I feel                    퀸카 (Queencard)   \n",
       "36382580                          1집 Alone                          헤어지자 말해요   \n",
       "\n",
       "               가수명                                           커버이미지_주소  순위  \n",
       "곡일련번호                                                                      \n",
       "36599950  NewJeans  https://cdnimg.melon.co.kr/cm2/album/images/11...   1  \n",
       "36617841        정국  https://cdnimg.melon.co.kr/cm2/album/images/11...   2  \n",
       "36635522  NewJeans  https://cdnimg.melon.co.kr/cm2/album/images/11...   3  \n",
       "36430773   (여자)아이들  https://cdnimg.melon.co.kr/cm2/album/images/11...   4  \n",
       "36382580       박재정  https://cdnimg.melon.co.kr/cm2/album/images/11...   5  "
      ]
     },
     "execution_count": 47,
     "metadata": {},
     "output_type": "execute_result"
    }
   ],
   "source": [
    "import pandas as pd\n",
    "\n",
    "df = pd.DataFrame(song_list).set_index(\"곡일련번호\")\n",
    "df[\"순위\"] = range(1, df.shape[0] + 1)\n",
    "print(df.shape)\n",
    "df.head()"
   ]
  },
  {
   "cell_type": "code",
   "execution_count": 58,
   "id": "498cd558-a3e2-433b-b151-b1be30cdcac7",
   "metadata": {},
   "outputs": [
    {
     "data": {
      "text/plain": [
       "<Response [200]>"
      ]
     },
     "execution_count": 58,
     "metadata": {},
     "output_type": "execute_result"
    }
   ],
   "source": [
    "url = \"https://www.melon.com/commonlike/getSongLike.json\"\n",
    "params = {\n",
    "    \"contsIds\": \"36599950,36617841\",\n",
    "}\n",
    "\n",
    "res = requests.get(url, params=params, headers=headers)\n",
    "res"
   ]
  },
  {
   "cell_type": "code",
   "execution_count": 65,
   "id": "1a17fcfb-931f-49ea-856d-46c172068cfe",
   "metadata": {},
   "outputs": [
    {
     "name": "stdout",
     "output_type": "stream",
     "text": [
      "36599950 102866\n",
      "36617841 107070\n"
     ]
    },
    {
     "data": {
      "text/plain": [
       "{36599950: 102866, 36617841: 107070}"
      ]
     },
     "execution_count": 65,
     "metadata": {},
     "output_type": "execute_result"
    }
   ],
   "source": [
    "likes_dict = {}\n",
    "\n",
    "for song in res.json()['contsLike']:\n",
    "    print(song[\"CONTSID\"], song[\"SUMMCNT\"])\n",
    "    likes_dict[song[\"CONTSID\"]] = song[\"SUMMCNT\"]\n",
    "\n",
    "likes_dict"
   ]
  },
  {
   "cell_type": "code",
   "execution_count": 67,
   "id": "d5ab15c9-2e60-4a06-81fd-9227270ae145",
   "metadata": {},
   "outputs": [
    {
     "data": {
      "text/plain": [
       "{36599950: 102866, 36617841: 107070}"
      ]
     },
     "execution_count": 67,
     "metadata": {},
     "output_type": "execute_result"
    }
   ],
   "source": [
    "# dict comprehension\n",
    "{\n",
    "    song[\"CONTSID\"]: song[\"SUMMCNT\"]\n",
    "    for song in res.json()['contsLike']\n",
    "}"
   ]
  },
  {
   "cell_type": "code",
   "execution_count": 70,
   "id": "52b1582e-93ef-4f73-9a23-d31610db919b",
   "metadata": {},
   "outputs": [
    {
     "data": {
      "text/plain": [
       "[4, 16]"
      ]
     },
     "execution_count": 70,
     "metadata": {},
     "output_type": "execute_result"
    }
   ],
   "source": [
    "numbers = [1, 2, 3, 4, 5]\n",
    "\n",
    "[number ** 2 for number in numbers]  # list comprehension\n",
    "[number ** 2\n",
    " for number in numbers\n",
    " if number % 2 == 0]  # list comprehension"
   ]
  },
  {
   "cell_type": "code",
   "execution_count": 73,
   "id": "f9673662-3dda-4f7d-9c09-43ca7940fc4a",
   "metadata": {},
   "outputs": [
    {
     "data": {
      "text/plain": [
       "{0, 1, 2}"
      ]
     },
     "execution_count": 73,
     "metadata": {},
     "output_type": "execute_result"
    }
   ],
   "source": [
    "{ number % 3 for number in numbers }  # set comprehension"
   ]
  },
  {
   "cell_type": "code",
   "execution_count": 74,
   "id": "856ce818-dfe3-4f56-953e-ea0504639f5e",
   "metadata": {},
   "outputs": [
    {
     "data": {
      "text/plain": [
       "{1: 1, 2: 2, 3: 0, 4: 1, 5: 2}"
      ]
     },
     "execution_count": 74,
     "metadata": {},
     "output_type": "execute_result"
    }
   ],
   "source": [
    "{ number: number % 3 for number in numbers }  # dict comprehension"
   ]
  },
  {
   "cell_type": "code",
   "execution_count": 75,
   "id": "2498bffa-3713-45e0-857b-361fc400ec3d",
   "metadata": {},
   "outputs": [
    {
     "data": {
      "text/plain": [
       "<generator object <genexpr> at 0x177f7dcb0>"
      ]
     },
     "execution_count": 75,
     "metadata": {},
     "output_type": "execute_result"
    }
   ],
   "source": [
    "(number ** 2 for number in numbers)  # tule comprehension은 없다 !!!"
   ]
  },
  {
   "cell_type": "markdown",
   "id": "d190e11a-049c-42bf-9006-db1070d3ce1d",
   "metadata": {},
   "source": [
    "# 좋아요 요청"
   ]
  },
  {
   "cell_type": "code",
   "execution_count": 79,
   "id": "997c978f-02e5-4b34-9266-4bb9c9b55d19",
   "metadata": {},
   "outputs": [],
   "source": [
    "conts_ids = \",\".join(df.index)"
   ]
  },
  {
   "cell_type": "code",
   "execution_count": 80,
   "id": "1b8407b9-f2a0-42b3-96ea-77e6d7fd30b1",
   "metadata": {},
   "outputs": [
    {
     "data": {
      "text/plain": [
       "<Response [200]>"
      ]
     },
     "execution_count": 80,
     "metadata": {},
     "output_type": "execute_result"
    }
   ],
   "source": [
    "url = \"https://www.melon.com/commonlike/getSongLike.json\"\n",
    "params = {\n",
    "    \"contsIds\": conts_ids,\n",
    "}\n",
    "\n",
    "res = requests.get(url, params=params, headers=headers)\n",
    "res"
   ]
  },
  {
   "cell_type": "code",
   "execution_count": 90,
   "id": "eaefd818-928b-4765-b77c-5c3ea5d389a1",
   "metadata": {},
   "outputs": [
    {
     "data": {
      "text/plain": [
       "100"
      ]
     },
     "execution_count": 90,
     "metadata": {},
     "output_type": "execute_result"
    }
   ],
   "source": [
    "# dict comprehension\n",
    "likes_dict = {\n",
    "    str(song[\"CONTSID\"]): int(song[\"SUMMCNT\"])\n",
    "    for song in res.json()['contsLike']\n",
    "}\n",
    "len(likes_dict)"
   ]
  },
  {
   "cell_type": "code",
   "execution_count": 91,
   "id": "c117955e-3241-40c4-ab25-4b34057002e8",
   "metadata": {},
   "outputs": [
    {
     "data": {
      "text/plain": [
       "str"
      ]
     },
     "execution_count": 91,
     "metadata": {},
     "output_type": "execute_result"
    }
   ],
   "source": [
    "type(list(likes_dict.keys())[0])"
   ]
  },
  {
   "cell_type": "code",
   "execution_count": 92,
   "id": "b9231ac2-ccaa-4e7c-ba7c-d4d62daf8375",
   "metadata": {},
   "outputs": [
    {
     "name": "stdout",
     "output_type": "stream",
     "text": [
      "(100, 6)\n"
     ]
    },
    {
     "data": {
      "text/html": [
       "<div>\n",
       "<style scoped>\n",
       "    .dataframe tbody tr th:only-of-type {\n",
       "        vertical-align: middle;\n",
       "    }\n",
       "\n",
       "    .dataframe tbody tr th {\n",
       "        vertical-align: top;\n",
       "    }\n",
       "\n",
       "    .dataframe thead th {\n",
       "        text-align: right;\n",
       "    }\n",
       "</style>\n",
       "<table border=\"1\" class=\"dataframe\">\n",
       "  <thead>\n",
       "    <tr style=\"text-align: right;\">\n",
       "      <th></th>\n",
       "      <th>앨범명</th>\n",
       "      <th>곡명</th>\n",
       "      <th>가수명</th>\n",
       "      <th>커버이미지_주소</th>\n",
       "      <th>순위</th>\n",
       "      <th>좋아요수</th>\n",
       "    </tr>\n",
       "    <tr>\n",
       "      <th>곡일련번호</th>\n",
       "      <th></th>\n",
       "      <th></th>\n",
       "      <th></th>\n",
       "      <th></th>\n",
       "      <th></th>\n",
       "      <th></th>\n",
       "    </tr>\n",
       "  </thead>\n",
       "  <tbody>\n",
       "    <tr>\n",
       "      <th>36599950</th>\n",
       "      <td>NewJeans 2nd EP 'Get Up'</td>\n",
       "      <td>Super Shy</td>\n",
       "      <td>NewJeans</td>\n",
       "      <td>https://cdnimg.melon.co.kr/cm2/album/images/11...</td>\n",
       "      <td>1</td>\n",
       "      <td>102894</td>\n",
       "    </tr>\n",
       "    <tr>\n",
       "      <th>36617841</th>\n",
       "      <td>Seven (feat. Latto) - Clean Ver.</td>\n",
       "      <td>Seven (feat. Latto) - Clean Ver.</td>\n",
       "      <td>정국</td>\n",
       "      <td>https://cdnimg.melon.co.kr/cm2/album/images/11...</td>\n",
       "      <td>2</td>\n",
       "      <td>107102</td>\n",
       "    </tr>\n",
       "    <tr>\n",
       "      <th>36635522</th>\n",
       "      <td>NewJeans 2nd EP 'Get Up'</td>\n",
       "      <td>ETA</td>\n",
       "      <td>NewJeans</td>\n",
       "      <td>https://cdnimg.melon.co.kr/cm2/album/images/11...</td>\n",
       "      <td>3</td>\n",
       "      <td>43351</td>\n",
       "    </tr>\n",
       "    <tr>\n",
       "      <th>36430773</th>\n",
       "      <td>I feel</td>\n",
       "      <td>퀸카 (Queencard)</td>\n",
       "      <td>(여자)아이들</td>\n",
       "      <td>https://cdnimg.melon.co.kr/cm2/album/images/11...</td>\n",
       "      <td>4</td>\n",
       "      <td>122594</td>\n",
       "    </tr>\n",
       "    <tr>\n",
       "      <th>36382580</th>\n",
       "      <td>1집 Alone</td>\n",
       "      <td>헤어지자 말해요</td>\n",
       "      <td>박재정</td>\n",
       "      <td>https://cdnimg.melon.co.kr/cm2/album/images/11...</td>\n",
       "      <td>5</td>\n",
       "      <td>88980</td>\n",
       "    </tr>\n",
       "  </tbody>\n",
       "</table>\n",
       "</div>"
      ],
      "text/plain": [
       "                                       앨범명                                곡명  \\\n",
       "곡일련번호                                                                          \n",
       "36599950          NewJeans 2nd EP 'Get Up'                         Super Shy   \n",
       "36617841  Seven (feat. Latto) - Clean Ver.  Seven (feat. Latto) - Clean Ver.   \n",
       "36635522          NewJeans 2nd EP 'Get Up'                               ETA   \n",
       "36430773                            I feel                    퀸카 (Queencard)   \n",
       "36382580                          1집 Alone                          헤어지자 말해요   \n",
       "\n",
       "               가수명                                           커버이미지_주소  순위  \\\n",
       "곡일련번호                                                                       \n",
       "36599950  NewJeans  https://cdnimg.melon.co.kr/cm2/album/images/11...   1   \n",
       "36617841        정국  https://cdnimg.melon.co.kr/cm2/album/images/11...   2   \n",
       "36635522  NewJeans  https://cdnimg.melon.co.kr/cm2/album/images/11...   3   \n",
       "36430773   (여자)아이들  https://cdnimg.melon.co.kr/cm2/album/images/11...   4   \n",
       "36382580       박재정  https://cdnimg.melon.co.kr/cm2/album/images/11...   5   \n",
       "\n",
       "            좋아요수  \n",
       "곡일련번호             \n",
       "36599950  102894  \n",
       "36617841  107102  \n",
       "36635522   43351  \n",
       "36430773  122594  \n",
       "36382580   88980  "
      ]
     },
     "execution_count": 92,
     "metadata": {},
     "output_type": "execute_result"
    }
   ],
   "source": [
    "df[\"좋아요수\"] = likes_dict\n",
    "print(df.shape)\n",
    "df.head()"
   ]
  },
  {
   "cell_type": "code",
   "execution_count": 97,
   "id": "08059a89-a6ea-423d-b7e4-0efd0985e100",
   "metadata": {},
   "outputs": [
    {
     "data": {
      "text/plain": [
       "가수명\n",
       "임영웅                     15\n",
       "NCT DREAM               11\n",
       "NewJeans                10\n",
       "방탄소년단                    6\n",
       "IVE (아이브)                4\n",
       "Charlie Puth             4\n",
       "(여자)아이들                  4\n",
       "정국                       3\n",
       "LE SSERAFIM (르세라핌)       3\n",
       "이무진                      1\n",
       "#안녕                      1\n",
       "윤하 (YOUNHA)              1\n",
       "우디 (Woody)               1\n",
       "오마이걸 (OH MY GIRL)        1\n",
       "세븐틴 (SEVENTEEN)          1\n",
       "성시경                      1\n",
       "이채연                      1\n",
       "제이세라                     1\n",
       "임재현                      1\n",
       "임한별                      1\n",
       "지민                       1\n",
       "지수 (JISOO)               1\n",
       "지아                       1\n",
       "케이시 (Kassy)              1\n",
       "탑현                       1\n",
       "테이                       1\n",
       "부석순 (SEVENTEEN)          1\n",
       "던 (DAWN)                 1\n",
       "박재정                      1\n",
       "The Kid LAROI            1\n",
       "Agust D                  1\n",
       "DK(디셈버)                  1\n",
       "EXO                      1\n",
       "FIFTY FIFTY              1\n",
       "H1-KEY (하이키)             1\n",
       "Lauv                     1\n",
       "Paul Blanco              1\n",
       "STAYC(스테이씨)              1\n",
       "ZEROBASEONE (제로베이스원)     1\n",
       "멜로망스                     1\n",
       "aespa                    1\n",
       "imase                    1\n",
       "j-hope                   1\n",
       "경서                       1\n",
       "경서예지                     1\n",
       "김민석 (멜로망스)               1\n",
       "김호중                      1\n",
       "로이킴                      1\n",
       "허각                       1\n",
       "dtype: int64"
      ]
     },
     "execution_count": 97,
     "metadata": {},
     "output_type": "execute_result"
    }
   ],
   "source": [
    "song_count_series = df.groupby(\"가수명\").size().sort_values(ascending=False)\n",
    "song_count_series"
   ]
  },
  {
   "cell_type": "code",
   "execution_count": 100,
   "id": "ca9c89b9-9a05-4e36-ac9e-dfe0a6e00615",
   "metadata": {},
   "outputs": [],
   "source": [
    "import matplotlib.pyplot as plt\n",
    "import platform\n",
    "\n",
    "if platform.system() == \"Darwin\":\n",
    "    plt.rc(\"font\", family=\"AppleGothic\")  # macOS 시스템 기본 폰트\n",
    "\n",
    "elif platform.system() == \"Windows\":\n",
    "    plt.rc(\"font\", family=\"Malgun Gothic\")  # Windows 시스템 기본 폰트"
   ]
  },
  {
   "cell_type": "code",
   "execution_count": 103,
   "id": "1019c659-eaec-443a-8630-2666cb73f256",
   "metadata": {},
   "outputs": [
    {
     "data": {
      "text/plain": [
       "<Axes: xlabel='가수명'>"
      ]
     },
     "execution_count": 103,
     "metadata": {},
     "output_type": "execute_result"
    },
    {
     "data": {
      "image/png": "[encoded data removed]",
      "text/plain": [
       "<Figure size 2000x500 with 1 Axes>"
      ]
     },
     "metadata": {},
     "output_type": "display_data"
    }
   ],
   "source": [
    "song_count_series.plot(kind=\"bar\", figsize=(20, 5)) "
   ]
  },
  {
   "cell_type": "code",
   "execution_count": 109,
   "id": "20c40b9d-020e-45fc-94e3-07fccca418ac",
   "metadata": {},
   "outputs": [
    {
     "data": {
      "text/plain": [
       "가수명\n",
       "임영웅                   15\n",
       "NCT DREAM             11\n",
       "NewJeans              10\n",
       "방탄소년단                  6\n",
       "IVE (아이브)              4\n",
       "Charlie Puth           4\n",
       "(여자)아이들                4\n",
       "정국                     3\n",
       "LE SSERAFIM (르세라핌)     3\n",
       "dtype: int64"
      ]
     },
     "execution_count": 109,
     "metadata": {},
     "output_type": "execute_result"
    }
   ],
   "source": [
    "mask = song_count_series > 1  # boolean mask\n",
    "chart_series = song_count_series[mask]\n",
    "chart_series"
   ]
  },
  {
   "cell_type": "code",
   "execution_count": 114,
   "id": "8852bcac-c4cb-4615-afcc-1ea392238438",
   "metadata": {},
   "outputs": [
    {
     "data": {
      "text/plain": [
       "가수명\n",
       "임영웅                   15\n",
       "NCT DREAM             11\n",
       "NewJeans              10\n",
       "방탄소년단                  6\n",
       "IVE (아이브)              4\n",
       "Charlie Puth           4\n",
       "(여자)아이들                4\n",
       "정국                     3\n",
       "LE SSERAFIM (르세라핌)     3\n",
       "Others                40\n",
       "dtype: int64"
      ]
     },
     "execution_count": 114,
     "metadata": {},
     "output_type": "execute_result"
    }
   ],
   "source": [
    "mask = song_count_series == 1\n",
    "chart_series[\"Others\"] = song_count_series[mask].sum()\n",
    "chart_series"
   ]
  },
  {
   "cell_type": "code",
   "execution_count": 117,
   "id": "591c5a33-ceb7-41cf-a6e9-1979643751a7",
   "metadata": {},
   "outputs": [
    {
     "data": {
      "text/plain": [
       "<Axes: >"
      ]
     },
     "execution_count": 117,
     "metadata": {},
     "output_type": "execute_result"
    },
    {
     "data": {
      "image/png": "[encoded data removed]",
      "text/plain": [
       "<Figure size 640x480 with 1 Axes>"
      ]
     },
     "metadata": {},
     "output_type": "display_data"
    }
   ],
   "source": [
    "chart_series.plot(kind=\"pie\")"
   ]
  },
  {
   "cell_type": "code",
   "execution_count": null,
   "id": "bacfa76e-185b-475e-84a5-6c352b2fbf83",
   "metadata": {},
   "outputs": [],
   "source": []
  }
 ],
 "metadata": {
  "kernelspec": {
   "display_name": "Python 3 (ipykernel)",
   "language": "python",
   "name": "python3"
  },
  "language_info": {
   "codemirror_mode": {
    "name": "ipython",
    "version": 3
   },
   "file_extension": ".py",
   "mimetype": "text/x-python",
   "name": "python",
   "nbconvert_exporter": "python",
   "pygments_lexer": "ipython3",
   "version": "3.11.3"
  }
 },
 "nbformat": 4,
 "nbformat_minor": 5
}
