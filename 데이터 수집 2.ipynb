{
 "cells": [
  {
   "cell_type": "code",
   "execution_count": 1,
   "id": "d7aac996-58cd-47ca-941c-7948cf7c43d6",
   "metadata": {},
   "outputs": [],
   "source": [
    "import requests\n",
    "from bs4 import BeautifulSoup"
   ]
  },
  {
   "cell_type": "code",
   "execution_count": 2,
   "id": "988c7894-8072-49d8-9bc2-7299780c5d2e",
   "metadata": {},
   "outputs": [],
   "source": [
    "url = \"https://news.naver.com/main/list.naver?mode=LS2D&mid=shm&sid1=103&sid2=238\""
   ]
  },
  {
   "cell_type": "code",
   "execution_count": 4,
   "id": "fedb7dfe-0016-4a51-a19d-9ae3dc6dd76c",
   "metadata": {},
   "outputs": [],
   "source": [
    "headers = {\n",
    "    \"User-Agent\": \"Mozilla/5.0 (Macintosh; Intel Mac OS X 10_15_7) AppleWebKit/537.36 (KHTML, like Gecko) Chrome/114.0.0.0 Safari/537.36\",\n",
    "}"
   ]
  },
  {
   "cell_type": "code",
   "execution_count": 5,
   "id": "d59bbb42-5999-467a-a1f0-d05d2b031f15",
   "metadata": {},
   "outputs": [
    {
     "data": {
      "text/plain": [
       "<Response [200]>"
      ]
     },
     "execution_count": 5,
     "metadata": {},
     "output_type": "execute_result"
    }
   ],
   "source": [
    "res = requests.get(url, headers=headers)\n",
    "res"
   ]
  },
  {
   "cell_type": "code",
   "execution_count": 6,
   "id": "6894a191-f962-49c9-bf9c-35469fcb31e1",
   "metadata": {},
   "outputs": [
    {
     "data": {
      "text/plain": [
       "177647"
      ]
     },
     "execution_count": 6,
     "metadata": {},
     "output_type": "execute_result"
    }
   ],
   "source": [
    "html = res.text\n",
    "len(html)"
   ]
  },
  {
   "cell_type": "code",
   "execution_count": 7,
   "id": "749c60c2-3df1-4e39-a299-dcc82a545fff",
   "metadata": {},
   "outputs": [],
   "source": [
    "soup = BeautifulSoup(html, \"html.parser\")"
   ]
  },
  {
   "cell_type": "code",
   "execution_count": 10,
   "id": "b9345cd9-161f-44ec-8dd0-7fba25c1a29b",
   "metadata": {},
   "outputs": [
    {
     "data": {
      "text/plain": [
       "40"
      ]
     },
     "execution_count": 10,
     "metadata": {},
     "output_type": "execute_result"
    }
   ],
   "source": [
    "tag_list = soup.select(\".list_body a\")  # .select 는 태그 리스트를 반환\n",
    "len(tag_list)"
   ]
  },
  {
   "cell_type": "code",
   "execution_count": 14,
   "id": "58055e9f-e030-4c70-885a-b2a43fc428d2",
   "metadata": {},
   "outputs": [
    {
     "name": "stdout",
     "output_type": "stream",
     "text": [
      "''\n"
     ]
    }
   ],
   "source": [
    "tag = tag_list[0]\n",
    "print(repr(tag.text.strip()))  # 문자열에서 좌/우 화이트 스페이스 문자들을 제거"
   ]
  },
  {
   "cell_type": "code",
   "execution_count": 15,
   "id": "fc09d689-3e3a-41df-abf1-fe0a184ae833",
   "metadata": {},
   "outputs": [
    {
     "name": "stdout",
     "output_type": "stream",
     "text": [
      "'남양유업, 집중호우 피해 전북 지역에 음료 1만8000개 지원'\n"
     ]
    }
   ],
   "source": [
    "tag = tag_list[1]\n",
    "print(repr(tag.text.strip()))"
   ]
  },
  {
   "cell_type": "code",
   "execution_count": 20,
   "id": "66eafb8d-8991-4985-b401-f41d4e7a4b65",
   "metadata": {},
   "outputs": [
    {
     "name": "stdout",
     "output_type": "stream",
     "text": [
      "'hello'\n"
     ]
    }
   ],
   "source": [
    "print(repr(\"hello\"))"
   ]
  },
  {
   "cell_type": "code",
   "execution_count": 23,
   "id": "f28a6b86-0a75-4c76-8562-7cdb3b48ec68",
   "metadata": {},
   "outputs": [
    {
     "name": "stdout",
     "output_type": "stream",
     "text": [
      "남양유업, 집중호우 피해 전북 지역에 음료 1만8000개 지원\n",
      "https://n.news.naver.com/mnews/article/277/0005290546?sid=103\n",
      "\n",
      "크라운해태, 수해 지역·군부대에 1억원 상당 과자 지원\n",
      "https://n.news.naver.com/mnews/article/277/0005290541?sid=103\n",
      "\n",
      "'피자집' 파파존스, 치킨시장 진출한다\n",
      "https://n.news.naver.com/mnews/article/015/0004871661?sid=103\n",
      "\n",
      "SPC 비알코리아, 집중호우 피해 지역 지원\n",
      "https://n.news.naver.com/mnews/article/277/0005290449?sid=103\n",
      "\n",
      "대상, 설탕 대체 천연 감미료 알룰로스 본격 생산\n",
      "https://n.news.naver.com/mnews/article/648/0000018127?sid=103\n",
      "\n",
      "CJ프레시웨이, 암 환자 영양관리 전문가 육성 나서\n",
      "https://n.news.naver.com/mnews/article/277/0005290428?sid=103\n",
      "\n",
      "hy, 피카츄로 외관 감싼 냉장카트 '피카츄 코코' 선봬\n",
      "https://n.news.naver.com/mnews/article/277/0005290422?sid=103\n",
      "\n",
      "브리티시오픈 기념 공식 위스키 2종 출시\n",
      "https://n.news.naver.com/mnews/article/145/0000019226?sid=103\n",
      "\n",
      "먹방 유튜버 ‘히밥’ 첫 브랜드, 11번가에서 선판매\n",
      "https://n.news.naver.com/mnews/article/138/0002152857?sid=103\n",
      "\n",
      "KT&G, '릴 하이브리드 3.0' 출시…\"3가지 모드 장착\"\n",
      "https://n.news.naver.com/mnews/article/277/0005290372?sid=103\n",
      "\n",
      "하이트진로, 佛 루아르 프리미엄 와인 '끌로 후자' 출시\n",
      "https://n.news.naver.com/mnews/article/277/0005290367?sid=103\n",
      "\n",
      "\"새만금 잼버리 인기 메뉴는 K-푸드…전체 주문의 37%\"\n",
      "https://n.news.naver.com/mnews/article/277/0005290337?sid=103\n",
      "\n",
      "무신사, 테라스 성수서 '푸마 스페셜위크' 팝업 진행\n",
      "https://n.news.naver.com/mnews/article/277/0005290332?sid=103\n",
      "\n",
      "대상, 천연감미료 '알룰로스' 본격 생산\n",
      "https://n.news.naver.com/mnews/article/277/0005290328?sid=103\n",
      "\n",
      "파파존스도 치킨 시장 '도전장'\n",
      "https://n.news.naver.com/mnews/article/648/0000018123?sid=103\n",
      "\n",
      "샘표, 초등학생 가족과 온라인 쿠킹 클래스 진행\n",
      "https://n.news.naver.com/mnews/article/277/0005290315?sid=103\n",
      "\n",
      "BAT로스만스, 美 1위 액상형 전자담배 '뷰즈' 출시\n",
      "https://n.news.naver.com/mnews/article/277/0005290310?sid=103\n",
      "\n",
      "한국파파존스, 치킨시장에 도전장…‘마마치킨’ 론칭\n",
      "https://n.news.naver.com/mnews/article/277/0005290306?sid=103\n",
      "\n",
      "CJ제일제당, 글루타치온 원료 '액티브엔리치 부스트' 출시\n",
      "https://n.news.naver.com/mnews/article/277/0005290299?sid=103\n",
      "\n",
      "신세계푸드, '올바르고 반듯한' 간식 간편식 5종 선봬\n",
      "https://n.news.naver.com/mnews/article/277/0005290295?sid=103\n",
      "\n"
     ]
    }
   ],
   "source": [
    "for tag in tag_list:\n",
    "    link = tag[\"href\"]\n",
    "    label = tag.text.strip()\n",
    "    # if label:\n",
    "    if len(label) > 0:\n",
    "        print(label)\n",
    "        print(link)\n",
    "        print()"
   ]
  },
  {
   "cell_type": "markdown",
   "id": "98a32297-9383-49db-9450-192b0ccc2083",
   "metadata": {},
   "source": [
    "# 한 줄 문자열을 여러 줄로 나눠 써봅시다."
   ]
  },
  {
   "cell_type": "code",
   "execution_count": 25,
   "id": "0f632a9a-202e-4c3c-9ae8-ce04acd94140",
   "metadata": {},
   "outputs": [
    {
     "data": {
      "text/plain": [
       "'ABC'"
      ]
     },
     "execution_count": 25,
     "metadata": {},
     "output_type": "execute_result"
    }
   ],
   "source": [
    "user_agent = \"ABC\"\n",
    "user_agent"
   ]
  },
  {
   "cell_type": "code",
   "execution_count": 26,
   "id": "11b121c0-6a0a-449d-95ce-dcf870dd6e40",
   "metadata": {},
   "outputs": [
    {
     "data": {
      "text/plain": [
       "'ABC'"
      ]
     },
     "execution_count": 26,
     "metadata": {},
     "output_type": "execute_result"
    }
   ],
   "source": [
    "user_agent = \"A\" + \"B\" + \"C\"\n",
    "user_agent"
   ]
  },
  {
   "cell_type": "code",
   "execution_count": 27,
   "id": "729d5d94-62bb-4e78-9c59-31d4b9f36e4a",
   "metadata": {},
   "outputs": [
    {
     "data": {
      "text/plain": [
       "'ABC'"
      ]
     },
     "execution_count": 27,
     "metadata": {},
     "output_type": "execute_result"
    }
   ],
   "source": [
    "user_agent = \"A\" + \\\n",
    "    \"B\" + \\\n",
    "    \"C\"\n",
    "user_agent"
   ]
  },
  {
   "cell_type": "code",
   "execution_count": 30,
   "id": "e30c3e17-5285-4472-ac8b-9d932e7db081",
   "metadata": {},
   "outputs": [
    {
     "data": {
      "text/plain": [
       "('A', 'BC')"
      ]
     },
     "execution_count": 30,
     "metadata": {},
     "output_type": "execute_result"
    }
   ],
   "source": [
    "user_agent = (\n",
    "    \"A\",\n",
    "    \"B\"\n",
    "    \"C\"\n",
    ") \n",
    "user_agent"
   ]
  },
  {
   "cell_type": "code",
   "execution_count": null,
   "id": "07be90a8-7534-4a91-b459-fa9e22e3a0c9",
   "metadata": {},
   "outputs": [],
   "source": []
  },
  {
   "cell_type": "code",
   "execution_count": null,
   "id": "07c8834b-cabc-499b-91fe-3ef5e1db3810",
   "metadata": {},
   "outputs": [],
   "source": []
  },
  {
   "cell_type": "code",
   "execution_count": null,
   "id": "d7bbf22d-cbab-4ca1-a8f4-40352e2f18a3",
   "metadata": {},
   "outputs": [],
   "source": []
  }
 ],
 "metadata": {
  "kernelspec": {
   "display_name": "Python 3 (ipykernel)",
   "language": "python",
   "name": "python3"
  },
  "language_info": {
   "codemirror_mode": {
    "name": "ipython",
    "version": 3
   },
   "file_extension": ".py",
   "mimetype": "text/x-python",
   "name": "python",
   "nbconvert_exporter": "python",
   "pygments_lexer": "ipython3",
   "version": "3.11.3"
  }
 },
 "nbformat": 4,
 "nbformat_minor": 5
}
