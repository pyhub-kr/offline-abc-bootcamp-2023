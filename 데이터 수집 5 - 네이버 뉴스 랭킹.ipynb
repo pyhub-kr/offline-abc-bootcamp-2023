{
 "cells": [
  {
   "cell_type": "code",
   "execution_count": 1,
   "id": "65c9a3f2-4615-40bc-a85d-ea177e5779ae",
   "metadata": {},
   "outputs": [
    {
     "data": {
      "text/plain": [
       "'9분전'"
      ]
     },
     "execution_count": 1,
     "metadata": {},
     "output_type": "execute_result"
    }
   ],
   "source": [
    "\"10일전\"\n",
    "\"8시간전\"\n",
    "\"9분전\""
   ]
  },
  {
   "cell_type": "code",
   "execution_count": 2,
   "id": "c150492d-14c8-44bb-b3d6-19032df2a230",
   "metadata": {},
   "outputs": [],
   "source": [
    "import datetime"
   ]
  },
  {
   "cell_type": "code",
   "execution_count": 3,
   "id": "8adbb03d-0cae-4394-87b8-b40e853355c9",
   "metadata": {},
   "outputs": [
    {
     "data": {
      "text/plain": [
       "datetime.datetime(2023, 7, 15, 7, 51, 38, 489342)"
      ]
     },
     "execution_count": 3,
     "metadata": {},
     "output_type": "execute_result"
    }
   ],
   "source": [
    "datetime.datetime.now() - datetime.timedelta(days=10, hours=8, minutes=9)"
   ]
  },
  {
   "cell_type": "code",
   "execution_count": 4,
   "id": "880ae7b3-cae1-432c-a17b-5a25c5069774",
   "metadata": {},
   "outputs": [
    {
     "data": {
      "text/plain": [
       "datetime.datetime(2023, 7, 15, 16, 0, 38, 495515)"
      ]
     },
     "execution_count": 4,
     "metadata": {},
     "output_type": "execute_result"
    }
   ],
   "source": [
    "published_delta = \"10일전\"  # 8시간전, 9분전\n",
    "published_at = datetime.datetime.now()\n",
    "\n",
    "if \"일전\" in published_delta:\n",
    "    days = int(published_delta.replace(\"일전\", \"\"))\n",
    "    published_at -= datetime.timedelta(days=days)\n",
    "elif \"시간전\" in published_delta:\n",
    "    hours = int(published_delta.replace(\"시간전\", \"\"))\n",
    "    published_at -= datetime.timedelta(hours=hours)\n",
    "elif \"분전\" in published_delta:\n",
    "    minutes = int(published_delta.replace(\"분전\", \"\"))\n",
    "    published_at -= datetime.timedelta(minutes=minutes)\n",
    "else:  # else를 빼먹지 않는다 !!!\n",
    "    raise ValueError(f\"지원하지 않는 포맷입니다. : {published_delta}\")\n",
    "\n",
    "published_at"
   ]
  },
  {
   "cell_type": "markdown",
   "id": "855ab3d8-d83b-4125-a34c-3b51f775d017",
   "metadata": {},
   "source": [
    "# 크롤링"
   ]
  },
  {
   "cell_type": "code",
   "execution_count": 5,
   "id": "bf957304-11bd-4154-b53a-f51c791f7a1e",
   "metadata": {},
   "outputs": [],
   "source": [
    "import requests\n",
    "from bs4 import BeautifulSoup"
   ]
  },
  {
   "cell_type": "code",
   "execution_count": 7,
   "id": "e01717f1-4170-4a4d-9c45-9a66a0d8f604",
   "metadata": {},
   "outputs": [
    {
     "data": {
      "text/plain": [
       "<Response [200]>"
      ]
     },
     "execution_count": 7,
     "metadata": {},
     "output_type": "execute_result"
    }
   ],
   "source": [
    "headers = {\n",
    "    \"User-Agent\": \"Mozilla/5.0 (Macintosh; Intel Mac OS X 10_15_7) AppleWebKit/537.36 (KHTML, like Gecko) Chrome/114.0.0.0 Safari/537.36\",\n",
    "}\n",
    "\n",
    "url = \"https://news.naver.com/main/ranking/popularDay.naver\"\n",
    "res = requests.get(url, headers=headers)\n",
    "res"
   ]
  },
  {
   "cell_type": "code",
   "execution_count": 9,
   "id": "8b3fef87-3021-4d36-afed-32113058f012",
   "metadata": {},
   "outputs": [
    {
     "data": {
      "text/plain": [
       "447282"
      ]
     },
     "execution_count": 9,
     "metadata": {},
     "output_type": "execute_result"
    }
   ],
   "source": [
    "html = res.text\n",
    "len(html)"
   ]
  },
  {
   "cell_type": "code",
   "execution_count": 22,
   "id": "14dc97b2-67bf-4133-b295-b41393e6945c",
   "metadata": {},
   "outputs": [
    {
     "data": {
      "text/plain": [
       "83"
      ]
     },
     "execution_count": 22,
     "metadata": {},
     "output_type": "execute_result"
    }
   ],
   "source": [
    "soup = BeautifulSoup(html, \"html.parser\")\n",
    "\n",
    "press_wrap_tag_list = soup.select(\".rankingnews_box\")\n",
    "len(press_wrap_tag_list)"
   ]
  },
  {
   "cell_type": "code",
   "execution_count": 35,
   "id": "13afd11c-7eb3-4938-ac36-44a478672c3b",
   "metadata": {},
   "outputs": [
    {
     "data": {
      "text/plain": [
       "[{'press': 'SBS',\n",
       "  'url': 'https://n.news.naver.com/article/055/0001076059?ntype=RANKING',\n",
       "  'title': '[Pick] 담임에게 욕하던 초등생, 영상 찍고 변기 뚜껑 들고 대치',\n",
       "  'published_delta': '5시간전'},\n",
       " {'press': 'SBS',\n",
       "  'url': 'https://n.news.naver.com/article/055/0001076015?ntype=RANKING',\n",
       "  'title': '\"익충이지만 없으니 속 시원\"…러브버그 안 보이는 이유',\n",
       "  'published_delta': '7시간전'},\n",
       " {'press': 'SBS',\n",
       "  'url': 'https://n.news.naver.com/article/055/0001076089?ntype=RANKING',\n",
       "  'title': '[영상] 배에서 바다로 뛰어들어 밀입국 시도…방글라데시인 2명 검거',\n",
       "  'published_delta': '3시간전'},\n",
       " {'press': 'SBS',\n",
       "  'url': 'https://n.news.naver.com/article/055/0001076102?ntype=RANKING',\n",
       "  'title': '혼자 온 9세 돌려보냈더니 \\'민원\\'…동네 유일 소아과 \"폐업\"',\n",
       "  'published_delta': '2시간전'},\n",
       " {'press': 'SBS',\n",
       "  'url': 'https://n.news.naver.com/article/055/0001076077?ntype=RANKING',\n",
       "  'title': '이화영, 아내가 낸 일부 변호인 해임신고서에 \"내 의사 아냐\"',\n",
       "  'published_delta': '4시간전'}]"
      ]
     },
     "execution_count": 35,
     "metadata": {},
     "output_type": "execute_result"
    }
   ],
   "source": [
    "press_wrap_tag = press_wrap_tag_list[0]\n",
    "press_name = press_wrap_tag.select_one(\".rankingnews_name\").text\n",
    "\n",
    "article_wrap_tag_list = press_wrap_tag.select(\".rankingnews_list li\")\n",
    "\n",
    "article_list = []\n",
    "\n",
    "for article_wrap_tag in article_wrap_tag_list:\n",
    "    article_url = article_wrap_tag.select_one(\".list_title\")[\"href\"]\n",
    "    article_title = article_wrap_tag.select_one(\".list_title\").text\n",
    "    article_published_delta = article_wrap_tag.select_one(\".list_time\").text\n",
    "\n",
    "    article = {\n",
    "        \"press\": press_name,\n",
    "        \"url\": article_url,\n",
    "        \"title\": article_title,\n",
    "        \"published_delta\": article_published_delta,\n",
    "    }\n",
    "    article_list.append(article)\n",
    "\n",
    "article_list"
   ]
  },
  {
   "cell_type": "code",
   "execution_count": null,
   "id": "bde1e20e-6671-4cdf-8771-59f1cb701136",
   "metadata": {},
   "outputs": [],
   "source": []
  },
  {
   "cell_type": "code",
   "execution_count": null,
   "id": "45610a2b-1f47-44ef-8191-b9c457e35d4a",
   "metadata": {},
   "outputs": [],
   "source": []
  },
  {
   "cell_type": "code",
   "execution_count": null,
   "id": "f244fc36-8164-4e3b-ac7a-f1027ce8e717",
   "metadata": {},
   "outputs": [],
   "source": [
    "# article_list = [\n",
    "#     { \"press\": \"머니투데이\", \"title\": \"장마 안끝났는데 태풍 '독수리' 북상 중…한반도 영향 받나\", \"published_at\": datetime.datetime(2023, 7, 15, 15, 42, 21, 835557) },\n",
    "# ]"
   ]
  },
  {
   "cell_type": "code",
   "execution_count": null,
   "id": "85542ca8-7508-4507-af13-6ac4fe5a15f7",
   "metadata": {},
   "outputs": [],
   "source": []
  }
 ],
 "metadata": {
  "kernelspec": {
   "display_name": "Python 3 (ipykernel)",
   "language": "python",
   "name": "python3"
  },
  "language_info": {
   "codemirror_mode": {
    "name": "ipython",
    "version": 3
   },
   "file_extension": ".py",
   "mimetype": "text/x-python",
   "name": "python",
   "nbconvert_exporter": "python",
   "pygments_lexer": "ipython3",
   "version": "3.11.3"
  }
 },
 "nbformat": 4,
 "nbformat_minor": 5
}
