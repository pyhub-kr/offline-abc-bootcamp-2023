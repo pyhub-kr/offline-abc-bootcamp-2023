{
 "cells": [
  {
   "cell_type": "code",
   "execution_count": 1,
   "id": "150827b8",
   "metadata": {},
   "outputs": [],
   "source": [
    "import requests\n",
    "from bs4 import BeautifulSoup"
   ]
  },
  {
   "cell_type": "code",
   "execution_count": 10,
   "id": "701cf5d2",
   "metadata": {},
   "outputs": [],
   "source": [
    "url = \"https://m.comic.naver.com/webtoon/list?titleId=747269\""
   ]
  },
  {
   "cell_type": "code",
   "execution_count": 11,
   "id": "deffa59a",
   "metadata": {},
   "outputs": [],
   "source": [
    "headers = {\n",
    "    \"User-Agent\": \"Mozilla/5.0 (Windows NT 10.0; Win64; x64) AppleWebKit/537.36 (KHTML, like Gecko) Chrome/115.0.0.0 Safari/537.36\",\n",
    "}"
   ]
  },
  {
   "cell_type": "code",
   "execution_count": 12,
   "id": "49e42447",
   "metadata": {},
   "outputs": [
    {
     "data": {
      "text/plain": [
       "<Response [200]>"
      ]
     },
     "execution_count": 12,
     "metadata": {},
     "output_type": "execute_result"
    }
   ],
   "source": [
    "res = requests.get(url, headers=headers)\n",
    "res"
   ]
  },
  {
   "cell_type": "code",
   "execution_count": 13,
   "id": "b53aa2ff",
   "metadata": {},
   "outputs": [
    {
     "data": {
      "text/plain": [
       "49170"
      ]
     },
     "execution_count": 13,
     "metadata": {},
     "output_type": "execute_result"
    }
   ],
   "source": [
    "html = res.text\n",
    "len(html)"
   ]
  },
  {
   "cell_type": "code",
   "execution_count": 14,
   "id": "f161f373",
   "metadata": {},
   "outputs": [],
   "source": [
    "soup = BeautifulSoup(html, \"html.parser\")"
   ]
  },
  {
   "cell_type": "code",
   "execution_count": 15,
   "id": "13bd3c1f",
   "metadata": {},
   "outputs": [
    {
     "data": {
      "text/plain": [
       "30"
      ]
     },
     "execution_count": 15,
     "metadata": {},
     "output_type": "execute_result"
    }
   ],
   "source": [
    "tag_list = soup.select(\".preview a\") # .select는 태그 리스트 반환\n",
    "len(tag_list)"
   ]
  },
  {
   "cell_type": "code",
   "execution_count": 35,
   "id": "8be3a0e4",
   "metadata": {},
   "outputs": [
    {
     "name": "stdout",
     "output_type": "stream",
     "text": [
      "'162. Ep. 28 최강의 희생양 (6)'\n"
     ]
    }
   ],
   "source": [
    "tag = tag_list[0]\n",
    "print(repr(tag.select(\".name\")[0].text))"
   ]
  },
  {
   "cell_type": "code",
   "execution_count": 23,
   "id": "2aab87e9",
   "metadata": {},
   "outputs": [
    {
     "name": "stdout",
     "output_type": "stream",
     "text": [
      "'161. Ep. 28 최강의 희생양 (5)'\n"
     ]
    }
   ],
   "source": [
    "tag = tag_list[1]\n",
    "print(repr(tag.select(\".name\")[0].text))"
   ]
  },
  {
   "cell_type": "code",
   "execution_count": 43,
   "id": "ae98302a",
   "metadata": {
    "scrolled": true
   },
   "outputs": [
    {
     "name": "stdout",
     "output_type": "stream",
     "text": [
      "162. Ep. 28 최강의 희생양 (6)\n",
      "https://m.comic.naver.com/link/webtoon/detail?titleId=747269&no=163&week=wed&listSortOrder=DESC&listPage=1\n",
      "\n",
      "161. Ep. 28 최강의 희생양 (5)\n",
      "https://m.comic.naver.com/link/webtoon/detail?titleId=747269&no=162&week=wed&listSortOrder=DESC&listPage=1\n",
      "\n",
      "160. Ep. 28 최강의 희생양 (4)\n",
      "https://m.comic.naver.com/link/webtoon/detail?titleId=747269&no=161&week=wed&listSortOrder=DESC&listPage=1\n",
      "\n",
      "159. Ep. 28 최강의 희생양 (3)\n",
      "https://m.comic.naver.com/link/webtoon/detail?titleId=747269&no=160&week=wed&listSortOrder=DESC&listPage=1\n",
      "\n",
      "158. Ep. 28 최강의 희생양 (2)\n",
      "https://m.comic.naver.com/link/webtoon/detail?titleId=747269&no=159&week=wed&listSortOrder=DESC&listPage=1\n",
      "\n",
      "157. Ep. 28 최강의 희생양 (1)\n",
      "https://m.comic.naver.com/link/webtoon/detail?titleId=747269&no=158&week=wed&listSortOrder=DESC&listPage=1\n",
      "\n",
      "156. Ep. 27 읽을 수 없는 것 (4)\n",
      "https://m.comic.naver.com/link/webtoon/detail?titleId=747269&no=157&week=wed&listSortOrder=DESC&listPage=1\n",
      "\n",
      "155. Ep. 27 읽을 수 없는 것 (3)\n",
      "https://m.comic.naver.com/link/webtoon/detail?titleId=747269&no=156&week=wed&listSortOrder=DESC&listPage=1\n",
      "\n",
      "154. Ep. 27 읽을 수 없는 것 (2)\n",
      "https://m.comic.naver.com/link/webtoon/detail?titleId=747269&no=155&week=wed&listSortOrder=DESC&listPage=1\n",
      "\n",
      "153. Ep. 27 읽을 수 없는 것 (1)\n",
      "https://m.comic.naver.com/link/webtoon/detail?titleId=747269&no=154&week=wed&listSortOrder=DESC&listPage=1\n",
      "\n",
      "152. Ep. 26 시나리오 파괴자 (9)\n",
      "https://m.comic.naver.com/link/webtoon/detail?titleId=747269&no=153&week=wed&listSortOrder=DESC&listPage=1\n",
      "\n",
      "151. Ep. 26 시나리오 파괴자 (8)\n",
      "https://m.comic.naver.com/link/webtoon/detail?titleId=747269&no=152&week=wed&listSortOrder=DESC&listPage=1\n",
      "\n",
      "150. Ep. 26 시나리오 파괴자 (7)\n",
      "https://m.comic.naver.com/link/webtoon/detail?titleId=747269&no=151&week=wed&listSortOrder=DESC&listPage=1\n",
      "\n",
      "149. Ep. 26 시나리오 파괴자 (6)\n",
      "https://m.comic.naver.com/link/webtoon/detail?titleId=747269&no=150&week=wed&listSortOrder=DESC&listPage=1\n",
      "\n",
      "148. Ep. 26 시나리오 파괴자 (5)\n",
      "https://m.comic.naver.com/link/webtoon/detail?titleId=747269&no=149&week=wed&listSortOrder=DESC&listPage=1\n",
      "\n",
      "147. Ep. 26 시나리오 파괴자 (4)\n",
      "https://m.comic.naver.com/link/webtoon/detail?titleId=747269&no=148&week=wed&listSortOrder=DESC&listPage=1\n",
      "\n",
      "146. Ep. 26 시나리오 파괴자 (3)\n",
      "https://m.comic.naver.com/link/webtoon/detail?titleId=747269&no=147&week=wed&listSortOrder=DESC&listPage=1\n",
      "\n",
      "145. Ep. 26 시나리오 파괴자 (2)\n",
      "https://m.comic.naver.com/link/webtoon/detail?titleId=747269&no=146&week=wed&listSortOrder=DESC&listPage=1\n",
      "\n",
      "144. Ep. 26 시나리오 파괴자 (1)\n",
      "https://m.comic.naver.com/link/webtoon/detail?titleId=747269&no=145&week=wed&listSortOrder=DESC&listPage=1\n",
      "\n",
      "143. Ep. 25 신과 마주 보는 자들 (9)\n",
      "https://m.comic.naver.com/link/webtoon/detail?titleId=747269&no=144&week=wed&listSortOrder=DESC&listPage=1\n",
      "\n",
      "142. Ep. 25 신과 마주 보는 자들 (8)\n",
      "https://m.comic.naver.com/link/webtoon/detail?titleId=747269&no=143&week=wed&listSortOrder=DESC&listPage=1\n",
      "\n",
      "141. Ep. 25 신과 마주 보는 자들 (7)\n",
      "https://m.comic.naver.com/link/webtoon/detail?titleId=747269&no=142&week=wed&listSortOrder=DESC&listPage=1\n",
      "\n",
      "140. Ep. 25 신과 마주 보는 자들 (6)\n",
      "https://m.comic.naver.com/link/webtoon/detail?titleId=747269&no=141&week=wed&listSortOrder=DESC&listPage=1\n",
      "\n",
      "139. Ep. 25 신과 마주 보는 자들 (5)\n",
      "https://m.comic.naver.com/link/webtoon/detail?titleId=747269&no=140&week=wed&listSortOrder=DESC&listPage=1\n",
      "\n",
      "138. Ep. 25 신과 마주 보는 자들 (4)\n",
      "https://m.comic.naver.com/link/webtoon/detail?titleId=747269&no=139&week=wed&listSortOrder=DESC&listPage=1\n",
      "\n",
      "137. Ep. 25 신과 마주 보는 자들 (3)\n",
      "https://m.comic.naver.com/link/webtoon/detail?titleId=747269&no=138&week=wed&listSortOrder=DESC&listPage=1\n",
      "\n",
      "136. Ep. 25 신과 마주 보는 자들 (2)\n",
      "https://m.comic.naver.com/link/webtoon/detail?titleId=747269&no=137&week=wed&listSortOrder=DESC&listPage=1\n",
      "\n",
      "135. Ep. 25 신과 마주 보는 자들 (1)\n",
      "https://m.comic.naver.com/link/webtoon/detail?titleId=747269&no=136&week=wed&listSortOrder=DESC&listPage=1\n",
      "\n",
      "134. Ep. 24 바꿀 수 있는 것 (9)\n",
      "https://m.comic.naver.com/link/webtoon/detail?titleId=747269&no=135&week=wed&listSortOrder=DESC&listPage=1\n",
      "\n",
      "133. Ep. 24 바꿀 수 있는 것 (8)\n",
      "https://m.comic.naver.com/link/webtoon/detail?titleId=747269&no=134&week=wed&listSortOrder=DESC&listPage=1\n",
      "\n"
     ]
    }
   ],
   "source": [
    "for tag in tag_list:\n",
    "    link = tag[\"href\"]\n",
    "    label = tag.select(\".name\")[0].text\n",
    "    if len(label) > 0:\n",
    "        print(label)\n",
    "        print(\"https://m.comic.naver.com/link\" + link)\n",
    "        print()"
   ]
  },
  {
   "cell_type": "code",
   "execution_count": 45,
   "id": "905f7949",
   "metadata": {
    "scrolled": true
   },
   "outputs": [
    {
     "data": {
      "text/plain": [
       "'전지적 독자 시점'"
      ]
     },
     "execution_count": 45,
     "metadata": {},
     "output_type": "execute_result"
    }
   ],
   "source": [
    "import os\n",
    "\n",
    "filepath = \"전지적 독자 시점/test.txt\"  \n",
    "dir_path = os.path.dirname(filepath)\n",
    "dir_path"
   ]
  },
  {
   "cell_type": "code",
   "execution_count": 46,
   "id": "1d0edb11",
   "metadata": {},
   "outputs": [],
   "source": [
    "os.makedirs(dir_path)"
   ]
  },
  {
   "cell_type": "code",
   "execution_count": 49,
   "id": "49514383",
   "metadata": {},
   "outputs": [
    {
     "data": {
      "text/plain": [
       "91"
      ]
     },
     "execution_count": 49,
     "metadata": {},
     "output_type": "execute_result"
    }
   ],
   "source": [
    "page_url = \"https://m.comic.naver.com/webtoon/detail?titleId=747269&no=163\"\n",
    "res = requests.get(page_url)\n",
    "html = res.text\n",
    "soup = BeautifulSoup(html, \"html.parser\")\n",
    "image_list = soup.select('.toon_view_lst p img')\n",
    "len(image_list)"
   ]
  },
  {
   "cell_type": "code",
   "execution_count": null,
   "id": "996c5b6e",
   "metadata": {},
   "outputs": [],
   "source": []
  }
 ],
 "metadata": {
  "kernelspec": {
   "display_name": "Python 3 (ipykernel)",
   "language": "python",
   "name": "python3"
  },
  "language_info": {
   "codemirror_mode": {
    "name": "ipython",
    "version": 3
   },
   "file_extension": ".py",
   "mimetype": "text/x-python",
   "name": "python",
   "nbconvert_exporter": "python",
   "pygments_lexer": "ipython3",
   "version": "3.11.3"
  }
 },
 "nbformat": 4,
 "nbformat_minor": 5
}
