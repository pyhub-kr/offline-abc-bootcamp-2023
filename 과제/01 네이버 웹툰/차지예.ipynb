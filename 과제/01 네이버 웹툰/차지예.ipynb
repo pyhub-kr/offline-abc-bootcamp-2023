{
 "cells": [
  {
   "cell_type": "code",
   "execution_count": 19,
   "id": "e56ec9d3",
   "metadata": {},
   "outputs": [],
   "source": [
    "import requests\n",
    "from bs4 import BeautifulSoup\n",
    "from urllib.parse import urljoin"
   ]
  },
  {
   "cell_type": "code",
   "execution_count": 20,
   "id": "7f12cef5",
   "metadata": {},
   "outputs": [],
   "source": [
    "url=\"https://m.comic.naver.com/webtoon/list?titleId=769209\""
   ]
  },
  {
   "cell_type": "code",
   "execution_count": 21,
   "id": "15b92914",
   "metadata": {},
   "outputs": [],
   "source": [
    "headers={\n",
    "    \"User-Agent\":\"Mozilla/5.0 (Windows NT 10.0; Win64; x64) AppleWebKit/537.36 (KHTML, like Gecko) Chrome/115.0.0.0 Safari/537.36\",\n",
    "}"
   ]
  },
  {
   "cell_type": "code",
   "execution_count": 22,
   "id": "88836b1e",
   "metadata": {},
   "outputs": [
    {
     "data": {
      "text/plain": [
       "<Response [200]>"
      ]
     },
     "execution_count": 22,
     "metadata": {},
     "output_type": "execute_result"
    }
   ],
   "source": [
    "res = requests.get(url,headers=headers)\n",
    "res"
   ]
  },
  {
   "cell_type": "code",
   "execution_count": 23,
   "id": "158c86a7",
   "metadata": {},
   "outputs": [
    {
     "data": {
      "text/plain": [
       "46758"
      ]
     },
     "execution_count": 23,
     "metadata": {},
     "output_type": "execute_result"
    }
   ],
   "source": [
    "html =  res.text\n",
    "len(html)"
   ]
  },
  {
   "cell_type": "code",
   "execution_count": 24,
   "id": "2e72393e",
   "metadata": {},
   "outputs": [],
   "source": [
    "soup = BeautifulSoup(html, \"html.parser\")"
   ]
  },
  {
   "cell_type": "code",
   "execution_count": 25,
   "id": "1ed713c0",
   "metadata": {},
   "outputs": [
    {
     "data": {
      "text/plain": [
       "34"
      ]
     },
     "execution_count": 25,
     "metadata": {},
     "output_type": "execute_result"
    }
   ],
   "source": [
    "tag_list=soup.select(\".section_episode_list a\")\n",
    "len(tag_list)"
   ]
  },
  {
   "cell_type": "code",
   "execution_count": 26,
   "id": "85a6e614",
   "metadata": {},
   "outputs": [
    {
     "name": "stdout",
     "output_type": "stream",
     "text": [
      "77화\n",
      "/webtoon/detail?titleId=769209&no=78&week=wed&listSortOrder=DESC&listPage=1\n",
      "https://m.comic.naver.com/webtoon/detail?titleId=769209&no=78&week=wed&listSortOrder=DESC&listPage=1\n",
      "76화\n",
      "/webtoon/detail?titleId=769209&no=77&week=wed&listSortOrder=DESC&listPage=1\n",
      "https://m.comic.naver.com/webtoon/detail?titleId=769209&no=77&week=wed&listSortOrder=DESC&listPage=1\n",
      "75화\n",
      "/webtoon/detail?titleId=769209&no=76&week=wed&listSortOrder=DESC&listPage=1\n",
      "https://m.comic.naver.com/webtoon/detail?titleId=769209&no=76&week=wed&listSortOrder=DESC&listPage=1\n",
      "74화\n",
      "/webtoon/detail?titleId=769209&no=75&week=wed&listSortOrder=DESC&listPage=1\n",
      "https://m.comic.naver.com/webtoon/detail?titleId=769209&no=75&week=wed&listSortOrder=DESC&listPage=1\n",
      "73화\n",
      "/webtoon/detail?titleId=769209&no=74&week=wed&listSortOrder=DESC&listPage=1\n",
      "https://m.comic.naver.com/webtoon/detail?titleId=769209&no=74&week=wed&listSortOrder=DESC&listPage=1\n",
      "1부 후기\n",
      "/webtoon/detail?titleId=769209&no=73&week=wed&listSortOrder=DESC&listPage=1\n",
      "https://m.comic.naver.com/webtoon/detail?titleId=769209&no=73&week=wed&listSortOrder=DESC&listPage=1\n",
      "72화(1부 최종화)\n",
      "/webtoon/detail?titleId=769209&no=72&week=wed&listSortOrder=DESC&listPage=1\n",
      "https://m.comic.naver.com/webtoon/detail?titleId=769209&no=72&week=wed&listSortOrder=DESC&listPage=1\n",
      "71화\n",
      "/webtoon/detail?titleId=769209&no=71&week=wed&listSortOrder=DESC&listPage=1\n",
      "https://m.comic.naver.com/webtoon/detail?titleId=769209&no=71&week=wed&listSortOrder=DESC&listPage=1\n",
      "70화\n",
      "/webtoon/detail?titleId=769209&no=70&week=wed&listSortOrder=DESC&listPage=1\n",
      "https://m.comic.naver.com/webtoon/detail?titleId=769209&no=70&week=wed&listSortOrder=DESC&listPage=1\n",
      "69화\n",
      "/webtoon/detail?titleId=769209&no=69&week=wed&listSortOrder=DESC&listPage=1\n",
      "https://m.comic.naver.com/webtoon/detail?titleId=769209&no=69&week=wed&listSortOrder=DESC&listPage=1\n",
      "68화\n",
      "/webtoon/detail?titleId=769209&no=68&week=wed&listSortOrder=DESC&listPage=1\n",
      "https://m.comic.naver.com/webtoon/detail?titleId=769209&no=68&week=wed&listSortOrder=DESC&listPage=1\n",
      "67화\n",
      "/webtoon/detail?titleId=769209&no=67&week=wed&listSortOrder=DESC&listPage=1\n",
      "https://m.comic.naver.com/webtoon/detail?titleId=769209&no=67&week=wed&listSortOrder=DESC&listPage=1\n",
      "66화\n",
      "/webtoon/detail?titleId=769209&no=66&week=wed&listSortOrder=DESC&listPage=1\n",
      "https://m.comic.naver.com/webtoon/detail?titleId=769209&no=66&week=wed&listSortOrder=DESC&listPage=1\n",
      "65화\n",
      "/webtoon/detail?titleId=769209&no=65&week=wed&listSortOrder=DESC&listPage=1\n",
      "https://m.comic.naver.com/webtoon/detail?titleId=769209&no=65&week=wed&listSortOrder=DESC&listPage=1\n",
      "64화\n",
      "/webtoon/detail?titleId=769209&no=64&week=wed&listSortOrder=DESC&listPage=1\n",
      "https://m.comic.naver.com/webtoon/detail?titleId=769209&no=64&week=wed&listSortOrder=DESC&listPage=1\n",
      "63화\n",
      "/webtoon/detail?titleId=769209&no=63&week=wed&listSortOrder=DESC&listPage=1\n",
      "https://m.comic.naver.com/webtoon/detail?titleId=769209&no=63&week=wed&listSortOrder=DESC&listPage=1\n",
      "62화\n",
      "/webtoon/detail?titleId=769209&no=62&week=wed&listSortOrder=DESC&listPage=1\n",
      "https://m.comic.naver.com/webtoon/detail?titleId=769209&no=62&week=wed&listSortOrder=DESC&listPage=1\n",
      "61화\n",
      "/webtoon/detail?titleId=769209&no=61&week=wed&listSortOrder=DESC&listPage=1\n",
      "https://m.comic.naver.com/webtoon/detail?titleId=769209&no=61&week=wed&listSortOrder=DESC&listPage=1\n",
      "60화\n",
      "/webtoon/detail?titleId=769209&no=60&week=wed&listSortOrder=DESC&listPage=1\n",
      "https://m.comic.naver.com/webtoon/detail?titleId=769209&no=60&week=wed&listSortOrder=DESC&listPage=1\n",
      "59화\n",
      "/webtoon/detail?titleId=769209&no=59&week=wed&listSortOrder=DESC&listPage=1\n",
      "https://m.comic.naver.com/webtoon/detail?titleId=769209&no=59&week=wed&listSortOrder=DESC&listPage=1\n",
      "58화\n",
      "/webtoon/detail?titleId=769209&no=58&week=wed&listSortOrder=DESC&listPage=1\n",
      "https://m.comic.naver.com/webtoon/detail?titleId=769209&no=58&week=wed&listSortOrder=DESC&listPage=1\n",
      "57화\n",
      "/webtoon/detail?titleId=769209&no=57&week=wed&listSortOrder=DESC&listPage=1\n",
      "https://m.comic.naver.com/webtoon/detail?titleId=769209&no=57&week=wed&listSortOrder=DESC&listPage=1\n",
      "56화\n",
      "/webtoon/detail?titleId=769209&no=56&week=wed&listSortOrder=DESC&listPage=1\n",
      "https://m.comic.naver.com/webtoon/detail?titleId=769209&no=56&week=wed&listSortOrder=DESC&listPage=1\n",
      "55화\n",
      "/webtoon/detail?titleId=769209&no=55&week=wed&listSortOrder=DESC&listPage=1\n",
      "https://m.comic.naver.com/webtoon/detail?titleId=769209&no=55&week=wed&listSortOrder=DESC&listPage=1\n",
      "54화\n",
      "/webtoon/detail?titleId=769209&no=54&week=wed&listSortOrder=DESC&listPage=1\n",
      "https://m.comic.naver.com/webtoon/detail?titleId=769209&no=54&week=wed&listSortOrder=DESC&listPage=1\n",
      "53화\n",
      "/webtoon/detail?titleId=769209&no=53&week=wed&listSortOrder=DESC&listPage=1\n",
      "https://m.comic.naver.com/webtoon/detail?titleId=769209&no=53&week=wed&listSortOrder=DESC&listPage=1\n",
      "52화\n",
      "/webtoon/detail?titleId=769209&no=52&week=wed&listSortOrder=DESC&listPage=1\n",
      "https://m.comic.naver.com/webtoon/detail?titleId=769209&no=52&week=wed&listSortOrder=DESC&listPage=1\n",
      "51화\n",
      "/webtoon/detail?titleId=769209&no=51&week=wed&listSortOrder=DESC&listPage=1\n",
      "https://m.comic.naver.com/webtoon/detail?titleId=769209&no=51&week=wed&listSortOrder=DESC&listPage=1\n",
      "50화\n",
      "/webtoon/detail?titleId=769209&no=50&week=wed&listSortOrder=DESC&listPage=1\n",
      "https://m.comic.naver.com/webtoon/detail?titleId=769209&no=50&week=wed&listSortOrder=DESC&listPage=1\n",
      "49화\n",
      "/webtoon/detail?titleId=769209&no=49&week=wed&listSortOrder=DESC&listPage=1\n",
      "https://m.comic.naver.com/webtoon/detail?titleId=769209&no=49&week=wed&listSortOrder=DESC&listPage=1\n"
     ]
    }
   ],
   "source": [
    "\n",
    "for tag in tag_list:\n",
    "    link = tag[\"href\"]\n",
    "    if link != \"#\":\n",
    "        name_tag= tag.select('.name')[0]\n",
    "        name = name_tag.text\n",
    "        print(name)\n",
    "        print(link)\n",
    "        \n",
    "        link=\"https://m.comic.naver.com\" + link\n",
    "        \n",
    "        link=urljoin(url,link)\n",
    "        print(link)"
   ]
  },
  {
   "cell_type": "markdown",
   "id": "20f23e3c",
   "metadata": {},
   "source": [
    "# 이미지를 웹툰명/ 회차/이미지파일명.jpg로 저장"
   ]
  },
  {
   "cell_type": "code",
   "execution_count": 44,
   "id": "e6170fe1",
   "metadata": {},
   "outputs": [],
   "source": [
    "import requests\n",
    "from bs4 import BeautifulSoup"
   ]
  },
  {
   "cell_type": "code",
   "execution_count": 45,
   "id": "ddac0b5b",
   "metadata": {},
   "outputs": [
    {
     "name": "stdout",
     "output_type": "stream",
     "text": [
      "원하는 url입력하시오:https://m.comic.naver.com/webtoon/detail?titleId=769209&no=55&week=wed&listSortOrder=DESC&listPage=1\n"
     ]
    },
    {
     "data": {
      "text/plain": [
       "<Response [200]>"
      ]
     },
     "execution_count": 45,
     "metadata": {},
     "output_type": "execute_result"
    }
   ],
   "source": [
    "page_url = input(\"원하는 url입력하시오:\")\n",
    "\n",
    "res = requests.get(page_url)\n",
    "res"
   ]
  },
  {
   "cell_type": "code",
   "execution_count": 46,
   "id": "303740cd",
   "metadata": {},
   "outputs": [
    {
     "data": {
      "text/plain": [
       "89823"
      ]
     },
     "execution_count": 46,
     "metadata": {},
     "output_type": "execute_result"
    }
   ],
   "source": [
    "html = res.text\n",
    "len(html)"
   ]
  },
  {
   "cell_type": "code",
   "execution_count": 47,
   "id": "947a4f8b",
   "metadata": {},
   "outputs": [],
   "source": [
    "soup = BeautifulSoup(html, \"html.parser\")"
   ]
  },
  {
   "cell_type": "markdown",
   "id": "05196e4e",
   "metadata": {},
   "source": [
    "> 회차 정보 추출"
   ]
  },
  {
   "cell_type": "code",
   "execution_count": 48,
   "id": "3fa82db6",
   "metadata": {},
   "outputs": [
    {
     "name": "stdout",
     "output_type": "stream",
     "text": [
      "55\n"
     ]
    }
   ],
   "source": [
    "tag_tit = soup.select(\".tit\")\n",
    "tag_tit[0]\n",
    "number = ''.join(filter(str.isdigit, soup.h1.text))\n",
    "print(number)"
   ]
  },
  {
   "cell_type": "code",
   "execution_count": 49,
   "id": "bc80e0aa",
   "metadata": {},
   "outputs": [
    {
     "data": {
      "text/plain": [
       "97"
      ]
     },
     "execution_count": 49,
     "metadata": {},
     "output_type": "execute_result"
    }
   ],
   "source": [
    "tag_list = soup.select(\".toon_view_lst  img\")\n",
    "len(tag_list)"
   ]
  },
  {
   "cell_type": "code",
   "execution_count": 50,
   "id": "38bee719",
   "metadata": {},
   "outputs": [
    {
     "data": {
      "text/plain": [
       "<img alt=\"\" class=\"fx2 lazy toon_image\" data-src=\"https://image-comic.pstatic.net/mobilewebimg/769209/55/498ad9796cb73e1d68f855f361273445_001.jpg\" id=\"toon_0\" src=\"https://ssl.pstatic.net/static/m/comic/im/2012/bg_transparency.png\"/>"
      ]
     },
     "execution_count": 50,
     "metadata": {},
     "output_type": "execute_result"
    }
   ],
   "source": [
    "tag = tag_list[0]\n",
    "tag"
   ]
  },
  {
   "cell_type": "code",
   "execution_count": 51,
   "id": "730888ed",
   "metadata": {},
   "outputs": [
    {
     "data": {
      "text/plain": [
       "'https://image-comic.pstatic.net/mobilewebimg/769209/55/498ad9796cb73e1d68f855f361273445_001.jpg'"
      ]
     },
     "execution_count": 51,
     "metadata": {},
     "output_type": "execute_result"
    }
   ],
   "source": [
    "tag[\"data-src\"]\n"
   ]
  },
  {
   "cell_type": "code",
   "execution_count": 52,
   "id": "43fc5788",
   "metadata": {},
   "outputs": [
    {
     "data": {
      "application/vnd.jupyter.widget-view+json": {
       "model_id": "9740ab40680849648e861d6c51a89d97",
       "version_major": 2,
       "version_minor": 0
      },
      "text/plain": [
       "0it [00:00, ?it/s]"
      ]
     },
     "metadata": {},
     "output_type": "display_data"
    }
   ],
   "source": [
    "import time\n",
    "import os\n",
    "from tqdm.notebook import tqdm  # tqdm\n",
    "\n",
    "웹툰명 = \"화산귀환\"\n",
    "회차 = (number+\"화\")\n",
    "\n",
    "for idx, tag in tqdm(enumerate(tag_list, 1)):\n",
    "    image_url = tag[\"data-src\"]\n",
    "    image_filepath = f\"{웹툰명}/{회차}/{idx}.jpg\"\n",
    "\n",
    "    image_res = requests.get(image_url, headers=headers)\n",
    "    if not image_res.ok:  # 상태코드가 200이 아니라면\n",
    "        print(\"이미지 다운로드를 중단합니다.\")\n",
    "        break\n",
    "\n",
    "    # 디렉토리 존재유무를 체크해서, 없으면 생성하기\n",
    "    dirpath = os.path.dirname(image_filepath)\n",
    "    os.makedirs(dirpath, exist_ok=True)\n",
    "    \n",
    "    # 저장\n",
    "    with open(image_filepath, \"wb\") as f:\n",
    "        f.write(image_res.content)"
   ]
  },
  {
   "cell_type": "markdown",
   "id": "0a65eeb4",
   "metadata": {},
   "source": [
    "# 최종코드"
   ]
  },
  {
   "cell_type": "code",
   "execution_count": 53,
   "id": "555e2973",
   "metadata": {},
   "outputs": [
    {
     "name": "stdout",
     "output_type": "stream",
     "text": [
      "원하는 url입력하시오:https://m.comic.naver.com/webtoon/detail?titleId=769209&no=51&week=wed&listSortOrder=DESC&listPage=1\n"
     ]
    },
    {
     "data": {
      "application/vnd.jupyter.widget-view+json": {
       "model_id": "de7cd05fd67644f4baa58a9ab76bac70",
       "version_major": 2,
       "version_minor": 0
      },
      "text/plain": [
       "0it [00:00, ?it/s]"
      ]
     },
     "metadata": {},
     "output_type": "display_data"
    }
   ],
   "source": [
    "import requests\n",
    "import time\n",
    "import os\n",
    "from tqdm.notebook import tqdm\n",
    "from bs4 import BeautifulSoup\n",
    "\n",
    "#url 입력받기\n",
    "page_url = input(\"원하는 url입력하시오:\") \n",
    "\n",
    "\n",
    "res = requests.get(page_url)\n",
    "html = res.text\n",
    "soup = BeautifulSoup(html, \"html.parser\")\n",
    "\n",
    "# 회차정보를 찾기\n",
    "tag_tit = soup.select(\".tit\") #회차정보를 class = tit에서 추출\n",
    "tag_tit[0] # 0번째 인덱스\n",
    "number = ''.join(filter(str.isdigit, soup.h1.text))\n",
    "# soup 개체의 첫 번째 <h1> 요소를 검색\n",
    "# join()이 호출되는 문자열과 결합\n",
    "# str.isdigit는 문자열의 각 문자가 숫자인지 여부를 확인\n",
    "\n",
    "tag_list = soup.select(\".toon_view_lst  img\")\n",
    "len(tag_list)\n",
    "tag = tag_list[0] \n",
    "\n",
    "웹툰명 = \"화산귀환\"\n",
    "회차 = (number+\"화\") # 회차를 위에 numer로 받아서 변수명 회차로 저장\n",
    "\n",
    "for idx, tag in tqdm(enumerate(tag_list, 1)):\n",
    "    image_url = tag[\"data-src\"]\n",
    "    image_filepath = f\"{웹툰명}/{회차}/{idx}.jpg\"\n",
    "\n",
    "    image_res = requests.get(image_url, headers=headers)\n",
    "    if not image_res.ok:  # 상태코드가 200이 아니라면\n",
    "        print(\"이미지 다운로드를 중단합니다.\")\n",
    "        break\n",
    "\n",
    "    # 디렉토리 존재유무를 체크해서, 없으면 생성하기\n",
    "    dirpath = os.path.dirname(image_filepath)\n",
    "    os.makedirs(dirpath, exist_ok=True)\n",
    "    \n",
    "    # 저장\n",
    "    with open(image_filepath, \"wb\") as f:\n",
    "        f.write(image_res.content)"
   ]
  }
 ],
 "metadata": {
  "kernelspec": {
   "display_name": "Python 3 (ipykernel)",
   "language": "python",
   "name": "python3"
  },
  "language_info": {
   "codemirror_mode": {
    "name": "ipython",
    "version": 3
   },
   "file_extension": ".py",
   "mimetype": "text/x-python",
   "name": "python",
   "nbconvert_exporter": "python",
   "pygments_lexer": "ipython3",
   "version": "3.11.3"
  }
 },
 "nbformat": 4,
 "nbformat_minor": 5
}
