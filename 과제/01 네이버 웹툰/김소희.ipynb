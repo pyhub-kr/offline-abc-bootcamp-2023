{
 "cells": [
  {
   "cell_type": "code",
   "execution_count": 2,
   "id": "692edb6f",
   "metadata": {},
   "outputs": [],
   "source": [
    "import requests\n",
    "from bs4 import BeautifulSoup"
   ]
  },
  {
   "cell_type": "code",
   "execution_count": 3,
   "id": "27a38097",
   "metadata": {},
   "outputs": [
    {
     "data": {
      "text/plain": [
       "<Response [200]>"
      ]
     },
     "execution_count": 3,
     "metadata": {},
     "output_type": "execute_result"
    }
   ],
   "source": [
    "url = \"https://comic.naver.com/webtoon/list?titleId=796152\"\n",
    "\n",
    "res = requests.get(url)\n",
    "res"
   ]
  },
  {
   "cell_type": "code",
   "execution_count": 4,
   "id": "d9810242",
   "metadata": {},
   "outputs": [],
   "source": [
    "headers = {\n",
    "    \"User-Agent\": \"Mozilla/5.0 (Windows NT 10.0; Win64; x64) AppleWebKit/537.36 (KHTML, like Gecko) Chrome/58.0.3029.110 Safari/537.3\",\n",
    "}"
   ]
  },
  {
   "cell_type": "code",
   "execution_count": 5,
   "id": "bf342bab",
   "metadata": {},
   "outputs": [
    {
     "data": {
      "text/plain": [
       "'\\n\\n\\n\\n<!DOCTYPE html>\\n<html lang=\"ko\">\\n<head>\\n\\t<title>네이버 웹툰</title>\\n\\t<link rel=\"shortcut icon\" href=\"https://ssl.pstatic.net/static/m/comic/im/favicon/1804/webtoon_favicon_32x32.ico\" type=\"image/x-icon\">\\n\\n\\t<meta charset=\"utf-8\" />\\n\\t<meta http-equiv=\"x-ua-compatible\" content=\"ie=edge\" />\\n\\t<meta property=\"og:type\" content=\"article\">\\n\\t<meta property=\"og:article:author\" content=\"네이버 웹툰\">\\n\\t<meta property=\"og:article:author:url\" content=\"https://comic.naver.com\">\\n\\t<meta property=\"og:title\" content=\"마루는 강쥐\">\\n\\t<meta property=\"og:image\" content=\"https://shared-comic.pstatic.net/thumb/webtoon/796152/thumbnail/thumbnail_IMAG21_26b9c1d8-ca2d-4fc7-87ea-a3334634236a.jpg\">\\n\\t<meta property=\"og:description\" content=\"우리 집 강아지 마루가 사람이 되었다, 그것도 5살 아이로!강아지 + 어린아이의 무한 에너지와 호기심을 지닌 사고뭉치 강쥐 탄생! 마루야~! 또 어디가!!! 유쾌한 이웃들과 우당탕탕 즐거운 마루의 나날들\">\\n\\n\\t<script>\\n\\t\\tif (/MSIE \\\\d|Trident.*rv:/.test(navigator.userAgent)) {\\n\\t\\t\\twindow.location = \\'microsoft-edge:\\' + window.location;\\n\\t\\t\\tsetTimeout(function () {\\n\\t\\t\\t\\twindow.location = \\'https://go.microsoft.com/fwlink/?linkid=2135547\\';\\n\\t\\t\\t}, 1);\\n\\t\\t}\\n\\t</script>\\n\\t<script async src=\\'https://ssl.pstatic.net/tveta/libs/glad/prod/gfp-core.js\\'></script>\\n\\t<script>\\n\\t\\tvar ccsrv = \\'cc.naver.com\\';\\n\\t\\twindow.gladsdk = window.gladsdk || { cmd: [] };\\n\\t</script>\\n\\n</head>\\n\\n<body>\\n<div id=\"root\"></div>\\n</body>\\n<script type=\"text/javascript\" src=\"/runtime-997449e3bbc391b95375.js\"></script>\\n<script type=\"text/javascript\" src=\"/vendor-react-d37d9c657a271200d9cf.js\"></script>\\n<script type=\"text/javascript\" src=\"/vendor-react-common-9fc837dada41110dc1fd.js\"></script>\\n<script type=\"text/javascript\" src=\"/vendor-common-0b0b0cc3031d3b0a1965.js\"></script>\\n<script type=\"text/javascript\" src=\"/vendor-log-8df3dc520d958957bcbd.js\"></script>\\n<script type=\"text/javascript\" src=\"/router-08fcd57cb4d630efd408.js\"></script>\\n</html>\\n\\n'"
      ]
     },
     "execution_count": 5,
     "metadata": {},
     "output_type": "execute_result"
    }
   ],
   "source": [
    "html = res.text\n",
    "html"
   ]
  },
  {
   "cell_type": "code",
   "execution_count": 6,
   "id": "37373c08",
   "metadata": {},
   "outputs": [
    {
     "data": {
      "text/plain": [
       "\n",
       "<!DOCTYPE html>\n",
       "\n",
       "<html lang=\"ko\">\n",
       "<head>\n",
       "<title>네이버 웹툰</title>\n",
       "<link href=\"https://ssl.pstatic.net/static/m/comic/im/favicon/1804/webtoon_favicon_32x32.ico\" rel=\"shortcut icon\" type=\"image/x-icon\"/>\n",
       "<meta charset=\"utf-8\"/>\n",
       "<meta content=\"ie=edge\" http-equiv=\"x-ua-compatible\"/>\n",
       "<meta content=\"article\" property=\"og:type\"/>\n",
       "<meta content=\"네이버 웹툰\" property=\"og:article:author\"/>\n",
       "<meta content=\"https://comic.naver.com\" property=\"og:article:author:url\"/>\n",
       "<meta content=\"마루는 강쥐\" property=\"og:title\"/>\n",
       "<meta content=\"https://shared-comic.pstatic.net/thumb/webtoon/796152/thumbnail/thumbnail_IMAG21_26b9c1d8-ca2d-4fc7-87ea-a3334634236a.jpg\" property=\"og:image\"/>\n",
       "<meta content=\"우리 집 강아지 마루가 사람이 되었다, 그것도 5살 아이로!강아지 + 어린아이의 무한 에너지와 호기심을 지닌 사고뭉치 강쥐 탄생! 마루야~! 또 어디가!!! 유쾌한 이웃들과 우당탕탕 즐거운 마루의 나날들\" property=\"og:description\"/>\n",
       "<script>\n",
       "\t\tif (/MSIE \\d|Trident.*rv:/.test(navigator.userAgent)) {\n",
       "\t\t\twindow.location = 'microsoft-edge:' + window.location;\n",
       "\t\t\tsetTimeout(function () {\n",
       "\t\t\t\twindow.location = 'https://go.microsoft.com/fwlink/?linkid=2135547';\n",
       "\t\t\t}, 1);\n",
       "\t\t}\n",
       "\t</script>\n",
       "<script async=\"\" src=\"https://ssl.pstatic.net/tveta/libs/glad/prod/gfp-core.js\"></script>\n",
       "<script>\n",
       "\t\tvar ccsrv = 'cc.naver.com';\n",
       "\t\twindow.gladsdk = window.gladsdk || { cmd: [] };\n",
       "\t</script>\n",
       "</head>\n",
       "<body>\n",
       "<div id=\"root\"></div>\n",
       "</body>\n",
       "<script src=\"/runtime-997449e3bbc391b95375.js\" type=\"text/javascript\"></script>\n",
       "<script src=\"/vendor-react-d37d9c657a271200d9cf.js\" type=\"text/javascript\"></script>\n",
       "<script src=\"/vendor-react-common-9fc837dada41110dc1fd.js\" type=\"text/javascript\"></script>\n",
       "<script src=\"/vendor-common-0b0b0cc3031d3b0a1965.js\" type=\"text/javascript\"></script>\n",
       "<script src=\"/vendor-log-8df3dc520d958957bcbd.js\" type=\"text/javascript\"></script>\n",
       "<script src=\"/router-08fcd57cb4d630efd408.js\" type=\"text/javascript\"></script>\n",
       "</html>"
      ]
     },
     "execution_count": 6,
     "metadata": {},
     "output_type": "execute_result"
    }
   ],
   "source": [
    "soup = BeautifulSoup(html, \"html.parser\")\n",
    "soup"
   ]
  },
  {
   "cell_type": "code",
   "execution_count": 7,
   "id": "780fa518",
   "metadata": {},
   "outputs": [
    {
     "data": {
      "text/plain": [
       "0"
      ]
     },
     "execution_count": 7,
     "metadata": {},
     "output_type": "execute_result"
    }
   ],
   "source": [
    "title_list = soup.select('span.name strong')  # .select 는 태그 리스트를 반환\n",
    "len(title_list)"
   ]
  },
  {
   "cell_type": "code",
   "execution_count": 9,
   "id": "d99e7b3b",
   "metadata": {},
   "outputs": [],
   "source": [
    "item_tags = soup.select('li.item')\n",
    "\n",
    "url_save = []\n",
    "\n",
    "for item_tag in item_tags:\n",
    "    title_tag = item_tag.select_one('span.name strong') #각 회차마다의 제목 추출\n",
    "    if title_tag:\n",
    "        title = title_tag.get_text()\n",
    "        print(title)\n",
    "    url_tag = item_tag.select_one('a')   # 각 회차마다의 link 추출\n",
    "    if url_tag:\n",
    "        url = url_tag['href']\n",
    "        url_save.append(url)              # 추출하는 url를 리스트에 저장\n",
    "        print(url)"
   ]
  },
  {
   "cell_type": "code",
   "execution_count": 10,
   "id": "15ca7b4f",
   "metadata": {},
   "outputs": [],
   "source": [
    "url_save_end = []       \n",
    "for i in range(len(url_save)):     # 리스트 중 '/webtoon/detail'로 시작하는 정상적인 link 문자열 원소만 다시 저장 \n",
    "    if url_save[i].startswith(\"/webtoon/detail?\"):\n",
    "        url_save_end.append(url_save[i])"
   ]
  },
  {
   "cell_type": "code",
   "execution_count": 12,
   "id": "9c01fbd0",
   "metadata": {},
   "outputs": [
    {
     "data": {
      "text/plain": [
       "[]"
      ]
     },
     "execution_count": 12,
     "metadata": {},
     "output_type": "execute_result"
    }
   ],
   "source": [
    "url_save_end"
   ]
  },
  {
   "cell_type": "code",
   "execution_count": 27,
   "id": "263ded14",
   "metadata": {},
   "outputs": [
    {
     "data": {
      "text/plain": [
       "'마루는 강쥐'"
      ]
     },
     "execution_count": 27,
     "metadata": {},
     "output_type": "execute_result"
    }
   ],
   "source": [
    "import os\n",
    "\n",
    "filepath = \"마루는 강쥐/test.txt\"  \n",
    "dir_path = os.path.dirname(filepath)\n",
    "dir_path"
   ]
  },
  {
   "cell_type": "code",
   "execution_count": 26,
   "id": "382fd3cd",
   "metadata": {},
   "outputs": [
    {
     "ename": "FileExistsError",
     "evalue": "[WinError 183] 파일이 이미 있으므로 만들 수 없습니다: '마루는 강쥐'",
     "output_type": "error",
     "traceback": [
      "\u001b[1;31m---------------------------------------------------------------------------\u001b[0m",
      "\u001b[1;31mFileExistsError\u001b[0m                           Traceback (most recent call last)",
      "Cell \u001b[1;32mIn[26], line 1\u001b[0m\n\u001b[1;32m----> 1\u001b[0m os\u001b[38;5;241m.\u001b[39mmakedirs(dir_path)\n",
      "File \u001b[1;32m<frozen os>:225\u001b[0m, in \u001b[0;36mmakedirs\u001b[1;34m(name, mode, exist_ok)\u001b[0m\n",
      "\u001b[1;31mFileExistsError\u001b[0m: [WinError 183] 파일이 이미 있으므로 만들 수 없습니다: '마루는 강쥐'"
     ]
    }
   ],
   "source": [
    "os.makedirs(dir_path)  # 부모 디렉토리 생성"
   ]
  },
  {
   "cell_type": "code",
   "execution_count": 28,
   "id": "09f48b45",
   "metadata": {},
   "outputs": [],
   "source": [
    "import re\n",
    "웹툰명 = \"마루는 강쥐\"\n",
    "cnt = 0\n",
    "\n",
    "for i in title_list:  # 부모 폴더에 회차별 폴더를 생성하되 title_list를 순회하여 각 회차명를 파일명으로 기입하여 생성한다. \n",
    "    회차 = title_list[cnt].text\n",
    "    print(회차)\n",
    "    folder_path = f\"{웹툰명}/{회차}/test.txt\"\n",
    "    dirpath = os.path.dirname(folder_path)  # 경로 계산하고, 없으면 생성\n",
    "    os.makedirs(dirpath, exist_ok=True)\n",
    "    cnt += 1\n",
    "\n",
    "  "
   ]
  },
  {
   "cell_type": "code",
   "execution_count": 17,
   "id": "ac3c59f0",
   "metadata": {},
   "outputs": [
    {
     "ename": "IndexError",
     "evalue": "list index out of range",
     "output_type": "error",
     "traceback": [
      "\u001b[1;31m---------------------------------------------------------------------------\u001b[0m",
      "\u001b[1;31mIndexError\u001b[0m                                Traceback (most recent call last)",
      "Cell \u001b[1;32mIn[17], line 2\u001b[0m\n\u001b[0;32m      1\u001b[0m title_list_end \u001b[38;5;241m=\u001b[39m title_list[\u001b[38;5;241m8\u001b[39m:] \u001b[38;5;66;03m# 쿠키를 구워야 볼 수 있는 유료회차분까지 추출되었기에 title_list에서 삭제한다.\u001b[39;00m\n\u001b[1;32m----> 2\u001b[0m title_list_end[\u001b[38;5;241m0\u001b[39m]\n",
      "\u001b[1;31mIndexError\u001b[0m: list index out of range"
     ]
    }
   ],
   "source": [
    "title_list_end = title_list[8:] # 쿠키를 구워야 볼 수 있는 유료회차분까지 추출되었기에 title_list에서 삭제한다.\n",
    "title_list_end[0]"
   ]
  },
  {
   "cell_type": "code",
   "execution_count": 30,
   "id": "916f8724",
   "metadata": {},
   "outputs": [
    {
     "data": {
      "text/plain": [
       "0"
      ]
     },
     "execution_count": 30,
     "metadata": {},
     "output_type": "execute_result"
    }
   ],
   "source": [
    "page_url = \"https://comic.naver.com/webtoon/detail?titleId=796152&no=1\" \n",
    "res = requests.get(page_url)\n",
    "html = res.text\n",
    "soup = BeautifulSoup(html, \"html.parser\")\n",
    "image_list = soup.select('.toon_view_lst p img')\n",
    "len(image_list)"
   ]
  },
  {
   "cell_type": "code",
   "execution_count": 32,
   "id": "6c1c5ae4",
   "metadata": {},
   "outputs": [],
   "source": [
    "count = 0\n",
    "for i in range(len(url_save_end)): # 각 회차 url를 순회하며 image파일들을 다운받는다.\n",
    "    count += 1\n",
    "    page_url = \"https://m.comic.naver.com\" + url_save_end[i]\n",
    "    print(page_url)\n",
    "    #page_url = \"https://comic.naver.com/webtoon/detail?titleId=796152&no=1\"\n",
    "    res = requests.get(page_url)\n",
    "    html = res.text\n",
    "    soup = BeautifulSoup(html, \"html.parser\")\n",
    "    image_list = soup.select('.toon_view_lst p img')\n",
    "    len(image_list)\n",
    "    for idx, tag in enumerate(image_list, 1):\n",
    "        tt = title_list_end[count-1].text # 1부 1화\n",
    "        t_1 = tt.split() # 1부/1화 분할\n",
    "        t_2 = t_1[1] # 1화 추출\n",
    "        fold_p = \"마루는 강쥐/\"\n",
    "        fold_pp = fold_p + tt # 경로는 \"마루는 강쥐/1화\"\n",
    "        filename = f\"{웹툰명}{t_2}{idx}.jpg\" # 마루는 강쥐1화1.jpg\n",
    "        print(fold_pp)\n",
    "\n",
    "        image_res = requests.get(tag[\"src\"], headers=headers)\n",
    "        assert image_res.status_code == 200, \"서버 응답이 200이 아니예요!!!\"\n",
    "\n",
    "    \n",
    "        with open(fold_pp + \"/\" + filename, \"wb\") as f: # 신의탑/156화(현재 순회중인 회차)/ 경로에 마루는 강쥐(현재 순회중인 회차)(순서).jpg파일 저장\n",
    "            f.write(image_res.content)"
   ]
  },
  {
   "cell_type": "code",
   "execution_count": null,
   "id": "0457ae00",
   "metadata": {},
   "outputs": [],
   "source": []
  }
 ],
 "metadata": {
  "kernelspec": {
   "display_name": "python3_8_5",
   "language": "python",
   "name": "py3_8_5"
  },
  "language_info": {
   "codemirror_mode": {
    "name": "ipython",
    "version": 3
   },
   "file_extension": ".py",
   "mimetype": "text/x-python",
   "name": "python",
   "nbconvert_exporter": "python",
   "pygments_lexer": "ipython3",
   "version": "3.11.3"
  }
 },
 "nbformat": 4,
 "nbformat_minor": 5
}
