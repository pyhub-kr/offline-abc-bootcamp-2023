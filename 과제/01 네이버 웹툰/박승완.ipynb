{
 "cells": [
  {
   "cell_type": "code",
   "execution_count": 1,
   "id": "5c307980",
   "metadata": {},
   "outputs": [],
   "source": [
    "import requests\n",
    "from bs4 import BeautifulSoup\n",
    "from urllib.parse import urljoin"
   ]
  },
  {
   "cell_type": "code",
   "execution_count": 2,
   "id": "e3947a6d",
   "metadata": {},
   "outputs": [
    {
     "data": {
      "text/plain": [
       "<Response [200]>"
      ]
     },
     "execution_count": 2,
     "metadata": {},
     "output_type": "execute_result"
    }
   ],
   "source": [
    "url = \"https://m.comic.naver.com/webtoon/list?titleId=796059\"\n",
    "\n",
    "res = requests.get(url)\n",
    "res"
   ]
  },
  {
   "cell_type": "code",
   "execution_count": 3,
   "id": "80580f37",
   "metadata": {},
   "outputs": [],
   "source": [
    "headers = {\n",
    "    \"User-Agent\": \"Mozilla/5.0 (Windows NT 10.0; Win64; x64) AppleWebKit/537.36 (KHTML, like Gecko) Chrome/115.0.0.0 Safari/537.36\",\n",
    "}"
   ]
  },
  {
   "cell_type": "code",
   "execution_count": 4,
   "id": "3941e136",
   "metadata": {},
   "outputs": [],
   "source": [
    "html = res.text"
   ]
  },
  {
   "cell_type": "code",
   "execution_count": 5,
   "id": "f43559dd",
   "metadata": {},
   "outputs": [],
   "source": [
    "with open(\"우산_없는_애.jpg\", \"wb\") as f:  # write + binary\n",
    "    f.write(res.content)"
   ]
  },
  {
   "cell_type": "code",
   "execution_count": 6,
   "id": "6f322451",
   "metadata": {},
   "outputs": [
    {
     "data": {
      "text/plain": [
       "<Response [200]>"
      ]
     },
     "execution_count": 6,
     "metadata": {},
     "output_type": "execute_result"
    }
   ],
   "source": [
    "page_url = \"https://m.comic.naver.com/webtoon/list?titleId=796059\"\n",
    "\n",
    "res = requests.get(page_url)\n",
    "res"
   ]
  },
  {
   "cell_type": "code",
   "execution_count": 7,
   "id": "75201fcb",
   "metadata": {},
   "outputs": [
    {
     "data": {
      "text/plain": [
       "40782"
      ]
     },
     "execution_count": 7,
     "metadata": {},
     "output_type": "execute_result"
    }
   ],
   "source": [
    "html = res.text\n",
    "len(html)"
   ]
  },
  {
   "cell_type": "code",
   "execution_count": 8,
   "id": "591cdbb9",
   "metadata": {},
   "outputs": [],
   "source": [
    "soup = BeautifulSoup(html, \"html.parser\")"
   ]
  },
  {
   "cell_type": "code",
   "execution_count": 9,
   "id": "9a76bcce",
   "metadata": {},
   "outputs": [
    {
     "name": "stdout",
     "output_type": "stream",
     "text": [
      "1화\n",
      "/webtoon/detail?titleId=796059&no=1&week=mon&listSortOrder=ASC&listPage=1\n",
      "2화\n",
      "/webtoon/detail?titleId=796059&no=2&week=mon&listSortOrder=ASC&listPage=1\n",
      "3화\n",
      "/webtoon/detail?titleId=796059&no=3&week=mon&listSortOrder=ASC&listPage=1\n",
      "4화\n",
      "/webtoon/detail?titleId=796059&no=4&week=mon&listSortOrder=ASC&listPage=1\n",
      "5화\n",
      "/webtoon/detail?titleId=796059&no=5&week=mon&listSortOrder=ASC&listPage=1\n",
      "6화\n",
      "/webtoon/detail?titleId=796059&no=6&week=mon&listSortOrder=ASC&listPage=1\n",
      "7화\n",
      "/webtoon/detail?titleId=796059&no=7&week=mon&listSortOrder=ASC&listPage=1\n",
      "8화\n",
      "/webtoon/detail?titleId=796059&no=8&week=mon&listSortOrder=ASC&listPage=1\n",
      "9화\n",
      "/webtoon/detail?titleId=796059&no=9&week=mon&listSortOrder=ASC&listPage=1\n",
      "10화\n",
      "/webtoon/detail?titleId=796059&no=10&week=mon&listSortOrder=ASC&listPage=1\n",
      "11화\n",
      "/webtoon/detail?titleId=796059&no=11&week=mon&listSortOrder=ASC&listPage=1\n",
      "12화\n",
      "/webtoon/detail?titleId=796059&no=12&week=mon&listSortOrder=ASC&listPage=1\n",
      "13화\n",
      "/webtoon/detail?titleId=796059&no=13&week=mon&listSortOrder=ASC&listPage=1\n",
      "14화\n",
      "/webtoon/detail?titleId=796059&no=14&week=mon&listSortOrder=ASC&listPage=1\n",
      "15화\n",
      "/webtoon/detail?titleId=796059&no=15&week=mon&listSortOrder=ASC&listPage=1\n",
      "16화\n",
      "/webtoon/detail?titleId=796059&no=16&week=mon&listSortOrder=ASC&listPage=1\n",
      "17화\n",
      "/webtoon/detail?titleId=796059&no=17&week=mon&listSortOrder=ASC&listPage=1\n",
      "18화\n",
      "/webtoon/detail?titleId=796059&no=18&week=mon&listSortOrder=ASC&listPage=1\n",
      "19화\n",
      "/webtoon/detail?titleId=796059&no=19&week=mon&listSortOrder=ASC&listPage=1\n",
      "20화\n",
      "/webtoon/detail?titleId=796059&no=20&week=mon&listSortOrder=ASC&listPage=1\n",
      "21화\n",
      "/webtoon/detail?titleId=796059&no=21&week=mon&listSortOrder=ASC&listPage=1\n",
      "22화\n",
      "/webtoon/detail?titleId=796059&no=22&week=mon&listSortOrder=ASC&listPage=1\n",
      "23화\n",
      "/webtoon/detail?titleId=796059&no=23&week=mon&listSortOrder=ASC&listPage=1\n",
      "24화\n",
      "/webtoon/detail?titleId=796059&no=24&week=mon&listSortOrder=ASC&listPage=1\n",
      "25화\n",
      "/webtoon/detail?titleId=796059&no=25&week=mon&listSortOrder=ASC&listPage=1\n",
      "26화\n",
      "/webtoon/detail?titleId=796059&no=26&week=mon&listSortOrder=ASC&listPage=1\n",
      "27화\n",
      "/webtoon/detail?titleId=796059&no=27&week=mon&listSortOrder=ASC&listPage=1\n",
      "28화\n",
      "/webtoon/detail?titleId=796059&no=28&week=mon&listSortOrder=ASC&listPage=1\n",
      "29화\n",
      "/webtoon/detail?titleId=796059&no=29&week=mon&listSortOrder=ASC&listPage=1\n",
      "30화\n",
      "/webtoon/detail?titleId=796059&no=30&week=mon&listSortOrder=ASC&listPage=1\n"
     ]
    }
   ],
   "source": [
    "tag_list = soup.select(\".section_episode_list a\" )\n",
    "for a_tag in tag_list:\n",
    "    ep_url = a_tag[\"href\"]\n",
    "    if ep_url != \"#\":\n",
    "# 태그는 다시 .select를 통해 자식 태그들을 조회할 수 있습니다.\n",
    "        name_tag = a_tag.select(\".name\") [0] # .select는 태그 리스트를 반환합니다.\n",
    "        name = name_tag.text\n",
    "        print(name)\n",
    "        print(ep_url)\n"
   ]
  },
  {
   "cell_type": "code",
   "execution_count": null,
   "id": "5d4179e1",
   "metadata": {},
   "outputs": [],
   "source": []
  }
 ],
 "metadata": {
  "kernelspec": {
   "display_name": "python3_8_5",
   "language": "python",
   "name": "py3_8_5"
  },
  "language_info": {
   "codemirror_mode": {
    "name": "ipython",
    "version": 3
   },
   "file_extension": ".py",
   "mimetype": "text/x-python",
   "name": "python",
   "nbconvert_exporter": "python",
   "pygments_lexer": "ipython3",
   "version": "3.11.3"
  }
 },
 "nbformat": 4,
 "nbformat_minor": 5
}
