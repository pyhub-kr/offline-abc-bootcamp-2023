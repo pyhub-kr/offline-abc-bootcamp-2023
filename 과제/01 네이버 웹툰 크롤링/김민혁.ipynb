{
 "cells": [
  {
   "cell_type": "markdown",
   "id": "8c5fce95",
   "metadata": {},
   "source": [
    "## 네이버웹툰-일렉시드 1화~11화 데이터 수집"
   ]
  },
  {
   "cell_type": "code",
   "execution_count": 21,
   "id": "9c445c1f",
   "metadata": {},
   "outputs": [
    {
     "name": "stderr",
     "output_type": "stream",
     "text": [
      "\r",
      "0it [00:00, ?it/s]"
     ]
    },
    {
     "name": "stdout",
     "output_type": "stream",
     "text": [
      "일렉시드/11화/001.jpg\n"
     ]
    },
    {
     "name": "stderr",
     "output_type": "stream",
     "text": [
      "3it [00:10,  2.62s/it]"
     ]
    },
    {
     "name": "stdout",
     "output_type": "stream",
     "text": [
      "일렉시드/11화/002.jpg\n",
      "일렉시드/11화/003.jpg\n",
      "일렉시드/11화/004.jpg\n"
     ]
    },
    {
     "name": "stderr",
     "output_type": "stream",
     "text": [
      "\r",
      "5it [00:10,  1.32s/it]"
     ]
    },
    {
     "name": "stdout",
     "output_type": "stream",
     "text": [
      "일렉시드/11화/005.jpg\n",
      "일렉시드/11화/006.jpg\n",
      "일렉시드/11화/007.jpg\n"
     ]
    },
    {
     "name": "stderr",
     "output_type": "stream",
     "text": [
      "9it [00:10,  1.89it/s]"
     ]
    },
    {
     "name": "stdout",
     "output_type": "stream",
     "text": [
      "일렉시드/11화/008.jpg\n",
      "일렉시드/11화/009.jpg\n",
      "일렉시드/11화/010.jpg\n"
     ]
    },
    {
     "name": "stderr",
     "output_type": "stream",
     "text": [
      "\r",
      "11it [00:10,  2.64it/s]"
     ]
    },
    {
     "name": "stdout",
     "output_type": "stream",
     "text": [
      "일렉시드/11화/011.jpg\n",
      "일렉시드/11화/012.jpg\n",
      "일렉시드/11화/013.jpg\n"
     ]
    },
    {
     "name": "stderr",
     "output_type": "stream",
     "text": [
      "15it [00:11,  4.54it/s]"
     ]
    },
    {
     "name": "stdout",
     "output_type": "stream",
     "text": [
      "일렉시드/11화/014.jpg\n",
      "일렉시드/11화/015.jpg\n",
      "일렉시드/11화/016.jpg\n"
     ]
    },
    {
     "name": "stderr",
     "output_type": "stream",
     "text": [
      "\r",
      "17it [00:11,  5.42it/s]"
     ]
    },
    {
     "name": "stdout",
     "output_type": "stream",
     "text": [
      "일렉시드/11화/017.jpg\n",
      "일렉시드/11화/018.jpg\n"
     ]
    },
    {
     "name": "stderr",
     "output_type": "stream",
     "text": [
      "\r",
      "19it [00:11,  6.27it/s]"
     ]
    },
    {
     "name": "stdout",
     "output_type": "stream",
     "text": [
      "일렉시드/11화/019.jpg\n",
      "일렉시드/11화/020.jpg\n"
     ]
    },
    {
     "name": "stderr",
     "output_type": "stream",
     "text": [
      "\r",
      "21it [00:11,  6.82it/s]"
     ]
    },
    {
     "name": "stdout",
     "output_type": "stream",
     "text": [
      "일렉시드/11화/021.jpg\n",
      "일렉시드/11화/022.jpg\n",
      "일렉시드/11화/023.jpg\n"
     ]
    },
    {
     "name": "stderr",
     "output_type": "stream",
     "text": [
      "\r",
      "23it [00:11,  7.82it/s]"
     ]
    },
    {
     "name": "stdout",
     "output_type": "stream",
     "text": [
      "일렉시드/11화/024.jpg\n",
      "일렉시드/11화/025.jpg\n"
     ]
    },
    {
     "name": "stderr",
     "output_type": "stream",
     "text": [
      "26it [00:12,  8.10it/s]"
     ]
    },
    {
     "name": "stdout",
     "output_type": "stream",
     "text": [
      "일렉시드/11화/026.jpg\n",
      "일렉시드/11화/027.jpg\n",
      "일렉시드/11화/028.jpg\n"
     ]
    },
    {
     "name": "stderr",
     "output_type": "stream",
     "text": [
      "30it [00:12,  9.69it/s]"
     ]
    },
    {
     "name": "stdout",
     "output_type": "stream",
     "text": [
      "일렉시드/11화/029.jpg\n",
      "일렉시드/11화/030.jpg\n",
      "일렉시드/11화/031.jpg\n"
     ]
    },
    {
     "name": "stderr",
     "output_type": "stream",
     "text": [
      "\r",
      "32it [00:12, 10.17it/s]"
     ]
    },
    {
     "name": "stdout",
     "output_type": "stream",
     "text": [
      "일렉시드/11화/032.jpg\n",
      "일렉시드/11화/033.jpg\n",
      "일렉시드/11화/034.jpg\n"
     ]
    },
    {
     "name": "stderr",
     "output_type": "stream",
     "text": [
      "36it [00:13, 10.47it/s]"
     ]
    },
    {
     "name": "stdout",
     "output_type": "stream",
     "text": [
      "일렉시드/11화/035.jpg\n",
      "일렉시드/11화/036.jpg\n",
      "일렉시드/11화/037.jpg\n"
     ]
    },
    {
     "name": "stderr",
     "output_type": "stream",
     "text": [
      "\r",
      "38it [00:13, 10.07it/s]"
     ]
    },
    {
     "name": "stdout",
     "output_type": "stream",
     "text": [
      "일렉시드/11화/038.jpg\n",
      "일렉시드/11화/039.jpg\n"
     ]
    },
    {
     "name": "stderr",
     "output_type": "stream",
     "text": [
      "\r",
      "40it [00:13,  9.87it/s]"
     ]
    },
    {
     "name": "stdout",
     "output_type": "stream",
     "text": [
      "일렉시드/11화/040.jpg\n",
      "일렉시드/11화/041.jpg\n",
      "일렉시드/11화/042.jpg\n"
     ]
    },
    {
     "name": "stderr",
     "output_type": "stream",
     "text": [
      "\r",
      "42it [00:13, 10.04it/s]"
     ]
    },
    {
     "name": "stdout",
     "output_type": "stream",
     "text": [
      "일렉시드/11화/043.jpg\n",
      "일렉시드/11화/044.jpg\n"
     ]
    },
    {
     "name": "stderr",
     "output_type": "stream",
     "text": [
      "45it [00:14,  9.39it/s]"
     ]
    },
    {
     "name": "stdout",
     "output_type": "stream",
     "text": [
      "일렉시드/11화/045.jpg\n",
      "일렉시드/11화/046.jpg\n"
     ]
    },
    {
     "name": "stderr",
     "output_type": "stream",
     "text": [
      "48it [00:14,  9.62it/s]"
     ]
    },
    {
     "name": "stdout",
     "output_type": "stream",
     "text": [
      "일렉시드/11화/047.jpg\n",
      "일렉시드/11화/048.jpg\n",
      "일렉시드/11화/049.jpg\n"
     ]
    },
    {
     "name": "stderr",
     "output_type": "stream",
     "text": [
      "51it [00:14,  9.47it/s]"
     ]
    },
    {
     "name": "stdout",
     "output_type": "stream",
     "text": [
      "일렉시드/11화/050.jpg\n",
      "일렉시드/11화/051.jpg\n",
      "일렉시드/11화/052.jpg\n"
     ]
    },
    {
     "name": "stderr",
     "output_type": "stream",
     "text": [
      "54it [00:15,  9.80it/s]"
     ]
    },
    {
     "name": "stdout",
     "output_type": "stream",
     "text": [
      "일렉시드/11화/053.jpg\n",
      "일렉시드/11화/054.jpg\n",
      "일렉시드/11화/055.jpg\n"
     ]
    },
    {
     "name": "stderr",
     "output_type": "stream",
     "text": [
      "57it [00:15, 10.37it/s]"
     ]
    },
    {
     "name": "stdout",
     "output_type": "stream",
     "text": [
      "일렉시드/11화/056.jpg\n",
      "일렉시드/11화/057.jpg\n",
      "일렉시드/11화/058.jpg\n"
     ]
    },
    {
     "name": "stderr",
     "output_type": "stream",
     "text": [
      "\r",
      "59it [00:15, 10.35it/s]"
     ]
    },
    {
     "name": "stdout",
     "output_type": "stream",
     "text": [
      "일렉시드/11화/059.jpg\n",
      "일렉시드/11화/060.jpg\n",
      "일렉시드/11화/061.jpg\n"
     ]
    },
    {
     "name": "stderr",
     "output_type": "stream",
     "text": [
      "63it [00:15, 10.48it/s]"
     ]
    },
    {
     "name": "stdout",
     "output_type": "stream",
     "text": [
      "일렉시드/11화/062.jpg\n",
      "일렉시드/11화/063.jpg\n",
      "일렉시드/11화/064.jpg\n"
     ]
    },
    {
     "name": "stderr",
     "output_type": "stream",
     "text": [
      "\r",
      "65it [00:16, 11.42it/s]"
     ]
    },
    {
     "name": "stdout",
     "output_type": "stream",
     "text": [
      "일렉시드/11화/065.jpg\n",
      "일렉시드/11화/066.jpg\n",
      "일렉시드/11화/067.jpg\n"
     ]
    },
    {
     "name": "stderr",
     "output_type": "stream",
     "text": [
      "69it [00:16,  4.20it/s]"
     ]
    },
    {
     "name": "stdout",
     "output_type": "stream",
     "text": [
      "일렉시드/11화/068.jpg\n",
      "일렉시드/11화/069.jpg\n"
     ]
    },
    {
     "name": "stderr",
     "output_type": "stream",
     "text": [
      "\n"
     ]
    }
   ],
   "source": [
    "import requests\n",
    "from bs4 import BeautifulSoup\n",
    "import os\n",
    "from tqdm import tqdm\n",
    "\n",
    "# 이미지를 요청하고 저장하는 함수\n",
    "def download_image(url, filepath):\n",
    "    headers = {\n",
    "        \"User-Agent\": \"Mozilla/5.0 (Windows NT 10.0; Win64; x64) AppleWebKit/537.36 (KHTML, like Gecko) Chrome/95.0.4638.54 Safari/537.36\"\n",
    "    }\n",
    "    res = requests.get(url, headers=headers)\n",
    "    res.raise_for_status()\n",
    "\n",
    "    with open(filepath, \"wb\") as f:\n",
    "        f.write(res.content)\n",
    "\n",
    "# 웹툰 페이지에서 이미지를 찾아서 다운로드하는 함수\n",
    "def download_webtoon_episode(웹툰명, 회차):\n",
    "    page_url = f\"https://comic.naver.com/webtoon/detail?titleId=717481&no={회차}\"\n",
    "    \n",
    "    res = requests.get(page_url)\n",
    "    res.raise_for_status() \n",
    "\n",
    "    html = res.text\n",
    "    soup = BeautifulSoup(html, \"html.parser\")\n",
    "\n",
    "    tag_list = soup.select(\".wt_viewer img\")\n",
    "\n",
    "    dirpath = os.path.join(웹툰명, f\"{회차}화\")\n",
    "    os.makedirs(dirpath, exist_ok=True)\n",
    "\n",
    "    for idx, tag in tqdm(enumerate(tag_list, 1)):  \n",
    "        filepath = os.path.join(dirpath, f\"{idx:03d}.jpg\")\n",
    "        print(filepath)\n",
    "\n",
    "        \n",
    "        download_image(tag[\"src\"], filepath)\n",
    "\n",
    "\n",
    "웹툰명 = \"일렉시드\" \n",
    "회차 = 11    # 원하는 회차마다 입력\n",
    "download_webtoon_episode(웹툰명, 회차)\n"
   ]
  }
 ],
 "metadata": {
  "kernelspec": {
   "display_name": "Python 3 (ipykernel)",
   "language": "python",
   "name": "python3"
  },
  "language_info": {
   "codemirror_mode": {
    "name": "ipython",
    "version": 3
   },
   "file_extension": ".py",
   "mimetype": "text/x-python",
   "name": "python",
   "nbconvert_exporter": "python",
   "pygments_lexer": "ipython3",
   "version": "3.11.3"
  }
 },
 "nbformat": 4,
 "nbformat_minor": 5
}
