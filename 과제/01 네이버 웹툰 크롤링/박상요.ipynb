{
 "cells": [
  {
   "cell_type": "code",
   "execution_count": 25,
   "id": "4e95c135",
   "metadata": {},
   "outputs": [],
   "source": [
    "import requests\n",
    "from bs4 import BeautifulSoup\n",
    "from urllib.parse import urljoin"
   ]
  },
  {
   "cell_type": "code",
   "execution_count": 26,
   "id": "0b039ff8",
   "metadata": {},
   "outputs": [],
   "source": [
    "index_page_url = \"https://m.comic.naver.com/webtoon/list?titleId=790713&week=tue&sortOrder=DESC&page=1\""
   ]
  },
  {
   "cell_type": "code",
   "execution_count": 27,
   "id": "ed0fbbde",
   "metadata": {},
   "outputs": [],
   "source": [
    "headers = {\n",
    "    \"User-Agent\": \"Mozilla/5.0 (Windows NT 10.0; Win64; x64) AppleWebKit/537.36 (KHTML, like Gecko) Chrome/115.0.0.0 Safari/537.36\",\n",
    "}"
   ]
  },
  {
   "cell_type": "code",
   "execution_count": 28,
   "id": "d7f2a05d",
   "metadata": {},
   "outputs": [
    {
     "data": {
      "text/plain": [
       "<Response [200]>"
      ]
     },
     "execution_count": 28,
     "metadata": {},
     "output_type": "execute_result"
    }
   ],
   "source": [
    "res = requests.get(index_page_url, headers = headers )\n",
    "res"
   ]
  },
  {
   "cell_type": "code",
   "execution_count": 29,
   "id": "f1ad8746",
   "metadata": {},
   "outputs": [
    {
     "data": {
      "text/plain": [
       "48659"
      ]
     },
     "execution_count": 29,
     "metadata": {},
     "output_type": "execute_result"
    }
   ],
   "source": [
    "html = res.text\n",
    "len(html)"
   ]
  },
  {
   "cell_type": "code",
   "execution_count": 30,
   "id": "e71029fd",
   "metadata": {},
   "outputs": [],
   "source": [
    "soup = BeautifulSoup(html, \"html.parser\")"
   ]
  },
  {
   "cell_type": "code",
   "execution_count": 31,
   "id": "c63df879",
   "metadata": {},
   "outputs": [
    {
     "name": "stdout",
     "output_type": "stream",
     "text": [
      "145화-사수와의 연애(3)\n",
      "https://m.comic.naver.com/webtoon/detail?titleId=790713&no=146&week=tue&listSortOrder=DESC&listPage=1#nafullscreen\n",
      "144화-사수와의 연애(2)\n",
      "https://m.comic.naver.com/webtoon/detail?titleId=790713&no=145&week=tue&listSortOrder=DESC&listPage=1#nafullscreen\n",
      "143화-사수와의 연애(1)\n",
      "https://m.comic.naver.com/webtoon/detail?titleId=790713&no=144&week=tue&listSortOrder=DESC&listPage=1#nafullscreen\n",
      "142화-스트레스\n",
      "https://m.comic.naver.com/webtoon/detail?titleId=790713&no=143&week=tue&listSortOrder=DESC&listPage=1#nafullscreen\n",
      "141화-다이어트\n",
      "https://m.comic.naver.com/webtoon/detail?titleId=790713&no=142&week=tue&listSortOrder=DESC&listPage=1#nafullscreen\n",
      "140화-구두 발표(2)\n",
      "https://m.comic.naver.com/webtoon/detail?titleId=790713&no=141&week=tue&listSortOrder=DESC&listPage=1#nafullscreen\n",
      "139화-구두 발표(1)\n",
      "https://m.comic.naver.com/webtoon/detail?titleId=790713&no=140&week=tue&listSortOrder=DESC&listPage=1#nafullscreen\n",
      "138화-분석하기(2)\n",
      "https://m.comic.naver.com/webtoon/detail?titleId=790713&no=139&week=tue&listSortOrder=DESC&listPage=1#nafullscreen\n",
      "137화-분석하기(1)\n",
      "https://m.comic.naver.com/webtoon/detail?titleId=790713&no=138&week=tue&listSortOrder=DESC&listPage=1#nafullscreen\n",
      "136화-새옹지마 엠티(2)\n",
      "https://m.comic.naver.com/webtoon/detail?titleId=790713&no=137&week=tue&listSortOrder=DESC&listPage=1#nafullscreen\n",
      "135화-새옹지마 엠티(1)\n",
      "https://m.comic.naver.com/webtoon/detail?titleId=790713&no=136&week=tue&listSortOrder=DESC&listPage=1#nafullscreen\n",
      "134화-과제 수행(2)\n",
      "https://m.comic.naver.com/webtoon/detail?titleId=790713&no=135&week=tue&listSortOrder=DESC&listPage=1#nafullscreen\n",
      "133화-과제 수행(1)\n",
      "https://m.comic.naver.com/webtoon/detail?titleId=790713&no=134&week=tue&listSortOrder=DESC&listPage=1#nafullscreen\n",
      "132화-과제 사냥(2)\n",
      "https://m.comic.naver.com/webtoon/detail?titleId=790713&no=133&week=tue&listSortOrder=DESC&listPage=1#nafullscreen\n",
      "131화-과제 사냥(1)\n",
      "https://m.comic.naver.com/webtoon/detail?titleId=790713&no=132&week=tue&listSortOrder=DESC&listPage=1#nafullscreen\n",
      "130화-방송 촬영(2)\n",
      "https://m.comic.naver.com/webtoon/detail?titleId=790713&no=131&week=tue&listSortOrder=DESC&listPage=1#nafullscreen\n",
      "129화-방송 촬영(1)\n",
      "https://m.comic.naver.com/webtoon/detail?titleId=790713&no=130&week=tue&listSortOrder=DESC&listPage=1#nafullscreen\n",
      "128화-브이로그\n",
      "https://m.comic.naver.com/webtoon/detail?titleId=790713&no=129&week=tue&listSortOrder=DESC&listPage=1#nafullscreen\n",
      "127화-좋은 연구실\n",
      "https://m.comic.naver.com/webtoon/detail?titleId=790713&no=128&week=tue&listSortOrder=DESC&listPage=1#nafullscreen\n",
      "126화-걸어서 대학원속으로(5)\n",
      "https://m.comic.naver.com/webtoon/detail?titleId=790713&no=127&week=tue&listSortOrder=DESC&listPage=1#nafullscreen\n",
      "125화-걸어서 대학원속으로(4)\n",
      "https://m.comic.naver.com/webtoon/detail?titleId=790713&no=126&week=tue&listSortOrder=DESC&listPage=1#nafullscreen\n",
      "124화-걸어서 대학원속으로(3)\n",
      "https://m.comic.naver.com/webtoon/detail?titleId=790713&no=125&week=tue&listSortOrder=DESC&listPage=1#nafullscreen\n",
      "123화-걸어서 대학원속으로(2)\n",
      "https://m.comic.naver.com/webtoon/detail?titleId=790713&no=124&week=tue&listSortOrder=DESC&listPage=1#nafullscreen\n",
      "122화-걸어서 대학원속으로(1)\n",
      "https://m.comic.naver.com/webtoon/detail?titleId=790713&no=123&week=tue&listSortOrder=DESC&listPage=1#nafullscreen\n",
      "121화-자리 재배치\n",
      "https://m.comic.naver.com/webtoon/detail?titleId=790713&no=122&week=tue&listSortOrder=DESC&listPage=1#nafullscreen\n",
      "120화-신입 컨택(2)\n",
      "https://m.comic.naver.com/webtoon/detail?titleId=790713&no=121&week=tue&listSortOrder=DESC&listPage=1#nafullscreen\n",
      "119화-신입 컨택(1)\n",
      "https://m.comic.naver.com/webtoon/detail?titleId=790713&no=120&week=tue&listSortOrder=DESC&listPage=1#nafullscreen\n",
      "118화-홈페이지\n",
      "https://m.comic.naver.com/webtoon/detail?titleId=790713&no=119&week=tue&listSortOrder=DESC&listPage=1#nafullscreen\n",
      "117화-홈커밍데이(3)\n",
      "https://m.comic.naver.com/webtoon/detail?titleId=790713&no=118&week=tue&listSortOrder=DESC&listPage=1#nafullscreen\n",
      "116화-홈커밍데이(2)\n",
      "https://m.comic.naver.com/webtoon/detail?titleId=790713&no=117&week=tue&listSortOrder=DESC&listPage=1#nafullscreen\n"
     ]
    }
   ],
   "source": [
    "tag_list = soup.select(\".section_episode_list a\") # .select는 태그 리스트를 반환\n",
    "for a_tag in tag_list:\n",
    "    ep_url = a_tag[\"href\"]\n",
    "    if ep_url != '#':\n",
    "        name_tag = a_tag.select(\".name\")[0]\n",
    "        name = name_tag.text\n",
    "        print(name)\n",
    "        ep_url = \"https://m.comic.naver.com\" + ep_url\n",
    "        ep_url = urljoin(index_page_url, ep_url)\n",
    "        print(ep_url)"
   ]
  },
  {
   "cell_type": "code",
   "execution_count": 32,
   "id": "a198f9e5",
   "metadata": {},
   "outputs": [],
   "source": [
    "with open(\"대학원.jpg\", \"wb\") as f:  # write + binary\n",
    "    f.write(res.content)"
   ]
  },
  {
   "cell_type": "code",
   "execution_count": 40,
   "id": "27df5738",
   "metadata": {},
   "outputs": [
    {
     "data": {
      "text/plain": [
       "<Response [200]>"
      ]
     },
     "execution_count": 40,
     "metadata": {},
     "output_type": "execute_result"
    }
   ],
   "source": [
    "page_list = (\n",
    "    \"https://m.comic.naver.com/webtoon/detail?titleId=790713&no=117&week=tue&listSortOrder=DESC&listPage=1#nafullscreen\"\n",
    "    #\"https://m.comic.naver.com/webtoon/detail?titleId=790713&no=118&week=tue&listSortOrder=DESC&listPage=1#nafullscreen\"\n",
    "    #\"https://m.comic.naver.com/webtoon/detail?titleId=790713&no=119&week=tue&listSortOrder=DESC&listPage=1#nafullscreen\"\n",
    "#116~118화\n",
    ")\n",
    "\n",
    "res = requests.get(page_list)\n",
    "res"
   ]
  },
  {
   "cell_type": "code",
   "execution_count": 41,
   "id": "44d58bdb",
   "metadata": {},
   "outputs": [
    {
     "data": {
      "text/plain": [
       "32459"
      ]
     },
     "execution_count": 41,
     "metadata": {},
     "output_type": "execute_result"
    }
   ],
   "source": [
    "html = res.text\n",
    "len(html)"
   ]
  },
  {
   "cell_type": "code",
   "execution_count": 42,
   "id": "fc47c38e",
   "metadata": {},
   "outputs": [],
   "source": [
    "soup = BeautifulSoup(html, \"html.parser\")"
   ]
  },
  {
   "cell_type": "code",
   "execution_count": 43,
   "id": "340098f9",
   "metadata": {},
   "outputs": [
    {
     "data": {
      "text/plain": [
       "28"
      ]
     },
     "execution_count": 43,
     "metadata": {},
     "output_type": "execute_result"
    }
   ],
   "source": [
    "tag_list = soup.select(\".swiper-slide img\")\n",
    "len(tag_list)"
   ]
  },
  {
   "cell_type": "code",
   "execution_count": 44,
   "id": "7b94ef6f",
   "metadata": {},
   "outputs": [
    {
     "data": {
      "text/plain": [
       "<img alt=\"\" class=\"swiper-lazy\" data-categoryid=\"1_230320141619\" data-src=\"https://image-comic.pstatic.net/mobilewebimg/790713/117/41d4d01ae1c48ce32e843a662835bb3f_001.jpg\" src=\"https://ssl.pstatic.net/static/m/comic/im/2012/bg_transparency.png\" style=\"display:none;\"/>"
      ]
     },
     "execution_count": 44,
     "metadata": {},
     "output_type": "execute_result"
    }
   ],
   "source": [
    "tag = tag_list[0]\n",
    "tag"
   ]
  },
  {
   "cell_type": "code",
   "execution_count": 45,
   "id": "2a7312fa",
   "metadata": {},
   "outputs": [
    {
     "data": {
      "text/plain": [
       "'https://ssl.pstatic.net/static/m/comic/im/2012/bg_transparency.png'"
      ]
     },
     "execution_count": 45,
     "metadata": {},
     "output_type": "execute_result"
    }
   ],
   "source": [
    "tag[\"src\"]"
   ]
  },
  {
   "cell_type": "code",
   "execution_count": 47,
   "id": "32f65cc7",
   "metadata": {
    "scrolled": true
   },
   "outputs": [
    {
     "name": "stdout",
     "output_type": "stream",
     "text": [
      "1.jpg\n",
      "2.jpg\n",
      "3.jpg\n",
      "4.jpg\n",
      "5.jpg\n",
      "6.jpg\n",
      "7.jpg\n",
      "8.jpg\n",
      "9.jpg\n",
      "10.jpg\n",
      "11.jpg\n",
      "12.jpg\n",
      "13.jpg\n",
      "14.jpg\n",
      "15.jpg\n",
      "16.jpg\n",
      "17.jpg\n",
      "18.jpg\n",
      "19.jpg\n",
      "20.jpg\n",
      "21.jpg\n",
      "22.jpg\n",
      "23.jpg\n",
      "24.jpg\n",
      "25.jpg\n",
      "26.jpg\n",
      "27.jpg\n",
      "28.jpg\n"
     ]
    }
   ],
   "source": [
    "for idx, tag in enumerate(tag_list, 1):\n",
    "    filename = f\"{idx}.jpg\"\n",
    "    print(filename)\n",
    "\n",
    "    image_res = requests.get(tag[\"src\"], headers=headers)\n",
    "    assert image_res.status_code == 200, \"서버 응답이 200이 아니예요!!!\"\n",
    "\n",
    "    # 저장\n",
    "    with open(filename, \"wb\") as f:\n",
    "        f.write(image_res.content)"
   ]
  },
  {
   "cell_type": "code",
   "execution_count": null,
   "id": "cd0e6f40",
   "metadata": {},
   "outputs": [],
   "source": [
    "파일은 받아먹는데 jpg를 인식을 못하는데 왜일까요..?\n",
    "page_list에 링크 리스트 만들어서 for문으로 돌리고싶었는데 잘 안되네요ㅠ"
   ]
  },
  {
   "cell_type": "code",
   "execution_count": 49,
   "id": "216974ed",
   "metadata": {},
   "outputs": [],
   "source": [
    "filepath = \"대학원/116/test.txt\"\n",
    "dirpath = \"대학원/116\"\n",
    "\n",
    "# with open(filepath, \"wb\") as f:\n",
    "#     f.write(b\"test\")"
   ]
  },
  {
   "cell_type": "code",
   "execution_count": 50,
   "id": "1b25015e",
   "metadata": {},
   "outputs": [
    {
     "data": {
      "text/plain": [
       "'대학원/116'"
      ]
     },
     "execution_count": 50,
     "metadata": {},
     "output_type": "execute_result"
    }
   ],
   "source": [
    "import os\n",
    "\n",
    "filepath = \"대학원/116/test.txt\"\n",
    "dir_path = os.path.dirname(filepath)\n",
    "dir_path"
   ]
  },
  {
   "cell_type": "code",
   "execution_count": 51,
   "id": "9a743642",
   "metadata": {},
   "outputs": [
    {
     "data": {
      "text/plain": [
       "False"
      ]
     },
     "execution_count": 51,
     "metadata": {},
     "output_type": "execute_result"
    }
   ],
   "source": [
    "os.path.exists(dir_path)"
   ]
  },
  {
   "cell_type": "code",
   "execution_count": 52,
   "id": "d226ccf0",
   "metadata": {},
   "outputs": [],
   "source": [
    "os.makedirs(dir_path)  # 경로 상의 없는 폴더들을 자동 생성"
   ]
  },
  {
   "cell_type": "code",
   "execution_count": 53,
   "id": "0ab9a45e",
   "metadata": {},
   "outputs": [
    {
     "data": {
      "text/plain": [
       "True"
      ]
     },
     "execution_count": 53,
     "metadata": {},
     "output_type": "execute_result"
    }
   ],
   "source": [
    "os.path.exists(dir_path)"
   ]
  },
  {
   "cell_type": "code",
   "execution_count": 55,
   "id": "23db1394",
   "metadata": {},
   "outputs": [
    {
     "data": {
      "text/plain": [
       "'001.jpg'"
      ]
     },
     "execution_count": 55,
     "metadata": {},
     "output_type": "execute_result"
    }
   ],
   "source": [
    "idx = 1\n",
    "\n",
    "f\"{idx:03d}.jpg\""
   ]
  },
  {
   "cell_type": "code",
   "execution_count": 56,
   "id": "35304666",
   "metadata": {},
   "outputs": [],
   "source": [
    "웹툰명 = \"대학원탈출일지\"\n",
    "회차 = \"116\"\n",
    "\n",
    "for idx, tag in enumerate(tag_list, 1):\n",
    "    filepath = f\"{웹툰명}/{회차}/{idx:03d}.jpg\"\n",
    "\n",
    "    dirpath = os.path.dirname(filepath)  # 경로 계산하고, 없으면 생성\n",
    "    os.makedirs(dirpath, exist_ok=True)\n",
    "\n",
    "    image_res = requests.get(tag[\"src\"], headers=headers)\n",
    "    assert image_res.status_code == 200, \"서버 응답이 200이 아니예요!!!\"\n",
    "\n",
    "    # 저장\n",
    "    with open(filepath, \"wb\") as f:\n",
    "        f.write(image_res.content)"
   ]
  }
 ],
 "metadata": {
  "kernelspec": {
   "display_name": "Python 3 (ipykernel)",
   "language": "python",
   "name": "python3"
  },
  "language_info": {
   "codemirror_mode": {
    "name": "ipython",
    "version": 3
   },
   "file_extension": ".py",
   "mimetype": "text/x-python",
   "name": "python",
   "nbconvert_exporter": "python",
   "pygments_lexer": "ipython3",
   "version": "3.11.3"
  }
 },
 "nbformat": 4,
 "nbformat_minor": 5
}
