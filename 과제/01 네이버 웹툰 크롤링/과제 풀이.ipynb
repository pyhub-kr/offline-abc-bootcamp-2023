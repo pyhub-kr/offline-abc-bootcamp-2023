{
 "cells": [
  {
   "cell_type": "code",
   "execution_count": 13,
   "id": "e6708b6c-d2f2-44cf-aa6a-dbcff87e8502",
   "metadata": {},
   "outputs": [],
   "source": [
    "from urllib.parse import urljoin\n",
    "import requests\n",
    "from bs4 import BeautifulSoup"
   ]
  },
  {
   "cell_type": "markdown",
   "id": "c63532ea-7063-4113-8934-d8c33043ea04",
   "metadata": {},
   "source": [
    "# 회차 목록 크롤링"
   ]
  },
  {
   "cell_type": "code",
   "execution_count": 63,
   "id": "f9db01d0-61cb-4f7a-bf98-22b700abf625",
   "metadata": {},
   "outputs": [],
   "source": [
    "def 웹툰_회차_목록_가져오기(title_id, page=1):\n",
    "    \"\"\"\n",
    "    지정된 title_id의 모바일 웹툰 목록에서 지정 page의 회차 목록을 리스트로 반환합니다.\n",
    "    \"\"\"\n",
    "\n",
    "    # index_page_url = \"https://m.comic.naver.com/webtoon/list?titleId=769209&page=1\"  # 화산귀환\n",
    "    # index_page_url = f\"https://m.comic.naver.com/webtoon/list?titleId={title_id}&page={page}\"         # 전독시\n",
    "\n",
    "    index_page_url = \"https://m.comic.naver.com/webtoon/list\"\n",
    "    params = {  # parameters\n",
    "        \"titleId\": title_id,\n",
    "        \"page\": page,\n",
    "    }\n",
    "    \n",
    "    res = requests.get(index_page_url, params=params)\n",
    "    html = res.text\n",
    "    soup = BeautifulSoup(html, \"html.parser\")\n",
    "    \n",
    "    ep_tag_list = soup.select(\"[data-title-id]\")\n",
    "    ep_list = []  # ADDED\n",
    "    \n",
    "    for ep_tag in ep_tag_list:\n",
    "        ep_title_id = ep_tag[\"data-title-id\"]\n",
    "        ep_no = ep_tag[\"data-no\"]\n",
    "        ep_title = ep_tag.select_one(\".title\").text.strip()\n",
    "        ep_url = ep_tag.select_one(\"a\")[\"href\"]\n",
    "        if ep_url != \"#\":\n",
    "            ep_url = urljoin(index_page_url, ep_url)\n",
    "            # print(ep_title, ep_url)\n",
    "            ep_list.append({\n",
    "                \"title\": ep_title,\n",
    "                \"url\": ep_url,\n",
    "                \"title_id\": ep_title_id,\n",
    "                \"no\": ep_no,\n",
    "            })  # ADDED\n",
    "    \n",
    "    # len(ep_list)  # ADDED\n",
    "\n",
    "    return ep_list"
   ]
  },
  {
   "cell_type": "code",
   "execution_count": 38,
   "id": "8f8f1f76-917b-4db3-95cc-ed99c7ede3bf",
   "metadata": {},
   "outputs": [
    {
     "data": {
      "text/plain": [
       "[{'title': '162. Ep. 28 최강의 희생양 (6)',\n",
       "  'url': 'https://m.comic.naver.com/webtoon/detail?titleId=747269&no=163&week=wed&listSortOrder=DESC&listPage=1',\n",
       "  'title_id': '747269',\n",
       "  'no': '163'},\n",
       " {'title': '161. Ep. 28 최강의 희생양 (5)',\n",
       "  'url': 'https://m.comic.naver.com/webtoon/detail?titleId=747269&no=162&week=wed&listSortOrder=DESC&listPage=1',\n",
       "  'title_id': '747269',\n",
       "  'no': '162'},\n",
       " {'title': '160. Ep. 28 최강의 희생양 (4)',\n",
       "  'url': 'https://m.comic.naver.com/webtoon/detail?titleId=747269&no=161&week=wed&listSortOrder=DESC&listPage=1',\n",
       "  'title_id': '747269',\n",
       "  'no': '161'},\n",
       " {'title': '159. Ep. 28 최강의 희생양 (3)',\n",
       "  'url': 'https://m.comic.naver.com/webtoon/detail?titleId=747269&no=160&week=wed&listSortOrder=DESC&listPage=1',\n",
       "  'title_id': '747269',\n",
       "  'no': '160'},\n",
       " {'title': '158. Ep. 28 최강의 희생양 (2)',\n",
       "  'url': 'https://m.comic.naver.com/webtoon/detail?titleId=747269&no=159&week=wed&listSortOrder=DESC&listPage=1',\n",
       "  'title_id': '747269',\n",
       "  'no': '159'},\n",
       " {'title': '157. Ep. 28 최강의 희생양 (1)',\n",
       "  'url': 'https://m.comic.naver.com/webtoon/detail?titleId=747269&no=158&week=wed&listSortOrder=DESC&listPage=1',\n",
       "  'title_id': '747269',\n",
       "  'no': '158'},\n",
       " {'title': '156. Ep. 27 읽을 수 없는 것 (4)',\n",
       "  'url': 'https://m.comic.naver.com/webtoon/detail?titleId=747269&no=157&week=wed&listSortOrder=DESC&listPage=1',\n",
       "  'title_id': '747269',\n",
       "  'no': '157'},\n",
       " {'title': '155. Ep. 27 읽을 수 없는 것 (3)',\n",
       "  'url': 'https://m.comic.naver.com/webtoon/detail?titleId=747269&no=156&week=wed&listSortOrder=DESC&listPage=1',\n",
       "  'title_id': '747269',\n",
       "  'no': '156'},\n",
       " {'title': '154. Ep. 27 읽을 수 없는 것 (2)',\n",
       "  'url': 'https://m.comic.naver.com/webtoon/detail?titleId=747269&no=155&week=wed&listSortOrder=DESC&listPage=1',\n",
       "  'title_id': '747269',\n",
       "  'no': '155'},\n",
       " {'title': '153. Ep. 27 읽을 수 없는 것 (1)',\n",
       "  'url': 'https://m.comic.naver.com/webtoon/detail?titleId=747269&no=154&week=wed&listSortOrder=DESC&listPage=1',\n",
       "  'title_id': '747269',\n",
       "  'no': '154'},\n",
       " {'title': '152. Ep. 26 시나리오 파괴자 (9)',\n",
       "  'url': 'https://m.comic.naver.com/webtoon/detail?titleId=747269&no=153&week=wed&listSortOrder=DESC&listPage=1',\n",
       "  'title_id': '747269',\n",
       "  'no': '153'},\n",
       " {'title': '151. Ep. 26 시나리오 파괴자 (8)',\n",
       "  'url': 'https://m.comic.naver.com/webtoon/detail?titleId=747269&no=152&week=wed&listSortOrder=DESC&listPage=1',\n",
       "  'title_id': '747269',\n",
       "  'no': '152'},\n",
       " {'title': '150. Ep. 26 시나리오 파괴자 (7)',\n",
       "  'url': 'https://m.comic.naver.com/webtoon/detail?titleId=747269&no=151&week=wed&listSortOrder=DESC&listPage=1',\n",
       "  'title_id': '747269',\n",
       "  'no': '151'},\n",
       " {'title': '149. Ep. 26 시나리오 파괴자 (6)',\n",
       "  'url': 'https://m.comic.naver.com/webtoon/detail?titleId=747269&no=150&week=wed&listSortOrder=DESC&listPage=1',\n",
       "  'title_id': '747269',\n",
       "  'no': '150'},\n",
       " {'title': '148. Ep. 26 시나리오 파괴자 (5)',\n",
       "  'url': 'https://m.comic.naver.com/webtoon/detail?titleId=747269&no=149&week=wed&listSortOrder=DESC&listPage=1',\n",
       "  'title_id': '747269',\n",
       "  'no': '149'},\n",
       " {'title': '147. Ep. 26 시나리오 파괴자 (4)',\n",
       "  'url': 'https://m.comic.naver.com/webtoon/detail?titleId=747269&no=148&week=wed&listSortOrder=DESC&listPage=1',\n",
       "  'title_id': '747269',\n",
       "  'no': '148'},\n",
       " {'title': '146. Ep. 26 시나리오 파괴자 (3)',\n",
       "  'url': 'https://m.comic.naver.com/webtoon/detail?titleId=747269&no=147&week=wed&listSortOrder=DESC&listPage=1',\n",
       "  'title_id': '747269',\n",
       "  'no': '147'},\n",
       " {'title': '145. Ep. 26 시나리오 파괴자 (2)',\n",
       "  'url': 'https://m.comic.naver.com/webtoon/detail?titleId=747269&no=146&week=wed&listSortOrder=DESC&listPage=1',\n",
       "  'title_id': '747269',\n",
       "  'no': '146'},\n",
       " {'title': '144. Ep. 26 시나리오 파괴자 (1)',\n",
       "  'url': 'https://m.comic.naver.com/webtoon/detail?titleId=747269&no=145&week=wed&listSortOrder=DESC&listPage=1',\n",
       "  'title_id': '747269',\n",
       "  'no': '145'},\n",
       " {'title': '143. Ep. 25 신과 마주 보는 자들 (9)',\n",
       "  'url': 'https://m.comic.naver.com/webtoon/detail?titleId=747269&no=144&week=wed&listSortOrder=DESC&listPage=1',\n",
       "  'title_id': '747269',\n",
       "  'no': '144'},\n",
       " {'title': '142. Ep. 25 신과 마주 보는 자들 (8)',\n",
       "  'url': 'https://m.comic.naver.com/webtoon/detail?titleId=747269&no=143&week=wed&listSortOrder=DESC&listPage=1',\n",
       "  'title_id': '747269',\n",
       "  'no': '143'},\n",
       " {'title': '141. Ep. 25 신과 마주 보는 자들 (7)',\n",
       "  'url': 'https://m.comic.naver.com/webtoon/detail?titleId=747269&no=142&week=wed&listSortOrder=DESC&listPage=1',\n",
       "  'title_id': '747269',\n",
       "  'no': '142'},\n",
       " {'title': '140. Ep. 25 신과 마주 보는 자들 (6)',\n",
       "  'url': 'https://m.comic.naver.com/webtoon/detail?titleId=747269&no=141&week=wed&listSortOrder=DESC&listPage=1',\n",
       "  'title_id': '747269',\n",
       "  'no': '141'},\n",
       " {'title': '139. Ep. 25 신과 마주 보는 자들 (5)',\n",
       "  'url': 'https://m.comic.naver.com/webtoon/detail?titleId=747269&no=140&week=wed&listSortOrder=DESC&listPage=1',\n",
       "  'title_id': '747269',\n",
       "  'no': '140'},\n",
       " {'title': '138. Ep. 25 신과 마주 보는 자들 (4)',\n",
       "  'url': 'https://m.comic.naver.com/webtoon/detail?titleId=747269&no=139&week=wed&listSortOrder=DESC&listPage=1',\n",
       "  'title_id': '747269',\n",
       "  'no': '139'},\n",
       " {'title': '137. Ep. 25 신과 마주 보는 자들 (3)',\n",
       "  'url': 'https://m.comic.naver.com/webtoon/detail?titleId=747269&no=138&week=wed&listSortOrder=DESC&listPage=1',\n",
       "  'title_id': '747269',\n",
       "  'no': '138'},\n",
       " {'title': '136. Ep. 25 신과 마주 보는 자들 (2)',\n",
       "  'url': 'https://m.comic.naver.com/webtoon/detail?titleId=747269&no=137&week=wed&listSortOrder=DESC&listPage=1',\n",
       "  'title_id': '747269',\n",
       "  'no': '137'},\n",
       " {'title': '135. Ep. 25 신과 마주 보는 자들 (1)',\n",
       "  'url': 'https://m.comic.naver.com/webtoon/detail?titleId=747269&no=136&week=wed&listSortOrder=DESC&listPage=1',\n",
       "  'title_id': '747269',\n",
       "  'no': '136'},\n",
       " {'title': '134. Ep. 24 바꿀 수 있는 것 (9)',\n",
       "  'url': 'https://m.comic.naver.com/webtoon/detail?titleId=747269&no=135&week=wed&listSortOrder=DESC&listPage=1',\n",
       "  'title_id': '747269',\n",
       "  'no': '135'},\n",
       " {'title': '133. Ep. 24 바꿀 수 있는 것 (8)',\n",
       "  'url': 'https://m.comic.naver.com/webtoon/detail?titleId=747269&no=134&week=wed&listSortOrder=DESC&listPage=1',\n",
       "  'title_id': '747269',\n",
       "  'no': '134'}]"
      ]
     },
     "execution_count": 38,
     "metadata": {},
     "output_type": "execute_result"
    }
   ],
   "source": [
    "화산귀환_아이디 = \"747269\"\n",
    "\n",
    "웹툰_회차_목록_가져오기(화산귀환_아이디)"
   ]
  },
  {
   "cell_type": "markdown",
   "id": "85b94ae9-9516-45c3-bd18-0f496a998518",
   "metadata": {},
   "source": [
    "# 웹툰 이미지 주소 리스트 뽑아내기"
   ]
  },
  {
   "cell_type": "code",
   "execution_count": 39,
   "id": "404bf3da-b2fc-41fa-86cb-b8a48efcfd27",
   "metadata": {},
   "outputs": [],
   "source": [
    "# url = \"https://m.comic.naver.com/webtoon/detail?titleId=747269&no=163&week=wed&listSortOrder=DESC&listPage=1\"\n",
    "\n",
    "def 웹툰_특정회차_이미지_목록_가져오기(title_id, no):\n",
    "    url = \"https://m.comic.naver.com/webtoon/detail\"\n",
    "    params = {\n",
    "        \"titleId\": title_id,\n",
    "        \"no\": no,\n",
    "        \"week\": \"wed\",\n",
    "        \"listSortOrder\": \"DESC\",\n",
    "        \"listPage\": 1,\n",
    "    }\n",
    "    \n",
    "    res = requests.get(url, params=params)\n",
    "    html = res.text\n",
    "    soup = BeautifulSoup(html, \"html.parser\")\n",
    "    image_url_list = []\n",
    "    \n",
    "    image_tag_list = soup.select(\".toon_image\")\n",
    "    for image_tag in image_tag_list:\n",
    "        image_url = image_tag[\"data-src\"]\n",
    "        # print(image_url)\n",
    "        image_url_list.append(image_url)\n",
    "\n",
    "    return image_url_list"
   ]
  },
  {
   "cell_type": "code",
   "execution_count": 46,
   "id": "0f98e2ef-a340-4715-b244-9c47f5a24595",
   "metadata": {},
   "outputs": [
    {
     "data": {
      "text/plain": [
       "91"
      ]
     },
     "execution_count": 46,
     "metadata": {},
     "output_type": "execute_result"
    }
   ],
   "source": [
    "image_url_list = 웹툰_특정회차_이미지_목록_가져오기(화산귀환_아이디, 163)\n",
    "len(image_url_list)"
   ]
  },
  {
   "cell_type": "code",
   "execution_count": 58,
   "id": "06b3c05f-6774-4a5c-99c8-fa5a50d36b89",
   "metadata": {},
   "outputs": [
    {
     "data": {
      "text/plain": [
       "'https://image-comic.pstatic.net/mobilewebimg/747269/163/de52849320e7d3cf4021d98a8fff7a25_001.jpg'"
      ]
     },
     "execution_count": 58,
     "metadata": {},
     "output_type": "execute_result"
    }
   ],
   "source": [
    "image_url_list[0]"
   ]
  },
  {
   "cell_type": "code",
   "execution_count": 69,
   "id": "85d5d650-2dd1-4c52-8beb-c77de8f83532",
   "metadata": {},
   "outputs": [],
   "source": [
    "import os\n",
    "from tqdm.notebook import tqdm\n",
    "\n",
    "\n",
    "def 웹툰_특정회차_이미지_목록_다운받기(base_path, image_url_list):\n",
    "    headers = {\n",
    "        \"User-Agent\": \"Mozilla/5.0 (Macintosh; Intel Mac OS X 10_15_7) AppleWebKit/537.36 (KHTML, like Gecko) Chrome/114.0.0.0 Safari/537.36\",\n",
    "    }\n",
    "\n",
    "    # 순차적으로 하나씩 요청해서 저장 : 멀티쓰레드, 멀티프로세스 등을 활용하면 좀 더 빠른 처리가 가능하다.\n",
    "    for image_url in tqdm(image_url_list):\n",
    "        res = requests.get(image_url, headers=headers)\n",
    "        res.raise_for_status()  # 정상아니면 예외 발생\n",
    "    \n",
    "        image_filename = os.path.basename(image_url)  # 파일명 문자열만 뽑아줍니다.\n",
    "    \n",
    "        # filepath = f\"a/b/c/\"\n",
    "        # filepath = os.path.join(\"a\", \"b\", \"c\")\n",
    "        filepath = os.path.join(base_path, image_filename)\n",
    "    \n",
    "        dirpath = os.path.dirname(filepath)\n",
    "        os.makedirs(dirpath, exist_ok=True)\n",
    "    \n",
    "        image_data = res.content\n",
    "        with open(filepath, \"wb\") as f:\n",
    "            f.write(image_data)"
   ]
  },
  {
   "cell_type": "code",
   "execution_count": 62,
   "id": "f74f4af3-e6c1-401a-8586-8f460c6159b8",
   "metadata": {},
   "outputs": [
    {
     "name": "stdout",
     "output_type": "stream",
     "text": [
      "이미 다운받은 회차입니다. - 747269, 163\n"
     ]
    }
   ],
   "source": [
    "title_id = 747269\n",
    "no = 163\n",
    "\n",
    "base_path = os.path.join(\"webtoons\", str(title_id), str(no))\n",
    "if not os.path.exists(base_path):\n",
    "    웹툰_특정회차_이미지_목록_다운받기(base_path, image_url_list)\n",
    "else:\n",
    "    print(f\"이미 다운받은 회차입니다. - {title_id}, {no}\")"
   ]
  },
  {
   "cell_type": "markdown",
   "id": "13a68acd-054c-491b-9135-d85ad088cda9",
   "metadata": {},
   "source": [
    "# 종합"
   ]
  },
  {
   "cell_type": "code",
   "execution_count": 65,
   "id": "58911c76-ebd3-48f7-ac10-62ddc23e3ed1",
   "metadata": {},
   "outputs": [
    {
     "name": "stdout",
     "output_type": "stream",
     "text": [
      "30\n"
     ]
    },
    {
     "data": {
      "text/plain": [
       "{'title': '162. Ep. 28 최강의 희생양 (6)',\n",
       " 'url': 'https://m.comic.naver.com/webtoon/detail?titleId=747269&no=163&week=wed&listSortOrder=DESC&listPage=1',\n",
       " 'title_id': '747269',\n",
       " 'no': '163'}"
      ]
     },
     "execution_count": 65,
     "metadata": {},
     "output_type": "execute_result"
    }
   ],
   "source": [
    "title_id = 747269  # 화산귀환\n",
    "\n",
    "episode_list = 웹툰_회차_목록_가져오기(title_id)\n",
    "print(len(episode_list))\n",
    "episode_list[0]"
   ]
  },
  {
   "cell_type": "code",
   "execution_count": 72,
   "id": "c1ba9be4-e541-4622-8907-c00c2e1d12d6",
   "metadata": {},
   "outputs": [
    {
     "name": "stdout",
     "output_type": "stream",
     "text": [
      "이미 다운받은 회차입니다.\n",
      "이미 다운받은 회차입니다.\n",
      "이미 다운받은 회차입니다.\n",
      "747269, no=160 다운받는 중 ...\n"
     ]
    },
    {
     "data": {
      "application/vnd.jupyter.widget-view+json": {
       "model_id": "2e2d3f7171664c58b08fee42b3406a32",
       "version_major": 2,
       "version_minor": 0
      },
      "text/plain": [
       "  0%|          | 0/66 [00:00<?, ?it/s]"
      ]
     },
     "metadata": {},
     "output_type": "display_data"
    },
    {
     "name": "stdout",
     "output_type": "stream",
     "text": [
      "747269, no=159 다운받는 중 ...\n"
     ]
    },
    {
     "data": {
      "application/vnd.jupyter.widget-view+json": {
       "model_id": "e3eb7298a1964b5f8457e00dfe5b9292",
       "version_major": 2,
       "version_minor": 0
      },
      "text/plain": [
       "  0%|          | 0/59 [00:00<?, ?it/s]"
      ]
     },
     "metadata": {},
     "output_type": "display_data"
    },
    {
     "name": "stdout",
     "output_type": "stream",
     "text": [
      "747269, no=158 다운받는 중 ...\n"
     ]
    },
    {
     "data": {
      "application/vnd.jupyter.widget-view+json": {
       "model_id": "e4a5afe4cd02440cac319fc3759e6c2b",
       "version_major": 2,
       "version_minor": 0
      },
      "text/plain": [
       "  0%|          | 0/77 [00:00<?, ?it/s]"
      ]
     },
     "metadata": {},
     "output_type": "display_data"
    },
    {
     "name": "stdout",
     "output_type": "stream",
     "text": [
      "747269, no=157 다운받는 중 ...\n"
     ]
    },
    {
     "data": {
      "application/vnd.jupyter.widget-view+json": {
       "model_id": "f3579b32a6d147c7a2d87b07e0ff827a",
       "version_major": 2,
       "version_minor": 0
      },
      "text/plain": [
       "  0%|          | 0/80 [00:00<?, ?it/s]"
      ]
     },
     "metadata": {},
     "output_type": "display_data"
    },
    {
     "name": "stdout",
     "output_type": "stream",
     "text": [
      "747269, no=156 다운받는 중 ...\n"
     ]
    },
    {
     "data": {
      "application/vnd.jupyter.widget-view+json": {
       "model_id": "801d42fb11d54ae6a91ea74ff8091e6b",
       "version_major": 2,
       "version_minor": 0
      },
      "text/plain": [
       "  0%|          | 0/72 [00:00<?, ?it/s]"
      ]
     },
     "metadata": {},
     "output_type": "display_data"
    },
    {
     "name": "stdout",
     "output_type": "stream",
     "text": [
      "747269, no=155 다운받는 중 ...\n"
     ]
    },
    {
     "data": {
      "application/vnd.jupyter.widget-view+json": {
       "model_id": "b9f32d7c371945f1b1323956569ec8eb",
       "version_major": 2,
       "version_minor": 0
      },
      "text/plain": [
       "  0%|          | 0/77 [00:00<?, ?it/s]"
      ]
     },
     "metadata": {},
     "output_type": "display_data"
    },
    {
     "ename": "KeyboardInterrupt",
     "evalue": "",
     "output_type": "error",
     "traceback": [
      "\u001b[0;31m---------------------------------------------------------------------------\u001b[0m",
      "\u001b[0;31mKeyboardInterrupt\u001b[0m                         Traceback (most recent call last)",
      "Cell \u001b[0;32mIn[72], line 7\u001b[0m\n\u001b[1;32m      5\u001b[0m \u001b[38;5;28;01mif\u001b[39;00m \u001b[38;5;129;01mnot\u001b[39;00m os\u001b[38;5;241m.\u001b[39mpath\u001b[38;5;241m.\u001b[39mexists(base_path):\n\u001b[1;32m      6\u001b[0m     \u001b[38;5;28mprint\u001b[39m(\u001b[38;5;124mf\u001b[39m\u001b[38;5;124m'\u001b[39m\u001b[38;5;132;01m{\u001b[39;00mepisode[\u001b[38;5;124m\"\u001b[39m\u001b[38;5;124mtitle_id\u001b[39m\u001b[38;5;124m\"\u001b[39m]\u001b[38;5;132;01m}\u001b[39;00m\u001b[38;5;124m, no=\u001b[39m\u001b[38;5;132;01m{\u001b[39;00mepisode[\u001b[38;5;124m\"\u001b[39m\u001b[38;5;124mno\u001b[39m\u001b[38;5;124m\"\u001b[39m]\u001b[38;5;132;01m}\u001b[39;00m\u001b[38;5;124m 다운받는 중 ...\u001b[39m\u001b[38;5;124m'\u001b[39m)\n\u001b[0;32m----> 7\u001b[0m     \u001b[43m웹툰_특정회차_이미지_목록_다운받기\u001b[49m\u001b[43m(\u001b[49m\u001b[43mbase_path\u001b[49m\u001b[43m,\u001b[49m\u001b[43m \u001b[49m\u001b[43mimage_url_list\u001b[49m\u001b[43m)\u001b[49m\n\u001b[1;32m      8\u001b[0m \u001b[38;5;28;01melse\u001b[39;00m:\n\u001b[1;32m      9\u001b[0m     \u001b[38;5;28mprint\u001b[39m(\u001b[38;5;124m\"\u001b[39m\u001b[38;5;124m이미 다운받은 회차입니다.\u001b[39m\u001b[38;5;124m\"\u001b[39m)\n",
      "Cell \u001b[0;32mIn[69], line 12\u001b[0m, in \u001b[0;36m웹툰_특정회차_이미지_목록_다운받기\u001b[0;34m(base_path, image_url_list)\u001b[0m\n\u001b[1;32m     10\u001b[0m \u001b[38;5;66;03m# 순차적으로 하나씩 요청해서 저장 : 멀티쓰레드, 멀티프로세스 등을 활용하면 좀 더 빠른 처리가 가능하다.\u001b[39;00m\n\u001b[1;32m     11\u001b[0m \u001b[38;5;28;01mfor\u001b[39;00m image_url \u001b[38;5;129;01min\u001b[39;00m tqdm(image_url_list):\n\u001b[0;32m---> 12\u001b[0m     res \u001b[38;5;241m=\u001b[39m \u001b[43mrequests\u001b[49m\u001b[38;5;241;43m.\u001b[39;49m\u001b[43mget\u001b[49m\u001b[43m(\u001b[49m\u001b[43mimage_url\u001b[49m\u001b[43m,\u001b[49m\u001b[43m \u001b[49m\u001b[43mheaders\u001b[49m\u001b[38;5;241;43m=\u001b[39;49m\u001b[43mheaders\u001b[49m\u001b[43m)\u001b[49m\n\u001b[1;32m     13\u001b[0m     res\u001b[38;5;241m.\u001b[39mraise_for_status()  \u001b[38;5;66;03m# 정상아니면 예외 발생\u001b[39;00m\n\u001b[1;32m     15\u001b[0m     image_filename \u001b[38;5;241m=\u001b[39m os\u001b[38;5;241m.\u001b[39mpath\u001b[38;5;241m.\u001b[39mbasename(image_url)  \u001b[38;5;66;03m# 파일명 문자열만 뽑아줍니다.\u001b[39;00m\n",
      "File \u001b[0;32m~/Work/offline-abc-bootcamp-2023/venv/lib/python3.11/site-packages/requests/api.py:73\u001b[0m, in \u001b[0;36mget\u001b[0;34m(url, params, **kwargs)\u001b[0m\n\u001b[1;32m     62\u001b[0m \u001b[38;5;28;01mdef\u001b[39;00m \u001b[38;5;21mget\u001b[39m(url, params\u001b[38;5;241m=\u001b[39m\u001b[38;5;28;01mNone\u001b[39;00m, \u001b[38;5;241m*\u001b[39m\u001b[38;5;241m*\u001b[39mkwargs):\n\u001b[1;32m     63\u001b[0m \u001b[38;5;250m    \u001b[39m\u001b[38;5;124mr\u001b[39m\u001b[38;5;124;03m\"\"\"Sends a GET request.\u001b[39;00m\n\u001b[1;32m     64\u001b[0m \n\u001b[1;32m     65\u001b[0m \u001b[38;5;124;03m    :param url: URL for the new :class:`Request` object.\u001b[39;00m\n\u001b[0;32m   (...)\u001b[0m\n\u001b[1;32m     70\u001b[0m \u001b[38;5;124;03m    :rtype: requests.Response\u001b[39;00m\n\u001b[1;32m     71\u001b[0m \u001b[38;5;124;03m    \"\"\"\u001b[39;00m\n\u001b[0;32m---> 73\u001b[0m     \u001b[38;5;28;01mreturn\u001b[39;00m \u001b[43mrequest\u001b[49m\u001b[43m(\u001b[49m\u001b[38;5;124;43m\"\u001b[39;49m\u001b[38;5;124;43mget\u001b[39;49m\u001b[38;5;124;43m\"\u001b[39;49m\u001b[43m,\u001b[49m\u001b[43m \u001b[49m\u001b[43murl\u001b[49m\u001b[43m,\u001b[49m\u001b[43m \u001b[49m\u001b[43mparams\u001b[49m\u001b[38;5;241;43m=\u001b[39;49m\u001b[43mparams\u001b[49m\u001b[43m,\u001b[49m\u001b[43m \u001b[49m\u001b[38;5;241;43m*\u001b[39;49m\u001b[38;5;241;43m*\u001b[39;49m\u001b[43mkwargs\u001b[49m\u001b[43m)\u001b[49m\n",
      "File \u001b[0;32m~/Work/offline-abc-bootcamp-2023/venv/lib/python3.11/site-packages/requests/api.py:59\u001b[0m, in \u001b[0;36mrequest\u001b[0;34m(method, url, **kwargs)\u001b[0m\n\u001b[1;32m     55\u001b[0m \u001b[38;5;66;03m# By using the 'with' statement we are sure the session is closed, thus we\u001b[39;00m\n\u001b[1;32m     56\u001b[0m \u001b[38;5;66;03m# avoid leaving sockets open which can trigger a ResourceWarning in some\u001b[39;00m\n\u001b[1;32m     57\u001b[0m \u001b[38;5;66;03m# cases, and look like a memory leak in others.\u001b[39;00m\n\u001b[1;32m     58\u001b[0m \u001b[38;5;28;01mwith\u001b[39;00m sessions\u001b[38;5;241m.\u001b[39mSession() \u001b[38;5;28;01mas\u001b[39;00m session:\n\u001b[0;32m---> 59\u001b[0m     \u001b[38;5;28;01mreturn\u001b[39;00m \u001b[43msession\u001b[49m\u001b[38;5;241;43m.\u001b[39;49m\u001b[43mrequest\u001b[49m\u001b[43m(\u001b[49m\u001b[43mmethod\u001b[49m\u001b[38;5;241;43m=\u001b[39;49m\u001b[43mmethod\u001b[49m\u001b[43m,\u001b[49m\u001b[43m \u001b[49m\u001b[43murl\u001b[49m\u001b[38;5;241;43m=\u001b[39;49m\u001b[43murl\u001b[49m\u001b[43m,\u001b[49m\u001b[43m \u001b[49m\u001b[38;5;241;43m*\u001b[39;49m\u001b[38;5;241;43m*\u001b[39;49m\u001b[43mkwargs\u001b[49m\u001b[43m)\u001b[49m\n",
      "File \u001b[0;32m~/Work/offline-abc-bootcamp-2023/venv/lib/python3.11/site-packages/requests/sessions.py:589\u001b[0m, in \u001b[0;36mSession.request\u001b[0;34m(self, method, url, params, data, headers, cookies, files, auth, timeout, allow_redirects, proxies, hooks, stream, verify, cert, json)\u001b[0m\n\u001b[1;32m    584\u001b[0m send_kwargs \u001b[38;5;241m=\u001b[39m {\n\u001b[1;32m    585\u001b[0m     \u001b[38;5;124m\"\u001b[39m\u001b[38;5;124mtimeout\u001b[39m\u001b[38;5;124m\"\u001b[39m: timeout,\n\u001b[1;32m    586\u001b[0m     \u001b[38;5;124m\"\u001b[39m\u001b[38;5;124mallow_redirects\u001b[39m\u001b[38;5;124m\"\u001b[39m: allow_redirects,\n\u001b[1;32m    587\u001b[0m }\n\u001b[1;32m    588\u001b[0m send_kwargs\u001b[38;5;241m.\u001b[39mupdate(settings)\n\u001b[0;32m--> 589\u001b[0m resp \u001b[38;5;241m=\u001b[39m \u001b[38;5;28;43mself\u001b[39;49m\u001b[38;5;241;43m.\u001b[39;49m\u001b[43msend\u001b[49m\u001b[43m(\u001b[49m\u001b[43mprep\u001b[49m\u001b[43m,\u001b[49m\u001b[43m \u001b[49m\u001b[38;5;241;43m*\u001b[39;49m\u001b[38;5;241;43m*\u001b[39;49m\u001b[43msend_kwargs\u001b[49m\u001b[43m)\u001b[49m\n\u001b[1;32m    591\u001b[0m \u001b[38;5;28;01mreturn\u001b[39;00m resp\n",
      "File \u001b[0;32m~/Work/offline-abc-bootcamp-2023/venv/lib/python3.11/site-packages/requests/sessions.py:703\u001b[0m, in \u001b[0;36mSession.send\u001b[0;34m(self, request, **kwargs)\u001b[0m\n\u001b[1;32m    700\u001b[0m start \u001b[38;5;241m=\u001b[39m preferred_clock()\n\u001b[1;32m    702\u001b[0m \u001b[38;5;66;03m# Send the request\u001b[39;00m\n\u001b[0;32m--> 703\u001b[0m r \u001b[38;5;241m=\u001b[39m \u001b[43madapter\u001b[49m\u001b[38;5;241;43m.\u001b[39;49m\u001b[43msend\u001b[49m\u001b[43m(\u001b[49m\u001b[43mrequest\u001b[49m\u001b[43m,\u001b[49m\u001b[43m \u001b[49m\u001b[38;5;241;43m*\u001b[39;49m\u001b[38;5;241;43m*\u001b[39;49m\u001b[43mkwargs\u001b[49m\u001b[43m)\u001b[49m\n\u001b[1;32m    705\u001b[0m \u001b[38;5;66;03m# Total elapsed time of the request (approximately)\u001b[39;00m\n\u001b[1;32m    706\u001b[0m elapsed \u001b[38;5;241m=\u001b[39m preferred_clock() \u001b[38;5;241m-\u001b[39m start\n",
      "File \u001b[0;32m~/Work/offline-abc-bootcamp-2023/venv/lib/python3.11/site-packages/requests/adapters.py:486\u001b[0m, in \u001b[0;36mHTTPAdapter.send\u001b[0;34m(self, request, stream, timeout, verify, cert, proxies)\u001b[0m\n\u001b[1;32m    483\u001b[0m     timeout \u001b[38;5;241m=\u001b[39m TimeoutSauce(connect\u001b[38;5;241m=\u001b[39mtimeout, read\u001b[38;5;241m=\u001b[39mtimeout)\n\u001b[1;32m    485\u001b[0m \u001b[38;5;28;01mtry\u001b[39;00m:\n\u001b[0;32m--> 486\u001b[0m     resp \u001b[38;5;241m=\u001b[39m \u001b[43mconn\u001b[49m\u001b[38;5;241;43m.\u001b[39;49m\u001b[43murlopen\u001b[49m\u001b[43m(\u001b[49m\n\u001b[1;32m    487\u001b[0m \u001b[43m        \u001b[49m\u001b[43mmethod\u001b[49m\u001b[38;5;241;43m=\u001b[39;49m\u001b[43mrequest\u001b[49m\u001b[38;5;241;43m.\u001b[39;49m\u001b[43mmethod\u001b[49m\u001b[43m,\u001b[49m\n\u001b[1;32m    488\u001b[0m \u001b[43m        \u001b[49m\u001b[43murl\u001b[49m\u001b[38;5;241;43m=\u001b[39;49m\u001b[43murl\u001b[49m\u001b[43m,\u001b[49m\n\u001b[1;32m    489\u001b[0m \u001b[43m        \u001b[49m\u001b[43mbody\u001b[49m\u001b[38;5;241;43m=\u001b[39;49m\u001b[43mrequest\u001b[49m\u001b[38;5;241;43m.\u001b[39;49m\u001b[43mbody\u001b[49m\u001b[43m,\u001b[49m\n\u001b[1;32m    490\u001b[0m \u001b[43m        \u001b[49m\u001b[43mheaders\u001b[49m\u001b[38;5;241;43m=\u001b[39;49m\u001b[43mrequest\u001b[49m\u001b[38;5;241;43m.\u001b[39;49m\u001b[43mheaders\u001b[49m\u001b[43m,\u001b[49m\n\u001b[1;32m    491\u001b[0m \u001b[43m        \u001b[49m\u001b[43mredirect\u001b[49m\u001b[38;5;241;43m=\u001b[39;49m\u001b[38;5;28;43;01mFalse\u001b[39;49;00m\u001b[43m,\u001b[49m\n\u001b[1;32m    492\u001b[0m \u001b[43m        \u001b[49m\u001b[43massert_same_host\u001b[49m\u001b[38;5;241;43m=\u001b[39;49m\u001b[38;5;28;43;01mFalse\u001b[39;49;00m\u001b[43m,\u001b[49m\n\u001b[1;32m    493\u001b[0m \u001b[43m        \u001b[49m\u001b[43mpreload_content\u001b[49m\u001b[38;5;241;43m=\u001b[39;49m\u001b[38;5;28;43;01mFalse\u001b[39;49;00m\u001b[43m,\u001b[49m\n\u001b[1;32m    494\u001b[0m \u001b[43m        \u001b[49m\u001b[43mdecode_content\u001b[49m\u001b[38;5;241;43m=\u001b[39;49m\u001b[38;5;28;43;01mFalse\u001b[39;49;00m\u001b[43m,\u001b[49m\n\u001b[1;32m    495\u001b[0m \u001b[43m        \u001b[49m\u001b[43mretries\u001b[49m\u001b[38;5;241;43m=\u001b[39;49m\u001b[38;5;28;43mself\u001b[39;49m\u001b[38;5;241;43m.\u001b[39;49m\u001b[43mmax_retries\u001b[49m\u001b[43m,\u001b[49m\n\u001b[1;32m    496\u001b[0m \u001b[43m        \u001b[49m\u001b[43mtimeout\u001b[49m\u001b[38;5;241;43m=\u001b[39;49m\u001b[43mtimeout\u001b[49m\u001b[43m,\u001b[49m\n\u001b[1;32m    497\u001b[0m \u001b[43m        \u001b[49m\u001b[43mchunked\u001b[49m\u001b[38;5;241;43m=\u001b[39;49m\u001b[43mchunked\u001b[49m\u001b[43m,\u001b[49m\n\u001b[1;32m    498\u001b[0m \u001b[43m    \u001b[49m\u001b[43m)\u001b[49m\n\u001b[1;32m    500\u001b[0m \u001b[38;5;28;01mexcept\u001b[39;00m (ProtocolError, \u001b[38;5;167;01mOSError\u001b[39;00m) \u001b[38;5;28;01mas\u001b[39;00m err:\n\u001b[1;32m    501\u001b[0m     \u001b[38;5;28;01mraise\u001b[39;00m \u001b[38;5;167;01mConnectionError\u001b[39;00m(err, request\u001b[38;5;241m=\u001b[39mrequest)\n",
      "File \u001b[0;32m~/Work/offline-abc-bootcamp-2023/venv/lib/python3.11/site-packages/urllib3/connectionpool.py:790\u001b[0m, in \u001b[0;36mHTTPConnectionPool.urlopen\u001b[0;34m(self, method, url, body, headers, retries, redirect, assert_same_host, timeout, pool_timeout, release_conn, chunked, body_pos, preload_content, decode_content, **response_kw)\u001b[0m\n\u001b[1;32m    787\u001b[0m response_conn \u001b[38;5;241m=\u001b[39m conn \u001b[38;5;28;01mif\u001b[39;00m \u001b[38;5;129;01mnot\u001b[39;00m release_conn \u001b[38;5;28;01melse\u001b[39;00m \u001b[38;5;28;01mNone\u001b[39;00m\n\u001b[1;32m    789\u001b[0m \u001b[38;5;66;03m# Make the request on the HTTPConnection object\u001b[39;00m\n\u001b[0;32m--> 790\u001b[0m response \u001b[38;5;241m=\u001b[39m \u001b[38;5;28;43mself\u001b[39;49m\u001b[38;5;241;43m.\u001b[39;49m\u001b[43m_make_request\u001b[49m\u001b[43m(\u001b[49m\n\u001b[1;32m    791\u001b[0m \u001b[43m    \u001b[49m\u001b[43mconn\u001b[49m\u001b[43m,\u001b[49m\n\u001b[1;32m    792\u001b[0m \u001b[43m    \u001b[49m\u001b[43mmethod\u001b[49m\u001b[43m,\u001b[49m\n\u001b[1;32m    793\u001b[0m \u001b[43m    \u001b[49m\u001b[43murl\u001b[49m\u001b[43m,\u001b[49m\n\u001b[1;32m    794\u001b[0m \u001b[43m    \u001b[49m\u001b[43mtimeout\u001b[49m\u001b[38;5;241;43m=\u001b[39;49m\u001b[43mtimeout_obj\u001b[49m\u001b[43m,\u001b[49m\n\u001b[1;32m    795\u001b[0m \u001b[43m    \u001b[49m\u001b[43mbody\u001b[49m\u001b[38;5;241;43m=\u001b[39;49m\u001b[43mbody\u001b[49m\u001b[43m,\u001b[49m\n\u001b[1;32m    796\u001b[0m \u001b[43m    \u001b[49m\u001b[43mheaders\u001b[49m\u001b[38;5;241;43m=\u001b[39;49m\u001b[43mheaders\u001b[49m\u001b[43m,\u001b[49m\n\u001b[1;32m    797\u001b[0m \u001b[43m    \u001b[49m\u001b[43mchunked\u001b[49m\u001b[38;5;241;43m=\u001b[39;49m\u001b[43mchunked\u001b[49m\u001b[43m,\u001b[49m\n\u001b[1;32m    798\u001b[0m \u001b[43m    \u001b[49m\u001b[43mretries\u001b[49m\u001b[38;5;241;43m=\u001b[39;49m\u001b[43mretries\u001b[49m\u001b[43m,\u001b[49m\n\u001b[1;32m    799\u001b[0m \u001b[43m    \u001b[49m\u001b[43mresponse_conn\u001b[49m\u001b[38;5;241;43m=\u001b[39;49m\u001b[43mresponse_conn\u001b[49m\u001b[43m,\u001b[49m\n\u001b[1;32m    800\u001b[0m \u001b[43m    \u001b[49m\u001b[43mpreload_content\u001b[49m\u001b[38;5;241;43m=\u001b[39;49m\u001b[43mpreload_content\u001b[49m\u001b[43m,\u001b[49m\n\u001b[1;32m    801\u001b[0m \u001b[43m    \u001b[49m\u001b[43mdecode_content\u001b[49m\u001b[38;5;241;43m=\u001b[39;49m\u001b[43mdecode_content\u001b[49m\u001b[43m,\u001b[49m\n\u001b[1;32m    802\u001b[0m \u001b[43m    \u001b[49m\u001b[38;5;241;43m*\u001b[39;49m\u001b[38;5;241;43m*\u001b[39;49m\u001b[43mresponse_kw\u001b[49m\u001b[43m,\u001b[49m\n\u001b[1;32m    803\u001b[0m \u001b[43m\u001b[49m\u001b[43m)\u001b[49m\n\u001b[1;32m    805\u001b[0m \u001b[38;5;66;03m# Everything went great!\u001b[39;00m\n\u001b[1;32m    806\u001b[0m clean_exit \u001b[38;5;241m=\u001b[39m \u001b[38;5;28;01mTrue\u001b[39;00m\n",
      "File \u001b[0;32m~/Work/offline-abc-bootcamp-2023/venv/lib/python3.11/site-packages/urllib3/connectionpool.py:467\u001b[0m, in \u001b[0;36mHTTPConnectionPool._make_request\u001b[0;34m(self, conn, method, url, body, headers, retries, timeout, chunked, response_conn, preload_content, decode_content, enforce_content_length)\u001b[0m\n\u001b[1;32m    464\u001b[0m \u001b[38;5;28;01mtry\u001b[39;00m:\n\u001b[1;32m    465\u001b[0m     \u001b[38;5;66;03m# Trigger any extra validation we need to do.\u001b[39;00m\n\u001b[1;32m    466\u001b[0m     \u001b[38;5;28;01mtry\u001b[39;00m:\n\u001b[0;32m--> 467\u001b[0m         \u001b[38;5;28;43mself\u001b[39;49m\u001b[38;5;241;43m.\u001b[39;49m\u001b[43m_validate_conn\u001b[49m\u001b[43m(\u001b[49m\u001b[43mconn\u001b[49m\u001b[43m)\u001b[49m\n\u001b[1;32m    468\u001b[0m     \u001b[38;5;28;01mexcept\u001b[39;00m (SocketTimeout, BaseSSLError) \u001b[38;5;28;01mas\u001b[39;00m e:\n\u001b[1;32m    469\u001b[0m         \u001b[38;5;28mself\u001b[39m\u001b[38;5;241m.\u001b[39m_raise_timeout(err\u001b[38;5;241m=\u001b[39me, url\u001b[38;5;241m=\u001b[39murl, timeout_value\u001b[38;5;241m=\u001b[39mconn\u001b[38;5;241m.\u001b[39mtimeout)\n",
      "File \u001b[0;32m~/Work/offline-abc-bootcamp-2023/venv/lib/python3.11/site-packages/urllib3/connectionpool.py:1092\u001b[0m, in \u001b[0;36mHTTPSConnectionPool._validate_conn\u001b[0;34m(self, conn)\u001b[0m\n\u001b[1;32m   1090\u001b[0m \u001b[38;5;66;03m# Force connect early to allow us to validate the connection.\u001b[39;00m\n\u001b[1;32m   1091\u001b[0m \u001b[38;5;28;01mif\u001b[39;00m conn\u001b[38;5;241m.\u001b[39mis_closed:\n\u001b[0;32m-> 1092\u001b[0m     \u001b[43mconn\u001b[49m\u001b[38;5;241;43m.\u001b[39;49m\u001b[43mconnect\u001b[49m\u001b[43m(\u001b[49m\u001b[43m)\u001b[49m\n\u001b[1;32m   1094\u001b[0m \u001b[38;5;28;01mif\u001b[39;00m \u001b[38;5;129;01mnot\u001b[39;00m conn\u001b[38;5;241m.\u001b[39mis_verified:\n\u001b[1;32m   1095\u001b[0m     warnings\u001b[38;5;241m.\u001b[39mwarn(\n\u001b[1;32m   1096\u001b[0m         (\n\u001b[1;32m   1097\u001b[0m             \u001b[38;5;124mf\u001b[39m\u001b[38;5;124m\"\u001b[39m\u001b[38;5;124mUnverified HTTPS request is being made to host \u001b[39m\u001b[38;5;124m'\u001b[39m\u001b[38;5;132;01m{\u001b[39;00mconn\u001b[38;5;241m.\u001b[39mhost\u001b[38;5;132;01m}\u001b[39;00m\u001b[38;5;124m'\u001b[39m\u001b[38;5;124m. \u001b[39m\u001b[38;5;124m\"\u001b[39m\n\u001b[0;32m   (...)\u001b[0m\n\u001b[1;32m   1102\u001b[0m         InsecureRequestWarning,\n\u001b[1;32m   1103\u001b[0m     )\n",
      "File \u001b[0;32m~/Work/offline-abc-bootcamp-2023/venv/lib/python3.11/site-packages/urllib3/connection.py:611\u001b[0m, in \u001b[0;36mHTTPSConnection.connect\u001b[0;34m(self)\u001b[0m\n\u001b[1;32m    609\u001b[0m \u001b[38;5;28;01mdef\u001b[39;00m \u001b[38;5;21mconnect\u001b[39m(\u001b[38;5;28mself\u001b[39m) \u001b[38;5;241m-\u001b[39m\u001b[38;5;241m>\u001b[39m \u001b[38;5;28;01mNone\u001b[39;00m:\n\u001b[1;32m    610\u001b[0m     sock: socket\u001b[38;5;241m.\u001b[39msocket \u001b[38;5;241m|\u001b[39m ssl\u001b[38;5;241m.\u001b[39mSSLSocket\n\u001b[0;32m--> 611\u001b[0m     \u001b[38;5;28mself\u001b[39m\u001b[38;5;241m.\u001b[39msock \u001b[38;5;241m=\u001b[39m sock \u001b[38;5;241m=\u001b[39m \u001b[38;5;28;43mself\u001b[39;49m\u001b[38;5;241;43m.\u001b[39;49m\u001b[43m_new_conn\u001b[49m\u001b[43m(\u001b[49m\u001b[43m)\u001b[49m\n\u001b[1;32m    612\u001b[0m     server_hostname: \u001b[38;5;28mstr\u001b[39m \u001b[38;5;241m=\u001b[39m \u001b[38;5;28mself\u001b[39m\u001b[38;5;241m.\u001b[39mhost\n\u001b[1;32m    613\u001b[0m     tls_in_tls \u001b[38;5;241m=\u001b[39m \u001b[38;5;28;01mFalse\u001b[39;00m\n",
      "File \u001b[0;32m~/Work/offline-abc-bootcamp-2023/venv/lib/python3.11/site-packages/urllib3/connection.py:203\u001b[0m, in \u001b[0;36mHTTPConnection._new_conn\u001b[0;34m(self)\u001b[0m\n\u001b[1;32m    198\u001b[0m \u001b[38;5;250m\u001b[39m\u001b[38;5;124;03m\"\"\"Establish a socket connection and set nodelay settings on it.\u001b[39;00m\n\u001b[1;32m    199\u001b[0m \n\u001b[1;32m    200\u001b[0m \u001b[38;5;124;03m:return: New socket connection.\u001b[39;00m\n\u001b[1;32m    201\u001b[0m \u001b[38;5;124;03m\"\"\"\u001b[39;00m\n\u001b[1;32m    202\u001b[0m \u001b[38;5;28;01mtry\u001b[39;00m:\n\u001b[0;32m--> 203\u001b[0m     sock \u001b[38;5;241m=\u001b[39m \u001b[43mconnection\u001b[49m\u001b[38;5;241;43m.\u001b[39;49m\u001b[43mcreate_connection\u001b[49m\u001b[43m(\u001b[49m\n\u001b[1;32m    204\u001b[0m \u001b[43m        \u001b[49m\u001b[43m(\u001b[49m\u001b[38;5;28;43mself\u001b[39;49m\u001b[38;5;241;43m.\u001b[39;49m\u001b[43m_dns_host\u001b[49m\u001b[43m,\u001b[49m\u001b[43m \u001b[49m\u001b[38;5;28;43mself\u001b[39;49m\u001b[38;5;241;43m.\u001b[39;49m\u001b[43mport\u001b[49m\u001b[43m)\u001b[49m\u001b[43m,\u001b[49m\n\u001b[1;32m    205\u001b[0m \u001b[43m        \u001b[49m\u001b[38;5;28;43mself\u001b[39;49m\u001b[38;5;241;43m.\u001b[39;49m\u001b[43mtimeout\u001b[49m\u001b[43m,\u001b[49m\n\u001b[1;32m    206\u001b[0m \u001b[43m        \u001b[49m\u001b[43msource_address\u001b[49m\u001b[38;5;241;43m=\u001b[39;49m\u001b[38;5;28;43mself\u001b[39;49m\u001b[38;5;241;43m.\u001b[39;49m\u001b[43msource_address\u001b[49m\u001b[43m,\u001b[49m\n\u001b[1;32m    207\u001b[0m \u001b[43m        \u001b[49m\u001b[43msocket_options\u001b[49m\u001b[38;5;241;43m=\u001b[39;49m\u001b[38;5;28;43mself\u001b[39;49m\u001b[38;5;241;43m.\u001b[39;49m\u001b[43msocket_options\u001b[49m\u001b[43m,\u001b[49m\n\u001b[1;32m    208\u001b[0m \u001b[43m    \u001b[49m\u001b[43m)\u001b[49m\n\u001b[1;32m    209\u001b[0m \u001b[38;5;28;01mexcept\u001b[39;00m socket\u001b[38;5;241m.\u001b[39mgaierror \u001b[38;5;28;01mas\u001b[39;00m e:\n\u001b[1;32m    210\u001b[0m     \u001b[38;5;28;01mraise\u001b[39;00m NameResolutionError(\u001b[38;5;28mself\u001b[39m\u001b[38;5;241m.\u001b[39mhost, \u001b[38;5;28mself\u001b[39m, e) \u001b[38;5;28;01mfrom\u001b[39;00m \u001b[38;5;21;01me\u001b[39;00m\n",
      "File \u001b[0;32m~/Work/offline-abc-bootcamp-2023/venv/lib/python3.11/site-packages/urllib3/util/connection.py:73\u001b[0m, in \u001b[0;36mcreate_connection\u001b[0;34m(address, timeout, source_address, socket_options)\u001b[0m\n\u001b[1;32m     71\u001b[0m \u001b[38;5;28;01mif\u001b[39;00m source_address:\n\u001b[1;32m     72\u001b[0m     sock\u001b[38;5;241m.\u001b[39mbind(source_address)\n\u001b[0;32m---> 73\u001b[0m \u001b[43msock\u001b[49m\u001b[38;5;241;43m.\u001b[39;49m\u001b[43mconnect\u001b[49m\u001b[43m(\u001b[49m\u001b[43msa\u001b[49m\u001b[43m)\u001b[49m\n\u001b[1;32m     74\u001b[0m \u001b[38;5;66;03m# Break explicitly a reference cycle\u001b[39;00m\n\u001b[1;32m     75\u001b[0m err \u001b[38;5;241m=\u001b[39m \u001b[38;5;28;01mNone\u001b[39;00m\n",
      "\u001b[0;31mKeyboardInterrupt\u001b[0m: "
     ]
    }
   ],
   "source": [
    "for episode in episode_list:\n",
    "    image_url_list = 웹툰_특정회차_이미지_목록_가져오기(episode[\"title_id\"], episode[\"no\"])\n",
    "\n",
    "    base_path = os.path.join(\"webtoons\", str(episode[\"title_id\"]), str(episode[\"no\"]))\n",
    "    if not os.path.exists(base_path):\n",
    "        print(f'{episode[\"title_id\"]}, no={episode[\"no\"]} 다운받는 중 ...')\n",
    "        웹툰_특정회차_이미지_목록_다운받기(base_path, image_url_list)\n",
    "    else:\n",
    "        print(\"이미 다운받은 회차입니다.\")\n",
    "\n",
    "    # break  # 구현 중이라서, 하나만 순회토록 합니다."
   ]
  },
  {
   "cell_type": "code",
   "execution_count": null,
   "id": "fd049abb-13ee-4249-b155-f46faae66342",
   "metadata": {},
   "outputs": [],
   "source": []
  },
  {
   "cell_type": "code",
   "execution_count": null,
   "id": "60880ea9-2fd2-45f1-86da-1a4eb5552ea7",
   "metadata": {},
   "outputs": [],
   "source": []
  },
  {
   "cell_type": "code",
   "execution_count": null,
   "id": "4d10274c-7b5e-40a7-a8e8-8513f7abb544",
   "metadata": {},
   "outputs": [],
   "source": []
  },
  {
   "cell_type": "code",
   "execution_count": null,
   "id": "603af0fe-bd05-45b1-a56f-e484aa1eb8c5",
   "metadata": {},
   "outputs": [],
   "source": []
  }
 ],
 "metadata": {
  "kernelspec": {
   "display_name": "Python 3 (ipykernel)",
   "language": "python",
   "name": "python3"
  },
  "language_info": {
   "codemirror_mode": {
    "name": "ipython",
    "version": 3
   },
   "file_extension": ".py",
   "mimetype": "text/x-python",
   "name": "python",
   "nbconvert_exporter": "python",
   "pygments_lexer": "ipython3",
   "version": "3.11.3"
  }
 },
 "nbformat": 4,
 "nbformat_minor": 5
}
