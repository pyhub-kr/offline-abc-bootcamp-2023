{
 "cells": [
  {
   "cell_type": "markdown",
   "id": "8f38a4d4",
   "metadata": {},
   "source": [
    "# 보이는 웹툰 화면의 회차 url 리스트화"
   ]
  },
  {
   "cell_type": "code",
   "execution_count": 1,
   "id": "6e2ef22b",
   "metadata": {},
   "outputs": [],
   "source": [
    "import requests\n",
    "from bs4 import BeautifulSoup\n",
    "from urllib.parse import urljoin"
   ]
  },
  {
   "cell_type": "code",
   "execution_count": 2,
   "id": "0cec6931",
   "metadata": {},
   "outputs": [],
   "source": [
    "index_page_url = \"https://m.comic.naver.com/webtoon/list?titleId=747269&week=wed\""
   ]
  },
  {
   "cell_type": "code",
   "execution_count": 3,
   "id": "a1cf326e",
   "metadata": {},
   "outputs": [],
   "source": [
    "headers= {\n",
    "    \"User-Agent\": \"Mozilla/5.0 (Windows NT 10.0; Win64; x64) AppleWebKit/537.36 (KHTML, like Gecko) Chrome/115.0.0.0 Safari/537.36\"\n",
    "}"
   ]
  },
  {
   "cell_type": "code",
   "execution_count": 4,
   "id": "235fa5ef",
   "metadata": {},
   "outputs": [
    {
     "data": {
      "text/plain": [
       "<Response [200]>"
      ]
     },
     "execution_count": 4,
     "metadata": {},
     "output_type": "execute_result"
    }
   ],
   "source": [
    "res = requests.get(index_page_url, headers=headers)\n",
    "res"
   ]
  },
  {
   "cell_type": "code",
   "execution_count": 5,
   "id": "4c6d3b13",
   "metadata": {},
   "outputs": [
    {
     "data": {
      "text/plain": [
       "49170"
      ]
     },
     "execution_count": 5,
     "metadata": {},
     "output_type": "execute_result"
    }
   ],
   "source": [
    "html = res.text\n",
    "len(html)"
   ]
  },
  {
   "cell_type": "code",
   "execution_count": 6,
   "id": "0822650b",
   "metadata": {},
   "outputs": [
    {
     "name": "stdout",
     "output_type": "stream",
     "text": [
      "162. Ep. 28 최강의 희생양 (6)\n",
      "https://m.comic.naver.com/webtoon/detail?titleId=747269&no=163&week=wed&listSortOrder=DESC&listPage=1\n",
      "161. Ep. 28 최강의 희생양 (5)\n",
      "https://m.comic.naver.com/webtoon/detail?titleId=747269&no=162&week=wed&listSortOrder=DESC&listPage=1\n",
      "160. Ep. 28 최강의 희생양 (4)\n",
      "https://m.comic.naver.com/webtoon/detail?titleId=747269&no=161&week=wed&listSortOrder=DESC&listPage=1\n",
      "159. Ep. 28 최강의 희생양 (3)\n",
      "https://m.comic.naver.com/webtoon/detail?titleId=747269&no=160&week=wed&listSortOrder=DESC&listPage=1\n",
      "158. Ep. 28 최강의 희생양 (2)\n",
      "https://m.comic.naver.com/webtoon/detail?titleId=747269&no=159&week=wed&listSortOrder=DESC&listPage=1\n",
      "157. Ep. 28 최강의 희생양 (1)\n",
      "https://m.comic.naver.com/webtoon/detail?titleId=747269&no=158&week=wed&listSortOrder=DESC&listPage=1\n",
      "156. Ep. 27 읽을 수 없는 것 (4)\n",
      "https://m.comic.naver.com/webtoon/detail?titleId=747269&no=157&week=wed&listSortOrder=DESC&listPage=1\n",
      "155. Ep. 27 읽을 수 없는 것 (3)\n",
      "https://m.comic.naver.com/webtoon/detail?titleId=747269&no=156&week=wed&listSortOrder=DESC&listPage=1\n",
      "154. Ep. 27 읽을 수 없는 것 (2)\n",
      "https://m.comic.naver.com/webtoon/detail?titleId=747269&no=155&week=wed&listSortOrder=DESC&listPage=1\n",
      "153. Ep. 27 읽을 수 없는 것 (1)\n",
      "https://m.comic.naver.com/webtoon/detail?titleId=747269&no=154&week=wed&listSortOrder=DESC&listPage=1\n",
      "152. Ep. 26 시나리오 파괴자 (9)\n",
      "https://m.comic.naver.com/webtoon/detail?titleId=747269&no=153&week=wed&listSortOrder=DESC&listPage=1\n",
      "151. Ep. 26 시나리오 파괴자 (8)\n",
      "https://m.comic.naver.com/webtoon/detail?titleId=747269&no=152&week=wed&listSortOrder=DESC&listPage=1\n",
      "150. Ep. 26 시나리오 파괴자 (7)\n",
      "https://m.comic.naver.com/webtoon/detail?titleId=747269&no=151&week=wed&listSortOrder=DESC&listPage=1\n",
      "149. Ep. 26 시나리오 파괴자 (6)\n",
      "https://m.comic.naver.com/webtoon/detail?titleId=747269&no=150&week=wed&listSortOrder=DESC&listPage=1\n",
      "148. Ep. 26 시나리오 파괴자 (5)\n",
      "https://m.comic.naver.com/webtoon/detail?titleId=747269&no=149&week=wed&listSortOrder=DESC&listPage=1\n",
      "147. Ep. 26 시나리오 파괴자 (4)\n",
      "https://m.comic.naver.com/webtoon/detail?titleId=747269&no=148&week=wed&listSortOrder=DESC&listPage=1\n",
      "146. Ep. 26 시나리오 파괴자 (3)\n",
      "https://m.comic.naver.com/webtoon/detail?titleId=747269&no=147&week=wed&listSortOrder=DESC&listPage=1\n",
      "145. Ep. 26 시나리오 파괴자 (2)\n",
      "https://m.comic.naver.com/webtoon/detail?titleId=747269&no=146&week=wed&listSortOrder=DESC&listPage=1\n",
      "144. Ep. 26 시나리오 파괴자 (1)\n",
      "https://m.comic.naver.com/webtoon/detail?titleId=747269&no=145&week=wed&listSortOrder=DESC&listPage=1\n",
      "143. Ep. 25 신과 마주 보는 자들 (9)\n",
      "https://m.comic.naver.com/webtoon/detail?titleId=747269&no=144&week=wed&listSortOrder=DESC&listPage=1\n",
      "142. Ep. 25 신과 마주 보는 자들 (8)\n",
      "https://m.comic.naver.com/webtoon/detail?titleId=747269&no=143&week=wed&listSortOrder=DESC&listPage=1\n",
      "141. Ep. 25 신과 마주 보는 자들 (7)\n",
      "https://m.comic.naver.com/webtoon/detail?titleId=747269&no=142&week=wed&listSortOrder=DESC&listPage=1\n",
      "140. Ep. 25 신과 마주 보는 자들 (6)\n",
      "https://m.comic.naver.com/webtoon/detail?titleId=747269&no=141&week=wed&listSortOrder=DESC&listPage=1\n",
      "139. Ep. 25 신과 마주 보는 자들 (5)\n",
      "https://m.comic.naver.com/webtoon/detail?titleId=747269&no=140&week=wed&listSortOrder=DESC&listPage=1\n",
      "138. Ep. 25 신과 마주 보는 자들 (4)\n",
      "https://m.comic.naver.com/webtoon/detail?titleId=747269&no=139&week=wed&listSortOrder=DESC&listPage=1\n",
      "137. Ep. 25 신과 마주 보는 자들 (3)\n",
      "https://m.comic.naver.com/webtoon/detail?titleId=747269&no=138&week=wed&listSortOrder=DESC&listPage=1\n",
      "136. Ep. 25 신과 마주 보는 자들 (2)\n",
      "https://m.comic.naver.com/webtoon/detail?titleId=747269&no=137&week=wed&listSortOrder=DESC&listPage=1\n",
      "135. Ep. 25 신과 마주 보는 자들 (1)\n",
      "https://m.comic.naver.com/webtoon/detail?titleId=747269&no=136&week=wed&listSortOrder=DESC&listPage=1\n",
      "134. Ep. 24 바꿀 수 있는 것 (9)\n",
      "https://m.comic.naver.com/webtoon/detail?titleId=747269&no=135&week=wed&listSortOrder=DESC&listPage=1\n",
      "133. Ep. 24 바꿀 수 있는 것 (8)\n",
      "https://m.comic.naver.com/webtoon/detail?titleId=747269&no=134&week=wed&listSortOrder=DESC&listPage=1\n"
     ]
    }
   ],
   "source": [
    "soup = BeautifulSoup(html, \"html.parser\")\n",
    "tag_list = soup.select('.section_episode_list a') # .select는 태그 리스트를 반환\n",
    "\n",
    "for a_tag in tag_list:\n",
    "    ep_url = a_tag[\"href\"]\n",
    "    if ep_url != \"#\":\n",
    "        name_tag = a_tag.select(\".name\")[0]\n",
    "        w_title = name_tag.text\n",
    "        print(w_title)\n",
    "        \n",
    "        ep_url = \"https://m.comic.naver.com\" + ep_url\n",
    "        ep_url = urljoin(index_page_url, ep_url)\n",
    "        print(ep_url)"
   ]
  },
  {
   "cell_type": "markdown",
   "id": "6f85613b",
   "metadata": {},
   "source": [
    "# 회차별 이미지를 저장할 디렉토리 생성"
   ]
  },
  {
   "cell_type": "code",
   "execution_count": 7,
   "id": "c6523ef5",
   "metadata": {},
   "outputs": [
    {
     "data": {
      "text/plain": [
       "'001.jpg'"
      ]
     },
     "execution_count": 7,
     "metadata": {},
     "output_type": "execute_result"
    }
   ],
   "source": [
    "idx=1\n",
    "f\"{idx:03d}.jpg\""
   ]
  },
  {
   "cell_type": "code",
   "execution_count": 8,
   "id": "01c23846",
   "metadata": {},
   "outputs": [
    {
     "data": {
      "text/plain": [
       "91"
      ]
     },
     "execution_count": 8,
     "metadata": {},
     "output_type": "execute_result"
    }
   ],
   "source": [
    "page_url = \"https://m.comic.naver.com/webtoon/detail?titleId=747269&no=163\"\n",
    "res = requests.get(page_url)\n",
    "html = res.text\n",
    "soup = BeautifulSoup(html, \"html.parser\")\n",
    "image_list = soup.select('.toon_view_lst p img')\n",
    "len(image_list)"
   ]
  },
  {
   "cell_type": "code",
   "execution_count": 9,
   "id": "8c463646",
   "metadata": {},
   "outputs": [
    {
     "data": {
      "text/plain": [
       "<img alt=\"\" class=\"fx2 lazy toon_image\" data-src=\"https://image-comic.pstatic.net/mobilewebimg/747269/163/de52849320e7d3cf4021d98a8fff7a25_001.jpg\" id=\"toon_0\" src=\"https://ssl.pstatic.net/static/m/comic/im/2012/bg_transparency.png\"/>"
      ]
     },
     "execution_count": 9,
     "metadata": {},
     "output_type": "execute_result"
    }
   ],
   "source": [
    "tag = image_list[0]\n",
    "tag"
   ]
  },
  {
   "cell_type": "code",
   "execution_count": 10,
   "id": "f182bdc4",
   "metadata": {},
   "outputs": [
    {
     "data": {
      "text/plain": [
       "'https://ssl.pstatic.net/static/m/comic/im/2012/bg_transparency.png'"
      ]
     },
     "execution_count": 10,
     "metadata": {},
     "output_type": "execute_result"
    }
   ],
   "source": [
    "tag['src']"
   ]
  },
  {
   "cell_type": "code",
   "execution_count": null,
   "id": "d4fc7606",
   "metadata": {},
   "outputs": [],
   "source": [
    "import os\n",
    "from tqdm.notebook import tqdm\n",
    "\n",
    "toon_title = \"전지적 독자 시점\"\n",
    "\n",
    "for a_tag in tag_list:\n",
    "    ep_url = a_tag[\"href\"]\n",
    "    if ep_url != \"#\":\n",
    "        name_tag = a_tag.select(\".name\")[0]\n",
    "        w_title = name_tag.text\n",
    "        print(w_title + \" - Download start !!\")\n",
    "        \n",
    "        ep_url = \"https://comic.naver.com\" + ep_url\n",
    "        ep_url = urljoin(index_page_url, ep_url)\n",
    "        #print(ep_url)\n",
    "        \n",
    "        episode_res = requests.get(ep_url, headers=headers)\n",
    "        episode_html = episode_res.text\n",
    "        episode_soup = BeautifulSoup(episode_html, \"html.parser\")\n",
    "        episode_list = episode_soup.select(\".wt_viewer img\")\n",
    "        \n",
    "        for idx, img_tag in enumerate(episode_list, 1):\n",
    "            filepath = f\"{toon_title}/{w_title}/{idx:03d}.jpg\" \n",
    "            #print(filepath)\n",
    "            \n",
    "            # 경로 계산하고, 없으면 생성  \n",
    "            dirpath = os.path.dirname(filepath)\n",
    "            os.makedirs(dirpath, exist_ok=True)\n",
    "\n",
    "            image_url = img_tag['src']\n",
    "            image_res = requests.get(img_tag[\"src\"], headers=headers)\n",
    "            #assert image_res.status_code == 200, \"서버 응답이 200이 아니예요!!!\"\n",
    "\n",
    "            # 저장\n",
    "            with open(filepath, \"wb\") as f:\n",
    "                f.write(image_res.content)"
   ]
  },
  {
   "cell_type": "code",
   "execution_count": null,
   "id": "5e92b1a6",
   "metadata": {},
   "outputs": [],
   "source": []
  }
 ],
 "metadata": {
  "kernelspec": {
   "display_name": "Python 3 (ipykernel)",
   "language": "python",
   "name": "python3"
  },
  "language_info": {
   "codemirror_mode": {
    "name": "ipython",
    "version": 3
   },
   "file_extension": ".py",
   "mimetype": "text/x-python",
   "name": "python",
   "nbconvert_exporter": "python",
   "pygments_lexer": "ipython3",
   "version": "3.11.3"
  }
 },
 "nbformat": 4,
 "nbformat_minor": 5
}
