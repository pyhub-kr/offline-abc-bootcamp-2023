{
 "cells": [
  {
   "cell_type": "code",
   "execution_count": 30,
   "id": "f64171b8",
   "metadata": {},
   "outputs": [
    {
     "ename": "AttributeError",
     "evalue": "'NoneType' object has no attribute 'get_text'",
     "output_type": "error",
     "traceback": [
      "\u001b[1;31m---------------------------------------------------------------------------\u001b[0m",
      "\u001b[1;31mAttributeError\u001b[0m                            Traceback (most recent call last)",
      "Input \u001b[1;32mIn [30]\u001b[0m, in \u001b[0;36m<cell line: 13>\u001b[1;34m()\u001b[0m\n\u001b[0;32m     10\u001b[0m soup \u001b[38;5;241m=\u001b[39m BeautifulSoup(response\u001b[38;5;241m.\u001b[39mtext, \u001b[38;5;124m\"\u001b[39m\u001b[38;5;124mhtml.parser\u001b[39m\u001b[38;5;124m\"\u001b[39m)\n\u001b[0;32m     12\u001b[0m \u001b[38;5;66;03m# 웹툰 제목 추출\u001b[39;00m\n\u001b[1;32m---> 13\u001b[0m webtoon_title \u001b[38;5;241m=\u001b[39m \u001b[43msoup\u001b[49m\u001b[38;5;241;43m.\u001b[39;49m\u001b[43mselect_one\u001b[49m\u001b[43m(\u001b[49m\u001b[38;5;124;43m\"\u001b[39;49m\u001b[38;5;124;43mh2.title\u001b[39;49m\u001b[38;5;124;43m\"\u001b[39;49m\u001b[43m)\u001b[49m\u001b[38;5;241;43m.\u001b[39;49m\u001b[43mget_text\u001b[49m(strip\u001b[38;5;241m=\u001b[39m\u001b[38;5;28;01mTrue\u001b[39;00m)\n\u001b[0;32m     15\u001b[0m \u001b[38;5;66;03m# 에피소드(회차)의 URL과 회차명을 추출하여 리스트로 저장\u001b[39;00m\n\u001b[0;32m     16\u001b[0m episode_urls \u001b[38;5;241m=\u001b[39m []\n",
      "\u001b[1;31mAttributeError\u001b[0m: 'NoneType' object has no attribute 'get_text'"
     ]
    }
   ],
   "source": [
    "import os\n",
    "import requests\n",
    "from bs4 import BeautifulSoup\n",
    "\n",
    "# 웹툰 페이지 URL\n",
    "webtoon_url = \"https://comic.naver.com/webtoon/list?titleId=769209&page=1\"\n",
    "\n",
    "# 해당 페이지의 HTML을 가져와서 파싱\n",
    "response = requests.get(webtoon_url)\n",
    "soup = BeautifulSoup(response.text, \"html.parser\")\n",
    "\n",
    "# 웹툰 제목 추출\n",
    "webtoon_title = soup.select_one(\"h2.title\").get_text(strip=True)\n",
    "\n",
    "# 에피소드(회차)의 URL과 회차명을 추출하여 리스트로 저장\n",
    "episode_urls = []\n",
    "episode_titles = []\n",
    "episodes = soup.select(\"td.title > a\")\n",
    "for episode in episodes:\n",
    "    episode_urls.append(\"https://comic.naver.com\" + episode[\"href\"])\n",
    "    episode_titles.append(episode.get_text(strip=True))\n",
    "\n",
    "# 이미지 다운로드 및 저장\n",
    "for episode_url, episode_title in zip(episode_urls, episode_titles):\n",
    "    episode_response = requests.get(episode_url)\n",
    "    episode_soup = BeautifulSoup(episode_response.text, \"html.parser\")\n",
    "\n",
    "    # 회차 디렉토리 생성\n",
    "    episode_folder = os.path.join(webtoon_title, episode_title)\n",
    "    if not os.path.exists(episode_folder):\n",
    "        os.makedirs(episode_folder)\n",
    "\n",
    "    # 웹툰 이미지 다운로드 및 저장\n",
    "    img_tags = episode_soup.select(\"div.wt_viewer img\")\n",
    "    for index, img_tag in enumerate(img_tags):\n",
    "        image_url = img_tag[\"src\"]\n",
    "        image_response = requests.get(image_url)\n",
    "        if image_response.status_code == 200:\n",
    "            image_filename = f\"{index + 1}.jpg\"\n",
    "            image_filepath = os.path.join(episode_folder, image_filename)\n",
    "            with open(image_filepath, \"wb\") as f:\n",
    "                f.write(image_response.content)\n",
    "            print(f\"{image_filename} 다운로드 및 저장 완료.\")\n",
    "        else:\n",
    "            print(f\"이미지 다운로드 실패: {image_url}\")\n",
    "\n",
    "print(\"이미지 다운로드 및 저장이 완료되었습니다.\")\n",
    "\n",
    "\n",
    "\n",
    "# 현재 작업 디렉토리 확인\n",
    "cwd = os.getcwd()\n",
    "print(\"현재 작업 디렉토리:\", cwd)"
   ]
  },
  {
   "cell_type": "code",
   "execution_count": 32,
   "id": "1f820f1f",
   "metadata": {},
   "outputs": [
    {
     "name": "stdout",
     "output_type": "stream",
     "text": [
      "이미지 다운로드 및 저장이 완료되었습니다.\n"
     ]
    }
   ],
   "source": [
    "import os\n",
    "import requests\n",
    "from bs4 import BeautifulSoup\n",
    "\n",
    "# 웹툰 페이지 URL\n",
    "webtoon_url = \"https://comic.naver.com/webtoon/list?titleId=769209&page=1\"\n",
    "\n",
    "# 해당 페이지의 HTML을 가져와서 파싱\n",
    "response = requests.get(webtoon_url)\n",
    "soup = BeautifulSoup(response.text, \"html.parser\")\n",
    "\n",
    "# 웹툰 제목 추출\n",
    "webtoon_title = \"화산귀환\"\n",
    "\n",
    "# 에피소드(회차)의 URL과 회차명을 추출하여 리스트로 저장\n",
    "episode_urls = []\n",
    "episode_titles = []\n",
    "episodes = soup.select(\"td.title > a\")\n",
    "for episode in episodes:\n",
    "    episode_urls.append(\"https://comic.naver.com\" + episode[\"href\"])\n",
    "    episode_titles.append(episode.get_text(strip=True))\n",
    "\n",
    "# 이미지 다운로드 및 저장\n",
    "for episode_url, episode_title in zip(episode_urls, episode_titles):\n",
    "    episode_response = requests.get(episode_url)\n",
    "    episode_soup = BeautifulSoup(episode_response.text, \"html.parser\")\n",
    "\n",
    "    # 회차 디렉토리 생성\n",
    "    episode_folder = os.path.join(webtoon_title, episode_title)\n",
    "    if not os.path.exists(episode_folder):\n",
    "        os.makedirs(episode_folder)\n",
    "\n",
    "    # 웹툰 이미지 다운로드 및 저장\n",
    "    img_tags = episode_soup.select(\".wt_viewer img\")\n",
    "    for index, img_tag in enumerate(img_tags):\n",
    "        image_url = img_tag[\"src\"]\n",
    "        image_response = requests.get(image_url)\n",
    "        if image_response.status_code == 200:\n",
    "            image_filename = f\"{index + 1}.jpg\"\n",
    "            image_filepath = os.path.join(episode_folder, image_filename)\n",
    "            with open(image_filepath, \"wb\") as f:\n",
    "                f.write(image_response.content)\n",
    "            print(f\"{image_filename} 다운로드 및 저장 완료.\")\n",
    "        else:\n",
    "            print(f\"이미지 다운로드 실패: {image_url}\")\n",
    "\n",
    "print(\"이미지 다운로드 및 저장이 완료되었습니다.\")"
   ]
  }
 ],
 "metadata": {
  "kernelspec": {
   "display_name": "py3_8_5",
   "language": "python",
   "name": "py3_8_5"
  },
  "language_info": {
   "codemirror_mode": {
    "name": "ipython",
    "version": 3
   },
   "file_extension": ".py",
   "mimetype": "text/x-python",
   "name": "python",
   "nbconvert_exporter": "python",
   "pygments_lexer": "ipython3",
   "version": "3.9.12"
  }
 },
 "nbformat": 4,
 "nbformat_minor": 5
}
