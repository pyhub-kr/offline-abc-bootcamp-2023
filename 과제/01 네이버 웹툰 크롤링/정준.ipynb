{
 "cells": [
  {
   "cell_type": "markdown",
   "id": "8f38a4d4",
   "metadata": {},
   "source": [
    "# 보이는 웹툰 화면의 회차 url 리스트화"
   ]
  },
  {
   "cell_type": "code",
   "execution_count": 132,
   "id": "6e2ef22b",
   "metadata": {},
   "outputs": [],
   "source": [
    "import requests\n",
    "from bs4 import BeautifulSoup\n",
    "from urllib.parse import urljoin"
   ]
  },
  {
   "cell_type": "code",
   "execution_count": 133,
   "id": "0cec6931",
   "metadata": {},
   "outputs": [],
   "source": [
    "index_page_url = \"https://m.comic.naver.com/webtoon/list?titleId=773797&week=fri&sortOrder=ASC\""
   ]
  },
  {
   "cell_type": "code",
   "execution_count": 134,
   "id": "a1cf326e",
   "metadata": {},
   "outputs": [],
   "source": [
    "headers= {\n",
    "    \"User-Agent\": \"Mozilla/5.0 (Windows NT 10.0; Win64; x64) AppleWebKit/537.36 (KHTML, like Gecko) Chrome/115.0.0.0 Safari/537.36\"\n",
    "}"
   ]
  },
  {
   "cell_type": "code",
   "execution_count": 135,
   "id": "235fa5ef",
   "metadata": {},
   "outputs": [
    {
     "data": {
      "text/plain": [
       "<Response [200]>"
      ]
     },
     "execution_count": 135,
     "metadata": {},
     "output_type": "execute_result"
    }
   ],
   "source": [
    "res = requests.get(index_page_url, headers=headers)\n",
    "res"
   ]
  },
  {
   "cell_type": "code",
   "execution_count": 136,
   "id": "4c6d3b13",
   "metadata": {},
   "outputs": [
    {
     "data": {
      "text/plain": [
       "42944"
      ]
     },
     "execution_count": 136,
     "metadata": {},
     "output_type": "execute_result"
    }
   ],
   "source": [
    "html = res.text\n",
    "len(html)"
   ]
  },
  {
   "cell_type": "code",
   "execution_count": 137,
   "id": "0822650b",
   "metadata": {},
   "outputs": [
    {
     "name": "stdout",
     "output_type": "stream",
     "text": [
      "00화. 모든 것의 시작\n",
      "https://m.comic.naver.com/webtoon/detail?titleId=773797&no=1&week=fri&listSortOrder=ASC&listPage=1\n",
      "01화. 탑의 정상\n",
      "https://m.comic.naver.com/webtoon/detail?titleId=773797&no=2&week=fri&listSortOrder=ASC&listPage=1\n",
      "02화. 서막\n",
      "https://m.comic.naver.com/webtoon/detail?titleId=773797&no=3&week=fri&listSortOrder=ASC&listPage=1\n",
      "03화. 탐욕의 맹그로브 나무(1)\n",
      "https://m.comic.naver.com/webtoon/detail?titleId=773797&no=4&week=fri&listSortOrder=ASC&listPage=1\n",
      "04화. 탐욕의 맹그로브 나무(2)\n",
      "https://m.comic.naver.com/webtoon/detail?titleId=773797&no=5&week=fri&listSortOrder=ASC&listPage=1\n",
      "05화. 국립 중앙 박물관(1)\n",
      "https://m.comic.naver.com/webtoon/detail?titleId=773797&no=6&week=fri&listSortOrder=ASC&listPage=1\n",
      "06화. 국립 중앙 박물관(2)\n",
      "https://m.comic.naver.com/webtoon/detail?titleId=773797&no=7&week=fri&listSortOrder=ASC&listPage=1\n",
      "07화. 국립 중앙 박물관(3)\n",
      "https://m.comic.naver.com/webtoon/detail?titleId=773797&no=8&week=fri&listSortOrder=ASC&listPage=1\n",
      "08화. 국립 중앙 박물관(4)\n",
      "https://m.comic.naver.com/webtoon/detail?titleId=773797&no=9&week=fri&listSortOrder=ASC&listPage=1\n",
      "09화. 미궁 라비린토스(1)\n",
      "https://m.comic.naver.com/webtoon/detail?titleId=773797&no=10&week=fri&listSortOrder=ASC&listPage=1\n",
      "10화. 미궁 라비린토스(2)\n",
      "https://m.comic.naver.com/webtoon/detail?titleId=773797&no=11&week=fri&listSortOrder=ASC&listPage=1\n",
      "11화. 미궁 라비린토스(3)\n",
      "https://m.comic.naver.com/webtoon/detail?titleId=773797&no=12&week=fri&listSortOrder=ASC&listPage=1\n",
      "12화. 미궁 라비린토스(4)\n",
      "https://m.comic.naver.com/webtoon/detail?titleId=773797&no=13&week=fri&listSortOrder=ASC&listPage=1\n",
      "13화. 미궁 라비린토스(5)\n",
      "https://m.comic.naver.com/webtoon/detail?titleId=773797&no=14&week=fri&listSortOrder=ASC&listPage=1\n",
      "14화. 미궁 라비린토스(6)\n",
      "https://m.comic.naver.com/webtoon/detail?titleId=773797&no=15&week=fri&listSortOrder=ASC&listPage=1\n",
      "15화. 탑의 고인물들\n",
      "https://m.comic.naver.com/webtoon/detail?titleId=773797&no=16&week=fri&listSortOrder=ASC&listPage=1\n",
      "16화. 각성 테스트\n",
      "https://m.comic.naver.com/webtoon/detail?titleId=773797&no=17&week=fri&listSortOrder=ASC&listPage=1\n",
      "17화. 유적, 타락한 자들의 회랑\n",
      "https://m.comic.naver.com/webtoon/detail?titleId=773797&no=18&week=fri&listSortOrder=ASC&listPage=1\n",
      "18화. 암스테르담의 성녀\n",
      "https://m.comic.naver.com/webtoon/detail?titleId=773797&no=19&week=fri&listSortOrder=ASC&listPage=1\n",
      "19화. 검성 천유성\n",
      "https://m.comic.naver.com/webtoon/detail?titleId=773797&no=20&week=fri&listSortOrder=ASC&listPage=1\n",
      "20화. 검성 천유성(2)\n",
      "https://m.comic.naver.com/webtoon/detail?titleId=773797&no=21&week=fri&listSortOrder=ASC&listPage=1\n",
      "21화. 타락한 회랑의 주인\n",
      "https://m.comic.naver.com/webtoon/detail?titleId=773797&no=22&week=fri&listSortOrder=ASC&listPage=1\n",
      "22화. 타락한 회랑의 주인(2)\n",
      "https://m.comic.naver.com/webtoon/detail?titleId=773797&no=23&week=fri&listSortOrder=ASC&listPage=1\n",
      "23화. 타락한 회랑의 주인(3)\n",
      "https://m.comic.naver.com/webtoon/detail?titleId=773797&no=24&week=fri&listSortOrder=ASC&listPage=1\n",
      "24화. 검은 까마귀 길드(1)\n",
      "https://m.comic.naver.com/webtoon/detail?titleId=773797&no=25&week=fri&listSortOrder=ASC&listPage=1\n",
      "25화. 검은 까마귀 길드(2)\n",
      "https://m.comic.naver.com/webtoon/detail?titleId=773797&no=26&week=fri&listSortOrder=ASC&listPage=1\n",
      "26화. 고인물이 성장하는 법(1)\n",
      "https://m.comic.naver.com/webtoon/detail?titleId=773797&no=27&week=fri&listSortOrder=ASC&listPage=1\n",
      "27화. 고인물이 성장하는 법(2)\n",
      "https://m.comic.naver.com/webtoon/detail?titleId=773797&no=28&week=fri&listSortOrder=ASC&listPage=1\n",
      "28화. 고인물이 성장하는 법(3)\n",
      "https://m.comic.naver.com/webtoon/detail?titleId=773797&no=29&week=fri&listSortOrder=ASC&listPage=1\n",
      "29화. 무한 증식(1)\n",
      "https://m.comic.naver.com/webtoon/detail?titleId=773797&no=30&week=fri&listSortOrder=ASC&listPage=1\n"
     ]
    }
   ],
   "source": [
    "soup = BeautifulSoup(html, \"html.parser\")\n",
    "tag_list = soup.select('.section_episode_list a') # .select는 태그 리스트를 반환\n",
    "\n",
    "for a_tag in tag_list:\n",
    "    ep_url = a_tag[\"href\"]\n",
    "    if ep_url != \"#\":\n",
    "        name_tag = a_tag.select(\".name\")[0]\n",
    "        w_title = name_tag.text\n",
    "        print(w_title)\n",
    "        \n",
    "        ep_url = \"https://m.comic.naver.com\" + ep_url\n",
    "        ep_url = urljoin(index_page_url, ep_url)\n",
    "        print(ep_url)"
   ]
  },
  {
   "cell_type": "markdown",
   "id": "6f85613b",
   "metadata": {},
   "source": [
    "# 회차별 이미지를 저장할 디렉토리 생성"
   ]
  },
  {
   "cell_type": "code",
   "execution_count": 138,
   "id": "c6523ef5",
   "metadata": {},
   "outputs": [
    {
     "data": {
      "text/plain": [
       "'001.jpg'"
      ]
     },
     "execution_count": 138,
     "metadata": {},
     "output_type": "execute_result"
    }
   ],
   "source": [
    "idx=1\n",
    "f\"{idx:03d}.jpg\""
   ]
  },
  {
   "cell_type": "code",
   "execution_count": 139,
   "id": "8c463646",
   "metadata": {},
   "outputs": [
    {
     "data": {
      "text/plain": [
       "'/webtoon/detail?titleId=773797&no=1&week=fri&listSortOrder=ASC&listPage=1'"
      ]
     },
     "execution_count": 139,
     "metadata": {},
     "output_type": "execute_result"
    }
   ],
   "source": [
    "tag = tag_list[0]\n",
    "url_tag = tag['href']\n",
    "url_tag"
   ]
  },
  {
   "cell_type": "code",
   "execution_count": 145,
   "id": "d4fc7606",
   "metadata": {},
   "outputs": [
    {
     "name": "stdout",
     "output_type": "stream",
     "text": [
      "00화. 모든 것의 시작 - Download start !!\n",
      "01화. 탑의 정상 - Download start !!\n",
      "02화. 서막 - Download start !!\n",
      "03화. 탐욕의 맹그로브 나무(1) - Download start !!\n",
      "04화. 탐욕의 맹그로브 나무(2) - Download start !!\n",
      "05화. 국립 중앙 박물관(1) - Download start !!\n",
      "06화. 국립 중앙 박물관(2) - Download start !!\n",
      "07화. 국립 중앙 박물관(3) - Download start !!\n",
      "08화. 국립 중앙 박물관(4) - Download start !!\n",
      "09화. 미궁 라비린토스(1) - Download start !!\n",
      "10화. 미궁 라비린토스(2) - Download start !!\n",
      "11화. 미궁 라비린토스(3) - Download start !!\n",
      "12화. 미궁 라비린토스(4) - Download start !!\n",
      "13화. 미궁 라비린토스(5) - Download start !!\n",
      "14화. 미궁 라비린토스(6) - Download start !!\n",
      "15화. 탑의 고인물들 - Download start !!\n",
      "16화. 각성 테스트 - Download start !!\n",
      "17화. 유적, 타락한 자들의 회랑 - Download start !!\n",
      "18화. 암스테르담의 성녀 - Download start !!\n",
      "19화. 검성 천유성 - Download start !!\n",
      "20화. 검성 천유성(2) - Download start !!\n",
      "21화. 타락한 회랑의 주인 - Download start !!\n",
      "22화. 타락한 회랑의 주인(2) - Download start !!\n",
      "23화. 타락한 회랑의 주인(3) - Download start !!\n",
      "24화. 검은 까마귀 길드(1) - Download start !!\n",
      "25화. 검은 까마귀 길드(2) - Download start !!\n",
      "26화. 고인물이 성장하는 법(1) - Download start !!\n",
      "27화. 고인물이 성장하는 법(2) - Download start !!\n",
      "28화. 고인물이 성장하는 법(3) - Download start !!\n",
      "29화. 무한 증식(1) - Download start !!\n"
     ]
    }
   ],
   "source": [
    "import os\n",
    "from tqdm.notebook import tqdm\n",
    "\n",
    "toon_title = \"나 혼자 만렙 뉴비\"\n",
    "\n",
    "for a_tag in tag_list:\n",
    "    ep_url = a_tag[\"href\"]\n",
    "    if ep_url != \"#\":\n",
    "        name_tag = a_tag.select(\".name\")[0]\n",
    "        w_title = name_tag.text\n",
    "        print(w_title + \" - Download start !!\")\n",
    "        \n",
    "        ep_url = \"https://comic.naver.com\" + ep_url\n",
    "        ep_url = urljoin(index_page_url, ep_url)\n",
    "        #print(ep_url)\n",
    "        \n",
    "        episode_res = requests.get(ep_url, headers=headers)\n",
    "        episode_html = episode_res.text\n",
    "        episode_soup = BeautifulSoup(episode_html, \"html.parser\")\n",
    "        episode_list = episode_soup.select(\".wt_viewer img\")\n",
    "        \n",
    "        for idx, img_tag in enumerate(episode_list, 1):\n",
    "            filepath = f\"{toon_title}/{w_title}/{idx:03d}.jpg\" \n",
    "            #print(filepath)\n",
    "            \n",
    "            # 경로 계산하고, 없으면 생성  \n",
    "            dirpath = os.path.dirname(filepath)\n",
    "            os.makedirs(dirpath, exist_ok=True)\n",
    "\n",
    "            image_url = img_tag['src']\n",
    "            image_res = requests.get(img_tag[\"src\"], headers=headers)\n",
    "            #assert image_res.status_code == 200, \"서버 응답이 200이 아니예요!!!\"\n",
    "\n",
    "            # 저장\n",
    "            with open(filepath, \"wb\") as f:\n",
    "                f.write(image_res.content)"
   ]
  }
 ],
 "metadata": {
  "kernelspec": {
   "display_name": "Python 3 (ipykernel)",
   "language": "python",
   "name": "python3"
  },
  "language_info": {
   "codemirror_mode": {
    "name": "ipython",
    "version": 3
   },
   "file_extension": ".py",
   "mimetype": "text/x-python",
   "name": "python",
   "nbconvert_exporter": "python",
   "pygments_lexer": "ipython3",
   "version": "3.11.3"
  }
 },
 "nbformat": 4,
 "nbformat_minor": 5
}
