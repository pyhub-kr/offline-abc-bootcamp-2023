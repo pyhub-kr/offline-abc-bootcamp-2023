{
 "cells": [
  {
   "cell_type": "code",
   "execution_count": 135,
   "id": "7431acb8",
   "metadata": {},
   "outputs": [],
   "source": [
    "import requests\n",
    "from bs4 import BeautifulSoup\n",
    "from tqdm.notebook import tqdm"
   ]
  },
  {
   "cell_type": "code",
   "execution_count": 136,
   "id": "b7b75892",
   "metadata": {},
   "outputs": [],
   "source": [
    "index_page_url = \"https://m.comic.naver.com/webtoon/list?titleId=769209&page=1\""
   ]
  },
  {
   "cell_type": "code",
   "execution_count": 137,
   "id": "3f42626d",
   "metadata": {},
   "outputs": [
    {
     "data": {
      "text/plain": [
       "<Response [200]>"
      ]
     },
     "execution_count": 137,
     "metadata": {},
     "output_type": "execute_result"
    }
   ],
   "source": [
    "res = requests.get(index_page_url)\n",
    "res"
   ]
  },
  {
   "cell_type": "code",
   "execution_count": 138,
   "id": "2fc83f03",
   "metadata": {},
   "outputs": [],
   "source": [
    "html = res.text"
   ]
  },
  {
   "cell_type": "code",
   "execution_count": 139,
   "id": "905dd8ce",
   "metadata": {},
   "outputs": [],
   "source": [
    "soup = BeautifulSoup(html, \"html.parser\")"
   ]
  },
  {
   "cell_type": "code",
   "execution_count": 140,
   "id": "d171c8a3",
   "metadata": {},
   "outputs": [
    {
     "name": "stdout",
     "output_type": "stream",
     "text": [
      "77화\n",
      "/webtoon/detail?titleId=769209&no=78&week=wed&listSortOrder=DESC&listPage=1\n",
      "https://m.comic.naver.com/webtoon/detail?titleId=769209&no=78&week=wed&listSortOrder=DESC&listPage=1\n",
      "76화\n",
      "/webtoon/detail?titleId=769209&no=77&week=wed&listSortOrder=DESC&listPage=1\n",
      "https://m.comic.naver.com/webtoon/detail?titleId=769209&no=77&week=wed&listSortOrder=DESC&listPage=1\n",
      "75화\n",
      "/webtoon/detail?titleId=769209&no=76&week=wed&listSortOrder=DESC&listPage=1\n",
      "https://m.comic.naver.com/webtoon/detail?titleId=769209&no=76&week=wed&listSortOrder=DESC&listPage=1\n",
      "74화\n",
      "/webtoon/detail?titleId=769209&no=75&week=wed&listSortOrder=DESC&listPage=1\n",
      "https://m.comic.naver.com/webtoon/detail?titleId=769209&no=75&week=wed&listSortOrder=DESC&listPage=1\n",
      "73화\n",
      "/webtoon/detail?titleId=769209&no=74&week=wed&listSortOrder=DESC&listPage=1\n",
      "https://m.comic.naver.com/webtoon/detail?titleId=769209&no=74&week=wed&listSortOrder=DESC&listPage=1\n",
      "1부 후기\n",
      "/webtoon/detail?titleId=769209&no=73&week=wed&listSortOrder=DESC&listPage=1\n",
      "https://m.comic.naver.com/webtoon/detail?titleId=769209&no=73&week=wed&listSortOrder=DESC&listPage=1\n",
      "72화(1부 최종화)\n",
      "/webtoon/detail?titleId=769209&no=72&week=wed&listSortOrder=DESC&listPage=1\n",
      "https://m.comic.naver.com/webtoon/detail?titleId=769209&no=72&week=wed&listSortOrder=DESC&listPage=1\n",
      "71화\n",
      "/webtoon/detail?titleId=769209&no=71&week=wed&listSortOrder=DESC&listPage=1\n",
      "https://m.comic.naver.com/webtoon/detail?titleId=769209&no=71&week=wed&listSortOrder=DESC&listPage=1\n",
      "70화\n",
      "/webtoon/detail?titleId=769209&no=70&week=wed&listSortOrder=DESC&listPage=1\n",
      "https://m.comic.naver.com/webtoon/detail?titleId=769209&no=70&week=wed&listSortOrder=DESC&listPage=1\n",
      "69화\n",
      "/webtoon/detail?titleId=769209&no=69&week=wed&listSortOrder=DESC&listPage=1\n",
      "https://m.comic.naver.com/webtoon/detail?titleId=769209&no=69&week=wed&listSortOrder=DESC&listPage=1\n",
      "68화\n",
      "/webtoon/detail?titleId=769209&no=68&week=wed&listSortOrder=DESC&listPage=1\n",
      "https://m.comic.naver.com/webtoon/detail?titleId=769209&no=68&week=wed&listSortOrder=DESC&listPage=1\n",
      "67화\n",
      "/webtoon/detail?titleId=769209&no=67&week=wed&listSortOrder=DESC&listPage=1\n",
      "https://m.comic.naver.com/webtoon/detail?titleId=769209&no=67&week=wed&listSortOrder=DESC&listPage=1\n",
      "66화\n",
      "/webtoon/detail?titleId=769209&no=66&week=wed&listSortOrder=DESC&listPage=1\n",
      "https://m.comic.naver.com/webtoon/detail?titleId=769209&no=66&week=wed&listSortOrder=DESC&listPage=1\n",
      "65화\n",
      "/webtoon/detail?titleId=769209&no=65&week=wed&listSortOrder=DESC&listPage=1\n",
      "https://m.comic.naver.com/webtoon/detail?titleId=769209&no=65&week=wed&listSortOrder=DESC&listPage=1\n",
      "64화\n",
      "/webtoon/detail?titleId=769209&no=64&week=wed&listSortOrder=DESC&listPage=1\n",
      "https://m.comic.naver.com/webtoon/detail?titleId=769209&no=64&week=wed&listSortOrder=DESC&listPage=1\n",
      "63화\n",
      "/webtoon/detail?titleId=769209&no=63&week=wed&listSortOrder=DESC&listPage=1\n",
      "https://m.comic.naver.com/webtoon/detail?titleId=769209&no=63&week=wed&listSortOrder=DESC&listPage=1\n",
      "62화\n",
      "/webtoon/detail?titleId=769209&no=62&week=wed&listSortOrder=DESC&listPage=1\n",
      "https://m.comic.naver.com/webtoon/detail?titleId=769209&no=62&week=wed&listSortOrder=DESC&listPage=1\n",
      "61화\n",
      "/webtoon/detail?titleId=769209&no=61&week=wed&listSortOrder=DESC&listPage=1\n",
      "https://m.comic.naver.com/webtoon/detail?titleId=769209&no=61&week=wed&listSortOrder=DESC&listPage=1\n",
      "60화\n",
      "/webtoon/detail?titleId=769209&no=60&week=wed&listSortOrder=DESC&listPage=1\n",
      "https://m.comic.naver.com/webtoon/detail?titleId=769209&no=60&week=wed&listSortOrder=DESC&listPage=1\n",
      "59화\n",
      "/webtoon/detail?titleId=769209&no=59&week=wed&listSortOrder=DESC&listPage=1\n",
      "https://m.comic.naver.com/webtoon/detail?titleId=769209&no=59&week=wed&listSortOrder=DESC&listPage=1\n",
      "58화\n",
      "/webtoon/detail?titleId=769209&no=58&week=wed&listSortOrder=DESC&listPage=1\n",
      "https://m.comic.naver.com/webtoon/detail?titleId=769209&no=58&week=wed&listSortOrder=DESC&listPage=1\n",
      "57화\n",
      "/webtoon/detail?titleId=769209&no=57&week=wed&listSortOrder=DESC&listPage=1\n",
      "https://m.comic.naver.com/webtoon/detail?titleId=769209&no=57&week=wed&listSortOrder=DESC&listPage=1\n",
      "56화\n",
      "/webtoon/detail?titleId=769209&no=56&week=wed&listSortOrder=DESC&listPage=1\n",
      "https://m.comic.naver.com/webtoon/detail?titleId=769209&no=56&week=wed&listSortOrder=DESC&listPage=1\n",
      "55화\n",
      "/webtoon/detail?titleId=769209&no=55&week=wed&listSortOrder=DESC&listPage=1\n",
      "https://m.comic.naver.com/webtoon/detail?titleId=769209&no=55&week=wed&listSortOrder=DESC&listPage=1\n",
      "54화\n",
      "/webtoon/detail?titleId=769209&no=54&week=wed&listSortOrder=DESC&listPage=1\n",
      "https://m.comic.naver.com/webtoon/detail?titleId=769209&no=54&week=wed&listSortOrder=DESC&listPage=1\n",
      "53화\n",
      "/webtoon/detail?titleId=769209&no=53&week=wed&listSortOrder=DESC&listPage=1\n",
      "https://m.comic.naver.com/webtoon/detail?titleId=769209&no=53&week=wed&listSortOrder=DESC&listPage=1\n",
      "52화\n",
      "/webtoon/detail?titleId=769209&no=52&week=wed&listSortOrder=DESC&listPage=1\n",
      "https://m.comic.naver.com/webtoon/detail?titleId=769209&no=52&week=wed&listSortOrder=DESC&listPage=1\n",
      "51화\n",
      "/webtoon/detail?titleId=769209&no=51&week=wed&listSortOrder=DESC&listPage=1\n",
      "https://m.comic.naver.com/webtoon/detail?titleId=769209&no=51&week=wed&listSortOrder=DESC&listPage=1\n",
      "50화\n",
      "/webtoon/detail?titleId=769209&no=50&week=wed&listSortOrder=DESC&listPage=1\n",
      "https://m.comic.naver.com/webtoon/detail?titleId=769209&no=50&week=wed&listSortOrder=DESC&listPage=1\n",
      "49화\n",
      "/webtoon/detail?titleId=769209&no=49&week=wed&listSortOrder=DESC&listPage=1\n",
      "https://m.comic.naver.com/webtoon/detail?titleId=769209&no=49&week=wed&listSortOrder=DESC&listPage=1\n"
     ]
    }
   ],
   "source": [
    "tag_list = soup.select(\".section_episode_list a\")\n",
    "\n",
    "url_save = []\n",
    "name_save = []\n",
    "for a_tag in tag_list:\n",
    "    ep_url = a_tag[\"href\"]\n",
    "    if ep_url != \"#\":\n",
    "        name_tag = a_tag.select(\".name\")[0]\n",
    "        name = name_tag.text\n",
    "        name_save.append(name)\n",
    "        print(name)\n",
    "        print(ep_url)\n",
    "        url_save.append(ep_url)\n",
    "        ep_url = \"https://m.comic.naver.com\" + ep_url\n",
    "        ep_url = urljoin(index_page_url, ep_url)\n",
    "        \n",
    "        print(ep_url)\n"
   ]
  },
  {
   "cell_type": "code",
   "execution_count": null,
   "id": "38de58a5",
   "metadata": {},
   "outputs": [
    {
     "name": "stdout",
     "output_type": "stream",
     "text": [
      "https://m.comic.naver.com/webtoon/detail?titleId=769209&no=78&week=wed&listSortOrder=DESC&listPage=1\n"
     ]
    },
    {
     "data": {
      "application/vnd.jupyter.widget-view+json": {
       "model_id": "d06fffb213d642bab726060fe9a18989",
       "version_major": 2,
       "version_minor": 0
      },
      "text/plain": [
       "0it [00:00, ?it/s]"
      ]
     },
     "metadata": {},
     "output_type": "display_data"
    },
    {
     "name": "stdout",
     "output_type": "stream",
     "text": [
      "https://m.comic.naver.com/webtoon/detail?titleId=769209&no=77&week=wed&listSortOrder=DESC&listPage=1\n"
     ]
    },
    {
     "data": {
      "application/vnd.jupyter.widget-view+json": {
       "model_id": "1d92dc52aec44763a3610cf1661f4771",
       "version_major": 2,
       "version_minor": 0
      },
      "text/plain": [
       "0it [00:00, ?it/s]"
      ]
     },
     "metadata": {},
     "output_type": "display_data"
    },
    {
     "name": "stdout",
     "output_type": "stream",
     "text": [
      "https://m.comic.naver.com/webtoon/detail?titleId=769209&no=76&week=wed&listSortOrder=DESC&listPage=1\n"
     ]
    },
    {
     "data": {
      "application/vnd.jupyter.widget-view+json": {
       "model_id": "c88a254a072644768bae8c10566250ba",
       "version_major": 2,
       "version_minor": 0
      },
      "text/plain": [
       "0it [00:00, ?it/s]"
      ]
     },
     "metadata": {},
     "output_type": "display_data"
    },
    {
     "name": "stdout",
     "output_type": "stream",
     "text": [
      "https://m.comic.naver.com/webtoon/detail?titleId=769209&no=75&week=wed&listSortOrder=DESC&listPage=1\n"
     ]
    },
    {
     "data": {
      "application/vnd.jupyter.widget-view+json": {
       "model_id": "c895df743fe3454d9e670e1b7d73ca5b",
       "version_major": 2,
       "version_minor": 0
      },
      "text/plain": [
       "0it [00:00, ?it/s]"
      ]
     },
     "metadata": {},
     "output_type": "display_data"
    },
    {
     "name": "stdout",
     "output_type": "stream",
     "text": [
      "https://m.comic.naver.com/webtoon/detail?titleId=769209&no=74&week=wed&listSortOrder=DESC&listPage=1\n"
     ]
    },
    {
     "data": {
      "application/vnd.jupyter.widget-view+json": {
       "model_id": "b7c4bfeab1b94241ab51261dbb7b78e7",
       "version_major": 2,
       "version_minor": 0
      },
      "text/plain": [
       "0it [00:00, ?it/s]"
      ]
     },
     "metadata": {},
     "output_type": "display_data"
    },
    {
     "name": "stdout",
     "output_type": "stream",
     "text": [
      "https://m.comic.naver.com/webtoon/detail?titleId=769209&no=73&week=wed&listSortOrder=DESC&listPage=1\n"
     ]
    },
    {
     "data": {
      "application/vnd.jupyter.widget-view+json": {
       "model_id": "780a27f6736c4ed09be6bde4deac24d9",
       "version_major": 2,
       "version_minor": 0
      },
      "text/plain": [
       "0it [00:00, ?it/s]"
      ]
     },
     "metadata": {},
     "output_type": "display_data"
    },
    {
     "name": "stdout",
     "output_type": "stream",
     "text": [
      "https://m.comic.naver.com/webtoon/detail?titleId=769209&no=72&week=wed&listSortOrder=DESC&listPage=1\n"
     ]
    },
    {
     "data": {
      "application/vnd.jupyter.widget-view+json": {
       "model_id": "8b85933bcb3344019c2b5bc41e62e63a",
       "version_major": 2,
       "version_minor": 0
      },
      "text/plain": [
       "0it [00:00, ?it/s]"
      ]
     },
     "metadata": {},
     "output_type": "display_data"
    },
    {
     "name": "stdout",
     "output_type": "stream",
     "text": [
      "https://m.comic.naver.com/webtoon/detail?titleId=769209&no=71&week=wed&listSortOrder=DESC&listPage=1\n"
     ]
    },
    {
     "data": {
      "application/vnd.jupyter.widget-view+json": {
       "model_id": "e53c5dc6ea194a3281a1b1f4a5999a29",
       "version_major": 2,
       "version_minor": 0
      },
      "text/plain": [
       "0it [00:00, ?it/s]"
      ]
     },
     "metadata": {},
     "output_type": "display_data"
    },
    {
     "name": "stdout",
     "output_type": "stream",
     "text": [
      "https://m.comic.naver.com/webtoon/detail?titleId=769209&no=70&week=wed&listSortOrder=DESC&listPage=1\n"
     ]
    },
    {
     "data": {
      "application/vnd.jupyter.widget-view+json": {
       "model_id": "2cfbe11243b248c6a39d6c1542ca00bf",
       "version_major": 2,
       "version_minor": 0
      },
      "text/plain": [
       "0it [00:00, ?it/s]"
      ]
     },
     "metadata": {},
     "output_type": "display_data"
    },
    {
     "name": "stdout",
     "output_type": "stream",
     "text": [
      "https://m.comic.naver.com/webtoon/detail?titleId=769209&no=69&week=wed&listSortOrder=DESC&listPage=1\n"
     ]
    },
    {
     "data": {
      "application/vnd.jupyter.widget-view+json": {
       "model_id": "50f9f498db4b4d88890b401fdfc698af",
       "version_major": 2,
       "version_minor": 0
      },
      "text/plain": [
       "0it [00:00, ?it/s]"
      ]
     },
     "metadata": {},
     "output_type": "display_data"
    },
    {
     "name": "stdout",
     "output_type": "stream",
     "text": [
      "https://m.comic.naver.com/webtoon/detail?titleId=769209&no=68&week=wed&listSortOrder=DESC&listPage=1\n"
     ]
    },
    {
     "data": {
      "application/vnd.jupyter.widget-view+json": {
       "model_id": "bf4bf6f957314556809b007c4a5aa759",
       "version_major": 2,
       "version_minor": 0
      },
      "text/plain": [
       "0it [00:00, ?it/s]"
      ]
     },
     "metadata": {},
     "output_type": "display_data"
    },
    {
     "name": "stdout",
     "output_type": "stream",
     "text": [
      "https://m.comic.naver.com/webtoon/detail?titleId=769209&no=67&week=wed&listSortOrder=DESC&listPage=1\n"
     ]
    },
    {
     "data": {
      "application/vnd.jupyter.widget-view+json": {
       "model_id": "c127af702fe7431aa1d8ef533eaf0fb0",
       "version_major": 2,
       "version_minor": 0
      },
      "text/plain": [
       "0it [00:00, ?it/s]"
      ]
     },
     "metadata": {},
     "output_type": "display_data"
    },
    {
     "name": "stdout",
     "output_type": "stream",
     "text": [
      "https://m.comic.naver.com/webtoon/detail?titleId=769209&no=66&week=wed&listSortOrder=DESC&listPage=1\n"
     ]
    },
    {
     "data": {
      "application/vnd.jupyter.widget-view+json": {
       "model_id": "b2f6d4b44b91466fa1618825a1c8c99a",
       "version_major": 2,
       "version_minor": 0
      },
      "text/plain": [
       "0it [00:00, ?it/s]"
      ]
     },
     "metadata": {},
     "output_type": "display_data"
    },
    {
     "name": "stdout",
     "output_type": "stream",
     "text": [
      "https://m.comic.naver.com/webtoon/detail?titleId=769209&no=65&week=wed&listSortOrder=DESC&listPage=1\n"
     ]
    },
    {
     "data": {
      "application/vnd.jupyter.widget-view+json": {
       "model_id": "cf5de7404e184b719264c450c2f139e1",
       "version_major": 2,
       "version_minor": 0
      },
      "text/plain": [
       "0it [00:00, ?it/s]"
      ]
     },
     "metadata": {},
     "output_type": "display_data"
    },
    {
     "name": "stdout",
     "output_type": "stream",
     "text": [
      "https://m.comic.naver.com/webtoon/detail?titleId=769209&no=64&week=wed&listSortOrder=DESC&listPage=1\n"
     ]
    },
    {
     "data": {
      "application/vnd.jupyter.widget-view+json": {
       "model_id": "dd992729bb174188a04efa781b58910a",
       "version_major": 2,
       "version_minor": 0
      },
      "text/plain": [
       "0it [00:00, ?it/s]"
      ]
     },
     "metadata": {},
     "output_type": "display_data"
    }
   ],
   "source": [
    "웹툰명 = \"화산귀환\"\n",
    "\n",
    "\n",
    "for i in range(len(url_save)):\n",
    "    ep_url = \"https://m.comic.naver.com\" + url_save[i]\n",
    "    print(ep_url)\n",
    "    res = requests.get(ep_url)\n",
    "    html = res.text\n",
    "    soup = BeautifulSoup(html, \"html.parser\")\n",
    "    img_list = soup.select('.toon_view_lst p img')\n",
    "\n",
    "    for idx, tag in tqdm(enumerate(img_list, 1)): \n",
    "        filepath = f\"{웹툰명}/{name}/{idx:03d}.jpg\"\n",
    "    \n",
    "    \n",
    "        dir_path = os.path.dirname(filepath) # 경로 계산하고, 없으면 생성\n",
    "        os.makedirs(dir_path, exist_ok = True)\n",
    "    \n",
    "        image_res = requests.get(tag[\"src\"], headers = headers)\n",
    "        assert image_res.status_code == 200, \"서버 응답이 200이 아니에요\"\n",
    "    \n",
    "        # 저장\n",
    "        with open(filepath, \"wb\") as f:\n",
    "            f.write(image_res.content)\n",
    "    \n",
    "    "
   ]
  },
  {
   "cell_type": "code",
   "execution_count": null,
   "id": "e453fd50",
   "metadata": {},
   "outputs": [],
   "source": []
  }
 ],
 "metadata": {
  "kernelspec": {
   "display_name": "python3_8_5",
   "language": "python",
   "name": "py3_8_5"
  },
  "language_info": {
   "codemirror_mode": {
    "name": "ipython",
    "version": 3
   },
   "file_extension": ".py",
   "mimetype": "text/x-python",
   "name": "python",
   "nbconvert_exporter": "python",
   "pygments_lexer": "ipython3",
   "version": "3.8.5"
  }
 },
 "nbformat": 4,
 "nbformat_minor": 5
}
