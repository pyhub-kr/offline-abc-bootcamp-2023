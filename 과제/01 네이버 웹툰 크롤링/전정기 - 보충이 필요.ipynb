{
 "cells": [
  {
   "cell_type": "markdown",
   "id": "fa83ffe7",
   "metadata": {},
   "source": [
    "# 네이버 웹툰 나혼자 탑에서 농사 크롤링 과제"
   ]
  },
  {
   "cell_type": "markdown",
   "id": "b3be7531",
   "metadata": {},
   "source": [
    "## 사이트 선언 및 라이브러리 활용"
   ]
  },
  {
   "cell_type": "code",
   "execution_count": 49,
   "id": "0ae84958",
   "metadata": {},
   "outputs": [],
   "source": [
    "index_page_url=\"https://m.comic.naver.com/webtoon/list?titleId=808389\""
   ]
  },
  {
   "cell_type": "code",
   "execution_count": 50,
   "id": "1ddee2cd",
   "metadata": {},
   "outputs": [],
   "source": [
    "import requests\n",
    "from bs4 import BeautifulSoup\n",
    "from urllib.parse import urljoin"
   ]
  },
  {
   "cell_type": "code",
   "execution_count": 51,
   "id": "e4adef45",
   "metadata": {},
   "outputs": [
    {
     "data": {
      "text/plain": [
       "<Response [200]>"
      ]
     },
     "execution_count": 51,
     "metadata": {},
     "output_type": "execute_result"
    }
   ],
   "source": [
    "res=requests.get(index_page_url)\n",
    "res"
   ]
  },
  {
   "cell_type": "code",
   "execution_count": 52,
   "id": "b348091d",
   "metadata": {},
   "outputs": [
    {
     "data": {
      "text/plain": [
       "33430"
      ]
     },
     "execution_count": 52,
     "metadata": {},
     "output_type": "execute_result"
    }
   ],
   "source": [
    "html=res.text\n",
    "len(html)"
   ]
  },
  {
   "cell_type": "code",
   "execution_count": 64,
   "id": "e63de63c",
   "metadata": {},
   "outputs": [
    {
     "name": "stdout",
     "output_type": "stream",
     "text": [
      "14화 쮸르를 받았다냥.\n",
      "https://m.comoc.naver.com/webtoon/detail?titleId=808389&no=14&week=fri&listSortOrder=DESC&listPage=1\n",
      "13화 테대표 강등\n",
      "https://m.comoc.naver.com/webtoon/detail?titleId=808389&no=13&week=fri&listSortOrder=DESC&listPage=1\n",
      "12화 동업자.\n",
      "https://m.comoc.naver.com/webtoon/detail?titleId=808389&no=12&week=fri&listSortOrder=DESC&listPage=1\n",
      "11화 고양이 유랑 상인 테오\n",
      "https://m.comoc.naver.com/webtoon/detail?titleId=808389&no=11&week=fri&listSortOrder=DESC&listPage=1\n",
      "10화 백토끼와 흑토끼\n",
      "https://m.comoc.naver.com/webtoon/detail?titleId=808389&no=10&week=fri&listSortOrder=DESC&listPage=1\n",
      "9화 독꿀벌\n",
      "https://m.comoc.naver.com/webtoon/detail?titleId=808389&no=9&week=fri&listSortOrder=DESC&listPage=1\n",
      "8화 씨앗 상점\n",
      "https://m.comoc.naver.com/webtoon/detail?titleId=808389&no=8&week=fri&listSortOrder=DESC&listPage=1\n",
      "7화 블루문의 고구마\n",
      "https://m.comoc.naver.com/webtoon/detail?titleId=808389&no=7&week=fri&listSortOrder=DESC&listPage=1\n",
      "6화 방울 토마토\n",
      "https://m.comoc.naver.com/webtoon/detail?titleId=808389&no=6&week=fri&listSortOrder=DESC&listPage=1\n",
      "5화 각성하다.\n",
      "https://m.comoc.naver.com/webtoon/detail?titleId=808389&no=5&week=fri&listSortOrder=DESC&listPage=1\n",
      "4화 블루문\n",
      "https://m.comoc.naver.com/webtoon/detail?titleId=808389&no=4&week=fri&listSortOrder=DESC&listPage=1\n",
      "3화 토끼부부\n",
      "https://m.comoc.naver.com/webtoon/detail?titleId=808389&no=3&week=fri&listSortOrder=DESC&listPage=1\n",
      "2화 파를 심다.\n",
      "https://m.comoc.naver.com/webtoon/detail?titleId=808389&no=2&week=fri&listSortOrder=DESC&listPage=1\n",
      "1화 탑으로.\n",
      "https://m.comoc.naver.com/webtoon/detail?titleId=808389&no=1&week=fri&listSortOrder=DESC&listPage=1\n"
     ]
    }
   ],
   "source": [
    "soup=BeautifulSoup(html,\"html.parser\")\n",
    "# 정확한 이유는 모르겠지만 \".section_episode_list preview\"은 선언했을때 아무것도 나오지 않았고\n",
    "#\".section_episode_list\"에서 len()함수를 사용했을때는 2개, \".section_episode_list a\"는 모든화가 출력 되었다.\n",
    "tag_list=soup.select(\".section_episode_list a\")\n",
    "for a_tag in tag_list:\n",
    "    ep_url=a_tag[\"href\"] #\"href는 링크를 추출\"\n",
    "    if ep_url!=\"#\":\n",
    "        #태그는 다시.select를 통해 자식 태그들을 조회 할 수 있습니다.\n",
    "        name_tag=a_tag.select(\".name\")[0] #.select는 태그 리스를 변환합니다.\n",
    "        name=name_tag.text\n",
    "        print(name)\n",
    "        #print(ep_url)\n",
    "        #ep_url에서는 scheme과 hostname이 누락되어있습니다.\n",
    "        # html 요청 주소를 보시면 \"https://m.comoc.naver.com\" 입니다.\n",
    "        ep_url=\"https://m.comoc.naver.com\"+ep_url\n",
    "        #아래 코드처럼 동적으로 hostname을 조합 가능\n",
    "        ep_url=urljoin(index_page_url,ep_url)\n",
    "        print(ep_url)\n"
   ]
  },
  {
   "cell_type": "code",
   "execution_count": 68,
   "id": "99f63bb5",
   "metadata": {},
   "outputs": [
    {
     "name": "stdout",
     "output_type": "stream",
     "text": [
      "https://m.comoc.naver.com/webtoon/detail?titleId=808389&no=1&week=fri&listSortOrder=DESC&listPage=1\n",
      "https://m.comoc.naver.com/webtoon/detail?titleId=808389&no=1&week=fri&listSortOrder=DESC&listPage=1\n",
      "https://m.comoc.naver.com/webtoon/detail?titleId=808389&no=1&week=fri&listSortOrder=DESC&listPage=1\n",
      "https://m.comoc.naver.com/webtoon/detail?titleId=808389&no=1&week=fri&listSortOrder=DESC&listPage=1\n",
      "https://m.comoc.naver.com/webtoon/detail?titleId=808389&no=1&week=fri&listSortOrder=DESC&listPage=1\n",
      "https://m.comoc.naver.com/webtoon/detail?titleId=808389&no=1&week=fri&listSortOrder=DESC&listPage=1\n",
      "https://m.comoc.naver.com/webtoon/detail?titleId=808389&no=1&week=fri&listSortOrder=DESC&listPage=1\n",
      "https://m.comoc.naver.com/webtoon/detail?titleId=808389&no=1&week=fri&listSortOrder=DESC&listPage=1\n",
      "https://m.comoc.naver.com/webtoon/detail?titleId=808389&no=1&week=fri&listSortOrder=DESC&listPage=1\n",
      "https://m.comoc.naver.com/webtoon/detail?titleId=808389&no=1&week=fri&listSortOrder=DESC&listPage=1\n",
      "https://m.comoc.naver.com/webtoon/detail?titleId=808389&no=1&week=fri&listSortOrder=DESC&listPage=1\n",
      "https://m.comoc.naver.com/webtoon/detail?titleId=808389&no=1&week=fri&listSortOrder=DESC&listPage=1\n",
      "https://m.comoc.naver.com/webtoon/detail?titleId=808389&no=1&week=fri&listSortOrder=DESC&listPage=1\n",
      "https://m.comoc.naver.com/webtoon/detail?titleId=808389&no=1&week=fri&listSortOrder=DESC&listPage=1\n",
      "https://m.comoc.naver.com/webtoon/detail?titleId=808389&no=1&week=fri&listSortOrder=DESC&listPage=1\n",
      "https://m.comoc.naver.com/webtoon/detail?titleId=808389&no=1&week=fri&listSortOrder=DESC&listPage=1\n",
      "https://m.comoc.naver.com/webtoon/detail?titleId=808389&no=1&week=fri&listSortOrder=DESC&listPage=1\n",
      "https://m.comoc.naver.com/webtoon/detail?titleId=808389&no=1&week=fri&listSortOrder=DESC&listPage=1\n",
      "https://m.comoc.naver.com/webtoon/detail?titleId=808389&no=1&week=fri&listSortOrder=DESC&listPage=1\n"
     ]
    }
   ],
   "source": [
    "# 왜 1주차것만 나오는지 잘 모르겠다..\n",
    "for a_tag in tag_list:\n",
    "    if ep_url!=\"#\":\n",
    "        ep_url=urljoin(index_page_url,ep_url)\n",
    "        print(ep_url)"
   ]
  },
  {
   "cell_type": "code",
   "execution_count": 32,
   "id": "814c0f41",
   "metadata": {},
   "outputs": [],
   "source": [
    "headers={\n",
    "    \"User-Agent\":\"Mozilla/5.0 (Windows NT 10.0; Win64; x64) AppleWebKit/537.36 (KHTML, like Gecko) Chrome/115.0.0.0 Safari/537.36\",\n",
    "}"
   ]
  },
  {
   "cell_type": "code",
   "execution_count": 33,
   "id": "58eb501f",
   "metadata": {},
   "outputs": [
    {
     "data": {
      "text/plain": [
       "<Response [200]>"
      ]
     },
     "execution_count": 33,
     "metadata": {},
     "output_type": "execute_result"
    }
   ],
   "source": [
    "page_url=\"https://comic.naver.com/webtoon/detail?titleId=808389&no=1&week=fri&listSortOrder=DESC&listPage=1\"\n",
    "res=requests.get(page_url)\n",
    "res"
   ]
  },
  {
   "cell_type": "code",
   "execution_count": 34,
   "id": "3f6495b4",
   "metadata": {},
   "outputs": [
    {
     "data": {
      "text/plain": [
       "41807"
      ]
     },
     "execution_count": 34,
     "metadata": {},
     "output_type": "execute_result"
    }
   ],
   "source": [
    "html=res.text\n",
    "len(html)"
   ]
  },
  {
   "cell_type": "code",
   "execution_count": 35,
   "id": "3925ba27",
   "metadata": {},
   "outputs": [],
   "source": [
    "soup=BeautifulSoup(html,\"html.parser\")"
   ]
  },
  {
   "cell_type": "code",
   "execution_count": 36,
   "id": "ee464a54",
   "metadata": {},
   "outputs": [],
   "source": [
    "tag_list=soup.select(\".wt_viewer img\")"
   ]
  },
  {
   "cell_type": "code",
   "execution_count": 37,
   "id": "e61fbb3b",
   "metadata": {},
   "outputs": [
    {
     "data": {
      "text/plain": [
       "<img alt=\"comic content\" id=\"content_image_0\" src=\"https://image-comic.pstatic.net/webtoon/808389/1/20230427113443_43ba6bed9b01fd058d12373dc4aa2fa9_IMAG01_1.jpg\"/>"
      ]
     },
     "execution_count": 37,
     "metadata": {},
     "output_type": "execute_result"
    }
   ],
   "source": [
    "tag=tag_list[1]\n",
    "tag"
   ]
  },
  {
   "cell_type": "code",
   "execution_count": 38,
   "id": "c9ad10bc",
   "metadata": {},
   "outputs": [
    {
     "data": {
      "text/plain": [
       "'https://image-comic.pstatic.net/webtoon/808389/1/20230427113443_43ba6bed9b01fd058d12373dc4aa2fa9_IMAG01_1.jpg'"
      ]
     },
     "execution_count": 38,
     "metadata": {},
     "output_type": "execute_result"
    }
   ],
   "source": [
    "tag[\"src\"]"
   ]
  },
  {
   "cell_type": "code",
   "execution_count": 39,
   "id": "e809ada1",
   "metadata": {},
   "outputs": [
    {
     "name": "stdout",
     "output_type": "stream",
     "text": [
      "https://image-comic.pstatic.net/static/agerate/age_all_white.jpg\n",
      "https://image-comic.pstatic.net/webtoon/808389/1/20230427113443_43ba6bed9b01fd058d12373dc4aa2fa9_IMAG01_1.jpg\n",
      "https://image-comic.pstatic.net/webtoon/808389/1/20230427113443_43ba6bed9b01fd058d12373dc4aa2fa9_IMAG01_2.jpg\n",
      "https://image-comic.pstatic.net/webtoon/808389/1/20230427113443_43ba6bed9b01fd058d12373dc4aa2fa9_IMAG01_3.jpg\n",
      "https://image-comic.pstatic.net/webtoon/808389/1/20230427113443_43ba6bed9b01fd058d12373dc4aa2fa9_IMAG01_4.jpg\n",
      "https://image-comic.pstatic.net/webtoon/808389/1/20230427113443_43ba6bed9b01fd058d12373dc4aa2fa9_IMAG01_5.jpg\n",
      "https://image-comic.pstatic.net/webtoon/808389/1/20230427113443_43ba6bed9b01fd058d12373dc4aa2fa9_IMAG01_6.jpg\n",
      "https://image-comic.pstatic.net/webtoon/808389/1/20230427113443_43ba6bed9b01fd058d12373dc4aa2fa9_IMAG01_7.jpg\n",
      "https://image-comic.pstatic.net/webtoon/808389/1/20230427113443_43ba6bed9b01fd058d12373dc4aa2fa9_IMAG01_8.jpg\n",
      "https://image-comic.pstatic.net/webtoon/808389/1/20230427113443_43ba6bed9b01fd058d12373dc4aa2fa9_IMAG01_9.jpg\n",
      "https://image-comic.pstatic.net/webtoon/808389/1/20230427113443_43ba6bed9b01fd058d12373dc4aa2fa9_IMAG01_10.jpg\n",
      "https://image-comic.pstatic.net/webtoon/808389/1/20230427113443_43ba6bed9b01fd058d12373dc4aa2fa9_IMAG01_11.jpg\n",
      "https://image-comic.pstatic.net/webtoon/808389/1/20230427113443_43ba6bed9b01fd058d12373dc4aa2fa9_IMAG01_12.jpg\n",
      "https://image-comic.pstatic.net/webtoon/808389/1/20230427113443_43ba6bed9b01fd058d12373dc4aa2fa9_IMAG01_13.jpg\n",
      "https://image-comic.pstatic.net/webtoon/808389/1/20230427113443_43ba6bed9b01fd058d12373dc4aa2fa9_IMAG01_14.jpg\n",
      "https://image-comic.pstatic.net/webtoon/808389/1/20230427113443_43ba6bed9b01fd058d12373dc4aa2fa9_IMAG01_15.jpg\n",
      "https://image-comic.pstatic.net/webtoon/808389/1/20230427113443_43ba6bed9b01fd058d12373dc4aa2fa9_IMAG01_16.jpg\n",
      "https://image-comic.pstatic.net/webtoon/808389/1/20230427113443_43ba6bed9b01fd058d12373dc4aa2fa9_IMAG01_17.jpg\n",
      "https://image-comic.pstatic.net/webtoon/808389/1/20230427113443_43ba6bed9b01fd058d12373dc4aa2fa9_IMAG01_18.jpg\n",
      "https://image-comic.pstatic.net/webtoon/808389/1/20230427113443_43ba6bed9b01fd058d12373dc4aa2fa9_IMAG01_19.jpg\n",
      "https://image-comic.pstatic.net/webtoon/808389/1/20230427113443_43ba6bed9b01fd058d12373dc4aa2fa9_IMAG01_20.jpg\n",
      "https://image-comic.pstatic.net/webtoon/808389/1/20230427113443_43ba6bed9b01fd058d12373dc4aa2fa9_IMAG01_21.jpg\n",
      "https://image-comic.pstatic.net/webtoon/808389/1/20230427113443_43ba6bed9b01fd058d12373dc4aa2fa9_IMAG01_22.jpg\n",
      "https://image-comic.pstatic.net/webtoon/808389/1/20230427113443_43ba6bed9b01fd058d12373dc4aa2fa9_IMAG01_23.jpg\n",
      "https://image-comic.pstatic.net/webtoon/808389/1/20230427113443_43ba6bed9b01fd058d12373dc4aa2fa9_IMAG01_24.jpg\n",
      "https://image-comic.pstatic.net/webtoon/808389/1/20230427113443_43ba6bed9b01fd058d12373dc4aa2fa9_IMAG01_25.jpg\n",
      "https://image-comic.pstatic.net/webtoon/808389/1/20230427113443_43ba6bed9b01fd058d12373dc4aa2fa9_IMAG01_26.jpg\n",
      "https://image-comic.pstatic.net/webtoon/808389/1/20230427113443_43ba6bed9b01fd058d12373dc4aa2fa9_IMAG01_27.jpg\n",
      "https://image-comic.pstatic.net/webtoon/808389/1/20230427113443_43ba6bed9b01fd058d12373dc4aa2fa9_IMAG01_28.jpg\n",
      "https://image-comic.pstatic.net/webtoon/808389/1/20230427113443_43ba6bed9b01fd058d12373dc4aa2fa9_IMAG01_29.jpg\n",
      "https://image-comic.pstatic.net/webtoon/808389/1/20230427113443_43ba6bed9b01fd058d12373dc4aa2fa9_IMAG01_30.jpg\n",
      "https://image-comic.pstatic.net/webtoon/808389/1/20230427113443_43ba6bed9b01fd058d12373dc4aa2fa9_IMAG01_31.jpg\n",
      "https://image-comic.pstatic.net/webtoon/808389/1/20230427113443_43ba6bed9b01fd058d12373dc4aa2fa9_IMAG01_32.jpg\n",
      "https://image-comic.pstatic.net/webtoon/808389/1/20230427113443_43ba6bed9b01fd058d12373dc4aa2fa9_IMAG01_33.jpg\n",
      "https://image-comic.pstatic.net/webtoon/808389/1/20230427113443_43ba6bed9b01fd058d12373dc4aa2fa9_IMAG01_34.jpg\n",
      "https://image-comic.pstatic.net/webtoon/808389/1/20230427113443_43ba6bed9b01fd058d12373dc4aa2fa9_IMAG01_35.jpg\n",
      "https://image-comic.pstatic.net/webtoon/808389/1/20230427113443_43ba6bed9b01fd058d12373dc4aa2fa9_IMAG01_36.jpg\n",
      "https://image-comic.pstatic.net/webtoon/808389/1/20230427113443_43ba6bed9b01fd058d12373dc4aa2fa9_IMAG01_37.jpg\n",
      "https://image-comic.pstatic.net/webtoon/808389/1/20230427113443_43ba6bed9b01fd058d12373dc4aa2fa9_IMAG01_38.jpg\n",
      "https://image-comic.pstatic.net/webtoon/808389/1/20230427113443_43ba6bed9b01fd058d12373dc4aa2fa9_IMAG01_39.jpg\n",
      "https://image-comic.pstatic.net/webtoon/808389/1/20230427113443_43ba6bed9b01fd058d12373dc4aa2fa9_IMAG01_40.jpg\n",
      "https://image-comic.pstatic.net/webtoon/808389/1/20230427113443_43ba6bed9b01fd058d12373dc4aa2fa9_IMAG01_41.jpg\n",
      "https://image-comic.pstatic.net/webtoon/808389/1/20230427113443_43ba6bed9b01fd058d12373dc4aa2fa9_IMAG01_42.jpg\n",
      "https://image-comic.pstatic.net/webtoon/808389/1/20230427113443_43ba6bed9b01fd058d12373dc4aa2fa9_IMAG01_43.jpg\n",
      "https://image-comic.pstatic.net/webtoon/808389/1/20230427113443_43ba6bed9b01fd058d12373dc4aa2fa9_IMAG01_44.jpg\n",
      "https://image-comic.pstatic.net/webtoon/808389/1/20230427113443_43ba6bed9b01fd058d12373dc4aa2fa9_IMAG01_45.jpg\n",
      "https://image-comic.pstatic.net/webtoon/808389/1/20230427113443_43ba6bed9b01fd058d12373dc4aa2fa9_IMAG01_46.jpg\n",
      "https://image-comic.pstatic.net/webtoon/808389/1/20230427113443_43ba6bed9b01fd058d12373dc4aa2fa9_IMAG01_47.jpg\n",
      "https://image-comic.pstatic.net/webtoon/808389/1/20230427113443_43ba6bed9b01fd058d12373dc4aa2fa9_IMAG01_48.jpg\n",
      "https://image-comic.pstatic.net/webtoon/808389/1/20230427113443_43ba6bed9b01fd058d12373dc4aa2fa9_IMAG01_49.jpg\n",
      "https://image-comic.pstatic.net/webtoon/808389/1/20230427113443_43ba6bed9b01fd058d12373dc4aa2fa9_IMAG01_50.jpg\n",
      "https://image-comic.pstatic.net/webtoon/808389/1/20230427113443_43ba6bed9b01fd058d12373dc4aa2fa9_IMAG01_51.jpg\n",
      "https://image-comic.pstatic.net/webtoon/808389/1/20230427113443_43ba6bed9b01fd058d12373dc4aa2fa9_IMAG01_52.jpg\n",
      "https://image-comic.pstatic.net/webtoon/808389/1/20230427113443_43ba6bed9b01fd058d12373dc4aa2fa9_IMAG01_53.jpg\n",
      "https://image-comic.pstatic.net/webtoon/808389/1/20230427113443_43ba6bed9b01fd058d12373dc4aa2fa9_IMAG01_54.jpg\n",
      "https://image-comic.pstatic.net/webtoon/808389/1/20230427113443_43ba6bed9b01fd058d12373dc4aa2fa9_IMAG01_55.jpg\n",
      "https://image-comic.pstatic.net/webtoon/808389/1/20230427113443_43ba6bed9b01fd058d12373dc4aa2fa9_IMAG01_56.jpg\n",
      "https://image-comic.pstatic.net/webtoon/808389/1/20230427113443_43ba6bed9b01fd058d12373dc4aa2fa9_IMAG01_57.jpg\n",
      "https://image-comic.pstatic.net/webtoon/808389/1/20230427113443_43ba6bed9b01fd058d12373dc4aa2fa9_IMAG01_58.jpg\n",
      "https://image-comic.pstatic.net/webtoon/808389/1/20230427113443_43ba6bed9b01fd058d12373dc4aa2fa9_IMAG01_59.jpg\n",
      "https://image-comic.pstatic.net/webtoon/808389/1/20230427113443_43ba6bed9b01fd058d12373dc4aa2fa9_IMAG01_60.jpg\n",
      "https://image-comic.pstatic.net/webtoon/808389/1/20230427113443_43ba6bed9b01fd058d12373dc4aa2fa9_IMAG01_61.jpg\n",
      "https://image-comic.pstatic.net/webtoon/808389/1/20230427113443_43ba6bed9b01fd058d12373dc4aa2fa9_IMAG01_62.jpg\n",
      "https://image-comic.pstatic.net/webtoon/808389/1/20230427113443_43ba6bed9b01fd058d12373dc4aa2fa9_IMAG01_63.jpg\n",
      "https://image-comic.pstatic.net/webtoon/808389/1/20230427113443_43ba6bed9b01fd058d12373dc4aa2fa9_IMAG01_64.jpg\n",
      "https://image-comic.pstatic.net/webtoon/808389/1/20230427113443_43ba6bed9b01fd058d12373dc4aa2fa9_IMAG01_65.jpg\n",
      "https://image-comic.pstatic.net/webtoon/808389/1/20230427113443_43ba6bed9b01fd058d12373dc4aa2fa9_IMAG01_66.jpg\n",
      "https://image-comic.pstatic.net/webtoon/808389/1/20230427113443_43ba6bed9b01fd058d12373dc4aa2fa9_IMAG01_67.jpg\n",
      "https://image-comic.pstatic.net/webtoon/808389/1/20230427113443_43ba6bed9b01fd058d12373dc4aa2fa9_IMAG01_68.jpg\n",
      "https://image-comic.pstatic.net/webtoon/808389/1/20230427113443_43ba6bed9b01fd058d12373dc4aa2fa9_IMAG01_69.jpg\n",
      "https://image-comic.pstatic.net/webtoon/808389/1/20230427113443_43ba6bed9b01fd058d12373dc4aa2fa9_IMAG01_70.jpg\n",
      "https://image-comic.pstatic.net/webtoon/808389/1/20230427113443_43ba6bed9b01fd058d12373dc4aa2fa9_IMAG01_71.jpg\n",
      "https://image-comic.pstatic.net/webtoon/808389/1/20230427113443_43ba6bed9b01fd058d12373dc4aa2fa9_IMAG01_72.jpg\n",
      "https://image-comic.pstatic.net/webtoon/808389/1/20230427113443_43ba6bed9b01fd058d12373dc4aa2fa9_IMAG01_73.jpg\n",
      "https://image-comic.pstatic.net/webtoon/808389/1/20230427113443_43ba6bed9b01fd058d12373dc4aa2fa9_IMAG01_74.jpg\n",
      "https://image-comic.pstatic.net/webtoon/808389/1/20230427113443_43ba6bed9b01fd058d12373dc4aa2fa9_IMAG01_75.jpg\n",
      "https://image-comic.pstatic.net/webtoon/808389/1/20230427113443_43ba6bed9b01fd058d12373dc4aa2fa9_IMAG01_76.jpg\n",
      "https://image-comic.pstatic.net/webtoon/808389/1/20230427113443_43ba6bed9b01fd058d12373dc4aa2fa9_IMAG01_77.jpg\n",
      "https://image-comic.pstatic.net/webtoon/808389/1/20230427113443_43ba6bed9b01fd058d12373dc4aa2fa9_IMAG01_78.jpg\n",
      "https://image-comic.pstatic.net/webtoon/808389/1/20230427113443_43ba6bed9b01fd058d12373dc4aa2fa9_IMAG01_79.jpg\n",
      "https://image-comic.pstatic.net/webtoon/808389/1/20230427113443_43ba6bed9b01fd058d12373dc4aa2fa9_IMAG01_80.jpg\n",
      "https://image-comic.pstatic.net/webtoon/808389/1/20230427113443_43ba6bed9b01fd058d12373dc4aa2fa9_IMAG01_81.jpg\n",
      "https://image-comic.pstatic.net/webtoon/808389/1/20230427113443_43ba6bed9b01fd058d12373dc4aa2fa9_IMAG01_82.jpg\n",
      "https://image-comic.pstatic.net/webtoon/808389/1/20230427113443_43ba6bed9b01fd058d12373dc4aa2fa9_IMAG01_83.jpg\n",
      "https://image-comic.pstatic.net/webtoon/808389/1/20230427113443_43ba6bed9b01fd058d12373dc4aa2fa9_IMAG01_84.jpg\n",
      "https://image-comic.pstatic.net/webtoon/808389/1/20230427113443_43ba6bed9b01fd058d12373dc4aa2fa9_IMAG01_85.jpg\n",
      "https://image-comic.pstatic.net/webtoon/808389/1/20230427113443_43ba6bed9b01fd058d12373dc4aa2fa9_IMAG01_86.jpg\n",
      "https://image-comic.pstatic.net/webtoon/808389/1/20230427113443_43ba6bed9b01fd058d12373dc4aa2fa9_IMAG01_87.jpg\n",
      "https://image-comic.pstatic.net/webtoon/808389/1/20230427113443_43ba6bed9b01fd058d12373dc4aa2fa9_IMAG01_88.jpg\n",
      "https://image-comic.pstatic.net/webtoon/808389/1/20230427113443_43ba6bed9b01fd058d12373dc4aa2fa9_IMAG01_89.jpg\n",
      "https://image-comic.pstatic.net/webtoon/808389/1/20230427113443_43ba6bed9b01fd058d12373dc4aa2fa9_IMAG01_90.jpg\n",
      "https://image-comic.pstatic.net/webtoon/808389/1/20230427113443_43ba6bed9b01fd058d12373dc4aa2fa9_IMAG01_91.jpg\n",
      "https://image-comic.pstatic.net/webtoon/808389/1/20230427113443_43ba6bed9b01fd058d12373dc4aa2fa9_IMAG01_92.jpg\n",
      "https://image-comic.pstatic.net/webtoon/808389/1/20230427113443_43ba6bed9b01fd058d12373dc4aa2fa9_IMAG01_93.jpg\n",
      "https://image-comic.pstatic.net/webtoon/808389/1/20230427113443_43ba6bed9b01fd058d12373dc4aa2fa9_IMAG01_94.jpg\n",
      "https://image-comic.pstatic.net/webtoon/808389/1/20230427113443_43ba6bed9b01fd058d12373dc4aa2fa9_IMAG01_95.jpg\n",
      "https://image-comic.pstatic.net/webtoon/808389/1/20230427113443_43ba6bed9b01fd058d12373dc4aa2fa9_IMAG01_96.jpg\n",
      "https://image-comic.pstatic.net/webtoon/808389/1/20230427113443_43ba6bed9b01fd058d12373dc4aa2fa9_IMAG01_97.jpg\n",
      "https://image-comic.pstatic.net/webtoon/808389/1/20230427113443_43ba6bed9b01fd058d12373dc4aa2fa9_IMAG01_98.jpg\n",
      "https://image-comic.pstatic.net/webtoon/808389/1/20230427113443_43ba6bed9b01fd058d12373dc4aa2fa9_IMAG01_99.jpg\n",
      "https://image-comic.pstatic.net/webtoon/808389/1/20230427113443_43ba6bed9b01fd058d12373dc4aa2fa9_IMAG01_100.jpg\n",
      "https://image-comic.pstatic.net/webtoon/808389/1/20230427113443_43ba6bed9b01fd058d12373dc4aa2fa9_IMAG01_101.jpg\n",
      "https://image-comic.pstatic.net/webtoon/808389/1/20230427113443_43ba6bed9b01fd058d12373dc4aa2fa9_IMAG01_102.jpg\n",
      "https://image-comic.pstatic.net/webtoon/808389/1/20230427113443_43ba6bed9b01fd058d12373dc4aa2fa9_IMAG01_103.jpg\n",
      "https://image-comic.pstatic.net/webtoon/808389/1/20230427113443_43ba6bed9b01fd058d12373dc4aa2fa9_IMAG01_104.jpg\n",
      "https://image-comic.pstatic.net/webtoon/808389/1/20230427113443_43ba6bed9b01fd058d12373dc4aa2fa9_IMAG01_105.jpg\n",
      "https://image-comic.pstatic.net/webtoon/808389/1/20230427113443_43ba6bed9b01fd058d12373dc4aa2fa9_IMAG01_106.jpg\n",
      "https://image-comic.pstatic.net/webtoon/808389/1/20230427113443_43ba6bed9b01fd058d12373dc4aa2fa9_IMAG01_107.jpg\n",
      "https://image-comic.pstatic.net/webtoon/808389/1/20230427113443_43ba6bed9b01fd058d12373dc4aa2fa9_IMAG01_108.jpg\n",
      "https://image-comic.pstatic.net/webtoon/808389/1/20230427113443_43ba6bed9b01fd058d12373dc4aa2fa9_IMAG01_109.jpg\n"
     ]
    }
   ],
   "source": [
    "idx=0\n",
    "for tag in tag_list:\n",
    "    filename=f\"{idx}.jpg\"\n",
    "    print(tag[\"src\"])\n",
    "    \n",
    "    idx+=0\n"
   ]
  },
  {
   "cell_type": "code",
   "execution_count": 41,
   "id": "c9c8faf0",
   "metadata": {},
   "outputs": [
    {
     "data": {
      "application/vnd.jupyter.widget-view+json": {
       "model_id": "76f8b12189dd46bb998af76c191a9c21",
       "version_major": 2,
       "version_minor": 0
      },
      "text/plain": [
       "0it [00:00, ?it/s]"
      ]
     },
     "metadata": {},
     "output_type": "display_data"
    }
   ],
   "source": [
    "# for문 안에 이중포문으로 회차를 늘려가며, 다운로드를 하는 방식으로 사용하고 싶지만 \n",
    "# 시행착오끝에 방법을 찾지는 못 했습니다..\n",
    "\n",
    "import os\n",
    "from tqdm.notebook import tqdm\n",
    "\n",
    "for idx,tag in tqdm(enumerate(tag_list,1)):\n",
    "    웹툰명=\"나 혼자 탑에서 농사\"\n",
    "    회차=\"1화\"\n",
    "    image_url=tag[\"src\"]\n",
    "    image_filepath=f\"{웹툰명}/{회차}/{idx:03d}.jpg\"\n",
    "\n",
    "    \n",
    "    \n",
    "    image_res=requests.get(image_url,headers=headers)\n",
    "    if not image_res.ok:\n",
    "        print(\"이미지 다운로드를 중단합니다.\")\n",
    "        break\n",
    "        \n",
    "    dirpath=os.path.dirname(image_filepath) # 경로 계산하고, 없으면 생성\n",
    "    os.makedirs(dirpath, exist_ok=True)\n",
    "    \n",
    "    #저장\n",
    "    with open(image_filepath,\"wb\") as f:\n",
    "        f.write(image_res.content)"
   ]
  },
  {
   "cell_type": "code",
   "execution_count": null,
   "id": "2cb12d7f",
   "metadata": {},
   "outputs": [],
   "source": []
  },
  {
   "cell_type": "code",
   "execution_count": null,
   "id": "1f7fd11d",
   "metadata": {},
   "outputs": [],
   "source": []
  }
 ],
 "metadata": {
  "kernelspec": {
   "display_name": "python3_8_5",
   "language": "python",
   "name": "py3_8_5"
  },
  "language_info": {
   "codemirror_mode": {
    "name": "ipython",
    "version": 3
   },
   "file_extension": ".py",
   "mimetype": "text/x-python",
   "name": "python",
   "nbconvert_exporter": "python",
   "pygments_lexer": "ipython3",
   "version": "3.8.5"
  }
 },
 "nbformat": 4,
 "nbformat_minor": 5
}
