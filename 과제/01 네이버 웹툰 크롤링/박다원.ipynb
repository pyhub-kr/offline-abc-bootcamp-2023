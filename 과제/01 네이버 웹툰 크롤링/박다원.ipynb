{
 "cells": [
  {
   "cell_type": "code",
   "execution_count": 1,
   "id": "e5490bee",
   "metadata": {},
   "outputs": [],
   "source": [
    "import requests\n",
    "from bs4 import BeautifulSoup\n",
    "import os"
   ]
  },
  {
   "cell_type": "code",
   "execution_count": 2,
   "id": "61e8d2a8",
   "metadata": {},
   "outputs": [],
   "source": [
    "def crawling(url, headers):\n",
    "    res = requests.get(url, headers=headers)\n",
    "    assert res.status_code == 200, \"not [200]\"\n",
    "    html = res.text\n",
    "    soup = BeautifulSoup(html, \"html.parser\")\n",
    "    return soup"
   ]
  },
  {
   "cell_type": "code",
   "execution_count": 3,
   "id": "52fc57d9",
   "metadata": {},
   "outputs": [],
   "source": [
    "page_url = \"https://m.comic.naver.com/webtoon/list?titleId=807178&week=wed\"\n",
    "headers = {\"User-Agent\":\"Mozilla/5.0 (Macintosh; Intel Mac OS X 10_15_7) AppleWebKit/537.36 (KHTML, like Gecko) Chrome/115.0.0.0 Safari/537.36\"}\n",
    "\n",
    "page_soup = crawling(page_url, headers)\n",
    "page_tag_list = page_soup.select(\".preview li a\")\n",
    "\n",
    "url_list=[]\n",
    "for page_tag in page_tag_list: \n",
    "    url = \"https://m.comic.naver.com\" + page_tag['href']\n",
    "    url_list.append(url)"
   ]
  },
  {
   "cell_type": "code",
   "execution_count": 4,
   "id": "f7173f37",
   "metadata": {},
   "outputs": [
    {
     "name": "stdout",
     "output_type": "stream",
     "text": [
      "21 화 저장 완료\n",
      "20 화 저장 완료\n",
      "19 화 저장 완료\n",
      "18 화 저장 완료\n",
      "17 화 저장 완료\n",
      "16 화 저장 완료\n",
      "15 화 저장 완료\n",
      "14 화 저장 완료\n",
      "13 화 저장 완료\n",
      "12 화 저장 완료\n",
      "11 화 저장 완료\n",
      "10 화 저장 완료\n",
      "9 화 저장 완료\n",
      "8 화 저장 완료\n",
      "7 화 저장 완료\n",
      "6 화 저장 완료\n",
      "5 화 저장 완료\n",
      "4 화 저장 완료\n",
      "3 화 저장 완료\n",
      "2 화 저장 완료\n",
      "1 화 저장 완료\n",
      "종료\n"
     ]
    }
   ],
   "source": [
    "for url in url_list:\n",
    "    soup = crawling(url, headers)\n",
    "    tag_list = soup.select(\".toon_view_lst p img\")\n",
    "    idx = url.split(\"=\")[2].split(\"&\")[0]\n",
    "    \n",
    "    for i, tag in enumerate(tag_list): \n",
    "        file_path = f\"캐슬2/{idx}화/{i:03d}.jpg\" \n",
    "        dir_path = os.path.dirname(file_path)\n",
    "        os.makedirs(dir_path, exist_ok=True)\n",
    "    \n",
    "        try:\n",
    "            image_res = requests.get(tag['data-src'], headers=headers)\n",
    "        except:\n",
    "            image_res = requests.get(tag['src'], headers=headers)\n",
    "        assert image_res.status_code == 200, \"not [200]\"\n",
    "\n",
    "        # 저장\n",
    "        with open(file_path,\"wb\") as f:\n",
    "            f.write(image_res.content)\n",
    "    print(idx,\"화 저장 완료\")\n",
    "print(\"종료\")"
   ]
  }
 ],
 "metadata": {
  "kernelspec": {
   "display_name": "py3_11_3",
   "language": "python",
   "name": "py3_11_3"
  },
  "language_info": {
   "codemirror_mode": {
    "name": "ipython",
    "version": 3
   },
   "file_extension": ".py",
   "mimetype": "text/x-python",
   "name": "python",
   "nbconvert_exporter": "python",
   "pygments_lexer": "ipython3",
   "version": "3.11.3"
  }
 },
 "nbformat": 4,
 "nbformat_minor": 5
}
