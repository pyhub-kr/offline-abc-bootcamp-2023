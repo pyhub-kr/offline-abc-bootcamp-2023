{
 "cells": [
  {
   "cell_type": "code",
   "execution_count": 1,
   "id": "8de33400",
   "metadata": {},
   "outputs": [],
   "source": [
    "headers = {\n",
    "    \"User-Agent\" : \"Mozilla/5.0 (Windows NT 10.0; Win64; x64) AppleWebKit/537.36 (KHTML, like Gecko) Chrome/114.0.0.0 Safari/537.36\",\n",
    "} # 네이버를 속여서 접속"
   ]
  },
  {
   "cell_type": "code",
   "execution_count": null,
   "id": "a136869b",
   "metadata": {},
   "outputs": [],
   "source": [
    "page_url = \"\""
   ]
  }
 ],
 "metadata": {
  "kernelspec": {
   "display_name": "Python 3 (ipykernel)",
   "language": "python",
   "name": "python3"
  },
  "language_info": {
   "codemirror_mode": {
    "name": "ipython",
    "version": 3
   },
   "file_extension": ".py",
   "mimetype": "text/x-python",
   "name": "python",
   "nbconvert_exporter": "python",
   "pygments_lexer": "ipython3",
   "version": "3.11.3"
  }
 },
 "nbformat": 4,
 "nbformat_minor": 5
}
