{
 "cells": [
  {
   "cell_type": "code",
   "execution_count": 31,
   "id": "0bd553a5",
   "metadata": {},
   "outputs": [],
   "source": [
    "import requests\n",
    "import re\n",
    "import pandas as pd\n",
    "\n",
    "from bs4 import BeautifulSoup"
   ]
  },
  {
   "cell_type": "code",
   "execution_count": 32,
   "id": "56df0bbf",
   "metadata": {},
   "outputs": [
    {
     "data": {
      "text/plain": [
       "<Response [200]>"
      ]
     },
     "execution_count": 32,
     "metadata": {},
     "output_type": "execute_result"
    }
   ],
   "source": [
    "headers = {\n",
    "    \"User-Agent\": \"Mozilla/5.0 (Windows NT 10.0; Win64; x64) AppleWebKit/537.36 (KHTML, like Gecko) Chrome/115.0.0.0 Safari/537.36\",\n",
    "}\n",
    "url = \"https://www.melon.com/chart/index.htm\"\n",
    "res = requests.get(url, headers=headers)\n",
    "res"
   ]
  },
  {
   "cell_type": "code",
   "execution_count": 33,
   "id": "88fee22f",
   "metadata": {},
   "outputs": [
    {
     "data": {
      "text/plain": [
       "455974"
      ]
     },
     "execution_count": 33,
     "metadata": {},
     "output_type": "execute_result"
    }
   ],
   "source": [
    "html = res.text\n",
    "len(html)"
   ]
  },
  {
   "cell_type": "code",
   "execution_count": 34,
   "id": "84b53941",
   "metadata": {
    "scrolled": true
   },
   "outputs": [
    {
     "data": {
      "text/plain": [
       "1770"
      ]
     },
     "execution_count": 34,
     "metadata": {},
     "output_type": "execute_result"
    }
   ],
   "source": [
    "soup = BeautifulSoup(html, \"html.parser\")\n",
    "\n",
    "song_list_items = soup.select(\"div\",class_= \".service_list_song type02 d_song_list\")\n",
    "len(song_list)"
   ]
  },
  {
   "cell_type": "code",
   "execution_count": 35,
   "id": "5c5770e1",
   "metadata": {},
   "outputs": [],
   "source": [
    "def 멜론차트_가져오기():\n",
    "    song_title = []\n",
    "    song_title_list = [] # 노래 제목 \n",
    "    song_rank = []\n",
    "    song_rank_list = [] # 순위\n",
    "    album_list = [] # 앨범 명\n",
    "    singer_list = [] # 가수 이름\n",
    "\n",
    "    for song_list_item in song_list_items: # 전체 노래 리스트 순회\n",
    "        \n",
    "        wrap_song_info = song_list_item.find(\"div\", class_=\"wrap_song_info\") # 곡 정보(노래 제목, 가수 이름) 부분\n",
    "\n",
    "        rank_info = song_list_item.find(\"span\", class_=\"rank\") \n",
    "\n",
    "        url_info = song_list_item.find(\"div\", class_=\"wrap\") \n",
    "        \n",
    "        if rank_info:\n",
    "            song_rank.append(rank_info.text)\n",
    "\n",
    "        if wrap_song_info:\n",
    "\n",
    "            ellipsis_rank01 = wrap_song_info.find(\"div\", class_=\"ellipsis rank01\") # 노래 제목 속성의 부모 class\n",
    "            ellipsis_rank02 = wrap_song_info.find(\"div\", class_=\"ellipsis rank02\") # 가수 이름 속성의 부모 class\n",
    "            ellipsis_rank03 = wrap_song_info.find(\"div\", class_=\"ellipsis rank03\") # 앨범 명 속성의 부모 class\n",
    "\n",
    "            if ellipsis_rank01:\n",
    "                song_title.append(ellipsis_rank01.text.split('\\n')[1]) # 순위 정보가 \\n과 섞여 있기에 \\n 기준으로 split하여 가공\n",
    "                song_url = ellipsis_rank01.find(\"a\")[\"href\"] # 커버 이미지 주소\n",
    "\n",
    "            if ellipsis_rank02:\n",
    "                singer_name = ellipsis_rank02.find(\"span\").text.strip() # 가수 이름 정보를 담고있는 tag-span에 종종 공백을 담고 있기에 \n",
    "                                                                        # 공백을 제외하고 담기\n",
    "                singer_list.append(singer_name)\n",
    "            if ellipsis_rank03:\n",
    "                album_list.append(ellipsis_rank03.text.split('\\n')[1])   \n",
    "\n",
    "            wrap_song_info = \"\"\n",
    "\n",
    "    song_title_list = list(dict.fromkeys(song_title))\n",
    "    singer_list = singer_list[6:]\n",
    "\n",
    "    for i in range(len(song_rank)):\n",
    "        \n",
    "        if song_rank[i] != \"순위\":\n",
    "            song_rank_list.append(song_rank[i])\n",
    "    "
   ]
  }
 ],
 "metadata": {
  "kernelspec": {
   "display_name": "Python 3 (ipykernel)",
   "language": "python",
   "name": "python3"
  },
  "language_info": {
   "codemirror_mode": {
    "name": "ipython",
    "version": 3
   },
   "file_extension": ".py",
   "mimetype": "text/x-python",
   "name": "python",
   "nbconvert_exporter": "python",
   "pygments_lexer": "ipython3",
   "version": "3.11.3"
  }
 },
 "nbformat": 4,
 "nbformat_minor": 5
}
