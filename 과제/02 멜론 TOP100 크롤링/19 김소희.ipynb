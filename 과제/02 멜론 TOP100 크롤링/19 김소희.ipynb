{
 "cells": [
  {
   "cell_type": "code",
   "execution_count": 3,
   "id": "f086ad2a",
   "metadata": {},
   "outputs": [],
   "source": []
  },
  {
   "cell_type": "code",
   "execution_count": 4,
   "id": "5776d330",
   "metadata": {},
   "outputs": [
    {
     "name": "stdout",
     "output_type": "stream",
     "text": [
      "1위: Super Shy - NewJeans\n",
      "2위: Seven (feat. Latto) - Clean Ver. - NewJeans\n",
      "3위: ETA - 정국\n",
      "4위: 퀸카 (Queencard) - 정국\n",
      "5위: 헤어지자 말해요 - NewJeans\n",
      "6위: I AM - NewJeans\n",
      "7위: 이브, 프시케 그리고 푸른 수염의 아내 - (여자)아이들\n",
      "8위: Spicy - (여자)아이들\n",
      "9위: Steal The Show (From “엘리멘탈”) - 박재정\n",
      "10위: New Jeans - 박재정\n",
      "11위: UNFORGIVEN (feat. Nile Rodgers) - IVE (아이브)\n",
      "12위: Kitsch - IVE (아이브)\n",
      "13위: 사랑은 늘 도망가 - LE SSERAFIM (르세라핌)\n",
      "14위: Hype boy - LE SSERAFIM (르세라핌)\n",
      "15위: 모래 알갱이 - aespa\n",
      "16위: Cool With You - aespa\n",
      "17위: 우리들의 블루스 - Lauv\n",
      "18위: Ditto - Lauv\n",
      "19위: 다시 만날 수 있을까 - NewJeans\n",
      "20위: Candy - NewJeans\n",
      "21위: 손오공 - LE SSERAFIM (르세라핌)\n",
      "22위: 무지개 - LE SSERAFIM (르세라핌)\n",
      "23위: ISTJ - IVE (아이브)\n",
      "24위: 이제 나만 믿어요 - IVE (아이브)\n",
      "25위: London Boy - 임영웅\n",
      "26위: Polaroid - 임영웅\n",
      "27위: 아버지 - NewJeans\n",
      "28위: OMG - NewJeans\n",
      "29위: Still With You - 임영웅\n",
      "30위: Attention - 임영웅\n",
      "31위: 인생찬가 - NewJeans\n",
      "32위: 꽃 - NewJeans\n",
      "33위: A bientot - 임영웅\n",
      "34위: 손이 참 곱던 그대 - 임영웅\n",
      "35위: 사랑해 진짜 - NewJeans\n",
      "36위: Broken Melodies - NewJeans\n",
      "37위: 연애편지 - 임영웅\n",
      "38위: 사건의 지평선 - 임영웅\n",
      "39위: Dynamite - NCT DREAM\n",
      "40위: After LIKE - NCT DREAM\n",
      "41위: I Don't Think That I Like Her - 세븐틴 (SEVENTEEN)\n",
      "42위: ASAP - 세븐틴 (SEVENTEEN)\n",
      "43위: 보금자리 - 임영웅\n",
      "44위: Cupid - 임영웅\n",
      "45위: Dangerously - NCT DREAM\n",
      "46위: Butter - NCT DREAM\n",
      "47위: LOVE DIVE - 임영웅\n",
      "48위: 파이팅 해야지 (Feat. 이영지) - 임영웅\n",
      "49위: Take Two - 임영웅\n",
      "50위: Like Crazy - 임영웅\n",
      "51위: 심(心) - 임영웅\n",
      "52위: 봄날 - 임영웅\n",
      "53위: 사람 Pt.2 (feat. 아이유) - 임영웅\n",
      "54위: Dreamers [Music from the FIFA World Cup Qatar 2022 Official Soundtrack] (Feat. FIFA Sound) - 임영웅\n",
      "55위: Teddy Bear - NewJeans\n",
      "56위: 물론 - NewJeans\n",
      "57위: Permission to Dance - 정국\n",
      "58위: 파랑 (Blue Wave) - 정국\n",
      "59위: 사랑하지 않아서 그랬어 - NewJeans\n",
      "60위: In Bloom - NewJeans\n",
      "61위: 건물 사이에 피어난 장미 (Rose Blossom) - 임영웅\n",
      "62위: Like We Just Met - 임영웅\n",
      "63위: ANTIFRAGILE - 지수 (JISOO)\n",
      "64위: 사랑인가 봐 - 지수 (JISOO)\n",
      "65위: Allergy - 임영웅\n",
      "66위: Get Up - 임영웅\n",
      "67위: 여름이 들려 (Summer Comes) - 임영웅\n",
      "68위: Cream Soda - 임영웅\n",
      "69위: 너의 모든 순간 - 임영웅\n",
      "70위: Yogurt Shake - 임영웅\n",
      "71위: The Planet - NCT DREAM\n",
      "72위: 나에게 그대만이 - NCT DREAM\n",
      "73위: 사랑..그게 뭔데 - 임영웅\n",
      "74위: on the street (with J. Cole) - 임영웅\n",
      "75위: Summer (Feat. BE’O (비오)) - 윤하 (YOUNHA)\n",
      "76위: 잠깐 시간 될까 - 윤하 (YOUNHA)\n",
      "77위: Poison (모래성) - 방탄소년단\n",
      "78위: 사막에서 꽃을 피우듯 - 방탄소년단\n",
      "79위: Skateboard - IVE (아이브)\n",
      "80위: SOS - IVE (아이브)\n",
      "81위: 첫 키스에 내 심장은 120BPM - Charlie Puth\n",
      "82위: Pretzel (♡) - Charlie Puth\n",
      "83위: Heaven(2023) - NewJeans\n",
      "84위: 제자리 걸음 (Starry Night) - NewJeans\n",
      "85위: 사실말야내가말야그게그러니까말이야 - 임영웅\n",
      "86위: 취중고백 - 임영웅\n",
      "87위: STAY - FIFTY FIFTY\n",
      "88위: 빛이 나는 너에게 - FIFTY FIFTY\n",
      "89위: TOMBOY - Charlie Puth\n",
      "90위: 해요 (2022) - Charlie Puth\n",
      "91위: NIGHT DANCER - 방탄소년단\n",
      "92위: That’s Not How This Works (feat. Dan + Shay) - 방탄소년단\n",
      "93위: That's Hilarious - IVE (아이브)\n",
      "94위: 그중에 그대를 만나 - IVE (아이브)\n",
      "95위: 다정히 내 이름을 부르면 - 부석순 (SEVENTEEN)\n",
      "96위: 사랑의 바보 - 부석순 (SEVENTEEN)\n",
      "97위: Nxde - 방탄소년단\n",
      "98위: 잘 지내자, 우리 (여름날 우리 X 로이킴) - 방탄소년단\n",
      "99위: Monologue - 지민\n",
      "100위: KNOCK - 지민\n"
     ]
    }
   ],
   "source": [
    "import requests\n",
    "from bs4 import BeautifulSoup\n",
    "\n",
    "url = \"https://www.melon.com/chart/index.htm\"\n",
    "\n",
    "headers = {\n",
    "    \"User-Agent\": \"Mozilla/5.0 (Windows NT 10.0; Win64; x64) AppleWebKit/537.36 (KHTML, like Gecko) Chrome/58.0.3029.110 Safari/537.3\"\n",
    "}\n",
    "\n",
    "response = requests.get(url, headers=headers)\n",
    "soup = BeautifulSoup(response.content, \"html.parser\")\n",
    "\n",
    "chart_list = []\n",
    "\n",
    "songs = soup.select(\".rank01 a\")\n",
    "artists = soup.select(\".rank02 a\")\n",
    "\n",
    "for song, artist in zip(songs, artists):\n",
    "    title = song.text\n",
    "    artist_name = artist.text\n",
    "    chart_list.append({\"title\": title, \"artist\": artist_name})\n",
    "\n",
    "for idx, entry in enumerate(chart_list, 1):\n",
    "    print(f\"{idx}위: {entry['title']} - {entry['artist']}\")\n",
    "\n"
   ]
  },
  {
   "cell_type": "code",
   "execution_count": null,
   "id": "cb95ba03",
   "metadata": {},
   "outputs": [],
   "source": []
  },
  {
   "cell_type": "code",
   "execution_count": null,
   "id": "8632ada2",
   "metadata": {},
   "outputs": [],
   "source": []
  },
  {
   "cell_type": "code",
   "execution_count": null,
   "id": "cf4a860b",
   "metadata": {},
   "outputs": [],
   "source": []
  },
  {
   "cell_type": "code",
   "execution_count": null,
   "id": "d15b70b7",
   "metadata": {},
   "outputs": [],
   "source": []
  },
  {
   "cell_type": "code",
   "execution_count": null,
   "id": "029203f9",
   "metadata": {},
   "outputs": [],
   "source": []
  },
  {
   "cell_type": "code",
   "execution_count": null,
   "id": "33d7de10",
   "metadata": {},
   "outputs": [],
   "source": []
  },
  {
   "cell_type": "code",
   "execution_count": null,
   "id": "d8684d38",
   "metadata": {},
   "outputs": [],
   "source": []
  },
  {
   "cell_type": "code",
   "execution_count": null,
   "id": "0997ffc9",
   "metadata": {},
   "outputs": [],
   "source": []
  },
  {
   "cell_type": "code",
   "execution_count": null,
   "id": "36632424",
   "metadata": {},
   "outputs": [],
   "source": []
  },
  {
   "cell_type": "code",
   "execution_count": null,
   "id": "6a011309",
   "metadata": {},
   "outputs": [],
   "source": []
  },
  {
   "cell_type": "code",
   "execution_count": null,
   "id": "122ad58e",
   "metadata": {},
   "outputs": [],
   "source": []
  },
  {
   "cell_type": "code",
   "execution_count": null,
   "id": "1702c9b8",
   "metadata": {},
   "outputs": [],
   "source": []
  },
  {
   "cell_type": "code",
   "execution_count": null,
   "id": "d991d2da",
   "metadata": {},
   "outputs": [],
   "source": []
  },
  {
   "cell_type": "code",
   "execution_count": null,
   "id": "2c461cab",
   "metadata": {},
   "outputs": [],
   "source": []
  },
  {
   "cell_type": "code",
   "execution_count": null,
   "id": "98442bee",
   "metadata": {},
   "outputs": [],
   "source": []
  },
  {
   "cell_type": "code",
   "execution_count": null,
   "id": "fedb2a3d",
   "metadata": {},
   "outputs": [],
   "source": []
  },
  {
   "cell_type": "code",
   "execution_count": null,
   "id": "0d86958f",
   "metadata": {},
   "outputs": [],
   "source": []
  },
  {
   "cell_type": "code",
   "execution_count": null,
   "id": "0df1957f",
   "metadata": {},
   "outputs": [],
   "source": []
  },
  {
   "cell_type": "code",
   "execution_count": null,
   "id": "7307d7b6",
   "metadata": {},
   "outputs": [],
   "source": []
  },
  {
   "cell_type": "code",
   "execution_count": null,
   "id": "2f50e9b8",
   "metadata": {},
   "outputs": [],
   "source": []
  },
  {
   "cell_type": "code",
   "execution_count": null,
   "id": "7243eebb",
   "metadata": {},
   "outputs": [],
   "source": []
  },
  {
   "cell_type": "code",
   "execution_count": null,
   "id": "ea6837a6",
   "metadata": {},
   "outputs": [],
   "source": []
  },
  {
   "cell_type": "code",
   "execution_count": null,
   "id": "f99b61ab",
   "metadata": {},
   "outputs": [],
   "source": []
  },
  {
   "cell_type": "code",
   "execution_count": null,
   "id": "3e1c8d9b",
   "metadata": {},
   "outputs": [],
   "source": []
  },
  {
   "cell_type": "code",
   "execution_count": null,
   "id": "aac03361",
   "metadata": {},
   "outputs": [],
   "source": []
  },
  {
   "cell_type": "code",
   "execution_count": null,
   "id": "d4d49727",
   "metadata": {},
   "outputs": [],
   "source": []
  }
 ],
 "metadata": {
  "kernelspec": {
   "display_name": "python3_8_5",
   "language": "python",
   "name": "py3_8_5"
  },
  "language_info": {
   "codemirror_mode": {
    "name": "ipython",
    "version": 3
   },
   "file_extension": ".py",
   "mimetype": "text/x-python",
   "name": "python",
   "nbconvert_exporter": "python",
   "pygments_lexer": "ipython3",
   "version": "3.11.3"
  }
 },
 "nbformat": 4,
 "nbformat_minor": 5
}
