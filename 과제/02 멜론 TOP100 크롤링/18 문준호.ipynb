{
 "cells": [
  {
   "cell_type": "code",
   "execution_count": 615,
   "id": "4f7646f8",
   "metadata": {},
   "outputs": [],
   "source": [
    "import requests\n",
    "import pandas as pd\n",
    "from bs4 import BeautifulSoup"
   ]
  },
  {
   "cell_type": "code",
   "execution_count": 630,
   "id": "2eea6597",
   "metadata": {},
   "outputs": [],
   "source": [
    "def 멜론차트_가져오기():\n",
    "    url = 'http://www.melon.com/chart/index.htm'\n",
    "    headers = {\n",
    "            'User-Agent': 'Mozilla/5.0 (Windows NT 10.0; Win64; x64) AppleWebKit/537.36 (KHTML, like Gecko) Chrome/115.0.0.0 Safari/537.36',\n",
    "        }"
   ]
  },
  {
   "cell_type": "code",
   "execution_count": 626,
   "id": "5af42448",
   "metadata": {},
   "outputs": [],
   "source": [
    "html = requests.get(url, headers=headers).text"
   ]
  },
  {
   "cell_type": "code",
   "execution_count": 628,
   "id": "daea2fde",
   "metadata": {},
   "outputs": [],
   "source": [
    "soup = BeautifulSoup(html, 'html.parser')"
   ]
  },
  {
   "cell_type": "code",
   "execution_count": 654,
   "id": "17723e18",
   "metadata": {},
   "outputs": [
    {
     "ename": "IndentationError",
     "evalue": "unexpected indent (16294458.py, line 3)",
     "output_type": "error",
     "traceback": [
      "\u001b[1;36m  Cell \u001b[1;32mIn[654], line 3\u001b[1;36m\u001b[0m\n\u001b[1;33m    for song_tag in soup.select('#tb_list tbody tr'):\u001b[0m\n\u001b[1;37m    ^\u001b[0m\n\u001b[1;31mIndentationError\u001b[0m\u001b[1;31m:\u001b[0m unexpected indent\n"
     ]
    }
   ],
   "source": [
    "song_list = []\n",
    "  \n",
    "    for song_tag in soup.select('#tb_list tbody tr'):  #크롤링 데이터  불러오는것이 잘 이해가 되지 않음. \n",
    "        곡일련번호 = song_tag['data-song-no']\n",
    "        커버이미지_주소 = song_tag.find('img')['src']\n",
    "        곡명 = song_tag.find('a', class_='ellipsis').text.strip()\n",
    "        가수 = song_tag.select_one('.ellipsis.rank02 a').text.strip()\n",
    "        앨범 = song_tag.select_one('.ellipsis.rank03 a').text.strip()\n",
    "        순위 = song_tag.select_one('.rank').text.strip()\n",
    "\n",
    "     \n",
    "        song = {\n",
    "                '곡일련번호': 곡일련번호,\n",
    "                '순위': 순위,\n",
    "                '곡명': 곡명,\n",
    "                '가수': 가수,\n",
    "                '앨범': 앨범,\n",
    "                '커버이미지_주소': 커버이미지_주소,\n",
    "            }\n",
    "            # print(song)\n",
    "\n",
    "            song_list.append(song)\n",
    "        df = pd.DataFrame(song_list)\n",
    "        return df\n",
    "\n",
    "df = melonchart_import()\n",
    "print(df)"
   ]
  },
  {
   "cell_type": "code",
   "execution_count": null,
   "id": "2e128884",
   "metadata": {},
   "outputs": [],
   "source": []
  }
 ],
 "metadata": {
  "kernelspec": {
   "display_name": "Python 3 (ipykernel)",
   "language": "python",
   "name": "python3"
  },
  "language_info": {
   "codemirror_mode": {
    "name": "ipython",
    "version": 3
   },
   "file_extension": ".py",
   "mimetype": "text/x-python",
   "name": "python",
   "nbconvert_exporter": "python",
   "pygments_lexer": "ipython3",
   "version": "3.11.3"
  }
 },
 "nbformat": 4,
 "nbformat_minor": 5
}
