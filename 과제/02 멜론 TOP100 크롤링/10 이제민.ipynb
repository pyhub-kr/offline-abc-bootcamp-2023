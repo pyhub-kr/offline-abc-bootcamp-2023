{
 "cells": [
  {
   "cell_type": "code",
   "execution_count": 1,
   "id": "34ee3cbd",
   "metadata": {},
   "outputs": [],
   "source": [
    "import requests\n",
    "from bs4 import BeautifulSoup\n",
    "import pandas as pd"
   ]
  },
  {
   "cell_type": "code",
   "execution_count": 2,
   "id": "09d65a0d",
   "metadata": {},
   "outputs": [
    {
     "data": {
      "text/plain": [
       "<Response [200]>"
      ]
     },
     "execution_count": 2,
     "metadata": {},
     "output_type": "execute_result"
    }
   ],
   "source": [
    "headers = {\n",
    "    \"User-Agent\": \"Mozilla/5.0 (Macintosh; Intel Mac OS X 10_15_7) AppleWebKit/537.36 (KHTML, like Gecko) Chrome/114.0.0.0 Safari/537.36\",\n",
    "}\n",
    "\n",
    "url = \"https://www.melon.com/chart/index.htm\"\n",
    "res = requests.get(url, headers=headers)\n",
    "res"
   ]
  },
  {
   "cell_type": "code",
   "execution_count": 3,
   "id": "9385de7e",
   "metadata": {},
   "outputs": [
    {
     "data": {
      "text/plain": [
       "454752"
      ]
     },
     "execution_count": 3,
     "metadata": {},
     "output_type": "execute_result"
    }
   ],
   "source": [
    "html = res.text\n",
    "len(html)"
   ]
  },
  {
   "cell_type": "code",
   "execution_count": 4,
   "id": "1ec8083a",
   "metadata": {},
   "outputs": [
    {
     "data": {
      "text/plain": [
       "100"
      ]
     },
     "execution_count": 4,
     "metadata": {},
     "output_type": "execute_result"
    }
   ],
   "source": [
    "soup = BeautifulSoup(html, \"html.parser\")\n",
    "\n",
    "singer = soup.select(\"span.checkEllipsis\") #top100차트 가수 불러오기\n",
    "len(singer)\n"
   ]
  },
  {
   "cell_type": "code",
   "execution_count": 5,
   "id": "fdd7a3db",
   "metadata": {},
   "outputs": [
    {
     "data": {
      "text/plain": [
       "'NewJeans'"
      ]
     },
     "execution_count": 5,
     "metadata": {},
     "output_type": "execute_result"
    }
   ],
   "source": [
    "singer[0].text"
   ]
  },
  {
   "cell_type": "code",
   "execution_count": 6,
   "id": "d75e63cc",
   "metadata": {},
   "outputs": [
    {
     "name": "stdout",
     "output_type": "stream",
     "text": [
      "NewJeans\n",
      "정국\n",
      "(여자)아이들\n",
      "NewJeans\n",
      "박재정\n",
      "IVE (아이브)\n",
      "LE SSERAFIM (르세라핌)\n",
      "aespa\n",
      "Lauv\n",
      "NewJeans\n",
      "LE SSERAFIM (르세라핌)\n",
      "IVE (아이브)\n",
      "NewJeans\n",
      "NewJeans\n",
      "세븐틴 (SEVENTEEN)\n",
      "NewJeans\n",
      "NewJeans\n",
      "지수 (JISOO)\n",
      "NewJeans\n",
      "윤하 (YOUNHA)\n",
      "IVE (아이브)\n",
      "Charlie Puth\n",
      "FIFTY FIFTY\n",
      "Charlie Puth\n",
      "임영웅\n",
      "IVE (아이브)\n",
      "NCT DREAM\n",
      "DK(디셈버)\n",
      "부석순 (SEVENTEEN)\n",
      "STAYC(스테이씨)\n",
      "허각\n",
      "임한별\n",
      "LE SSERAFIM (르세라핌)\n",
      "멜로망스\n",
      "방탄소년단\n",
      "H1-KEY (하이키)\n",
      "성시경\n",
      "(여자)아이들\n",
      "정국\n",
      "NewJeans\n",
      "NCT DREAM\n",
      "지아\n",
      "임영웅\n",
      "탑현\n",
      "임영웅\n",
      "The Kid LAROI, Justin Bieber\n",
      "임재현\n",
      "이무진\n",
      "방탄소년단\n",
      "김민석 (멜로망스)\n",
      "던 (DAWN)\n",
      "Charlie Puth\n",
      "#안녕\n",
      "imase\n",
      "(여자)아이들\n",
      "NCT DREAM\n",
      "케이시 (Kassy)\n",
      "경서\n",
      "Charlie Puth\n",
      "임영웅\n",
      "경서예지, 전건호\n",
      "(여자)아이들\n",
      "방탄소년단\n",
      "Paul Blanco\n",
      "테이\n",
      "Agust D\n",
      "NewJeans\n",
      "방탄소년단\n",
      "이채연\n",
      "정국, 방탄소년단\n",
      "제이세라\n",
      "로이킴\n",
      "임영웅\n",
      "aespa\n",
      "오마이걸 (OH MY GIRL)\n",
      "지민\n",
      "ZEROBASEONE (제로베이스원)\n",
      "멜로망스\n",
      "임영웅\n",
      "방탄소년단\n",
      "우디 (Woody)\n",
      "EXO\n",
      "10CM\n",
      "임영웅\n",
      "임영웅\n",
      "IVE (아이브)\n",
      "임영웅\n",
      "B.I\n",
      "주호\n",
      "잔나비\n",
      "방탄소년단\n",
      "BLACKPINK\n",
      "임영웅\n",
      "지아\n",
      "V.O.S\n",
      "j-hope, J. Cole\n",
      "NMIXX\n",
      "LE SSERAFIM (르세라핌)\n",
      "김민석 (멜로망스)\n",
      "BIG Naughty (서동현)\n"
     ]
    }
   ],
   "source": [
    "for i in singer: #for문을 이용하여 top100 가수만 추출\n",
    "    print(i.text.strip()) #.strip() 으로 공백제거"
   ]
  },
  {
   "cell_type": "code",
   "execution_count": 7,
   "id": "ba9a5c07",
   "metadata": {},
   "outputs": [
    {
     "data": {
      "text/plain": [
       "100"
      ]
     },
     "execution_count": 7,
     "metadata": {},
     "output_type": "execute_result"
    }
   ],
   "source": [
    "song = soup.select(\"div.rank01\")\n",
    "len(song)"
   ]
  },
  {
   "cell_type": "code",
   "execution_count": 8,
   "id": "4d091ac1",
   "metadata": {},
   "outputs": [
    {
     "name": "stdout",
     "output_type": "stream",
     "text": [
      "Super Shy\n",
      "Seven (feat. Latto) - Clean Ver.\n",
      "퀸카 (Queencard)\n",
      "ETA\n",
      "헤어지자 말해요\n",
      "I AM\n",
      "이브, 프시케 그리고 푸른 수염의 아내\n",
      "Spicy\n",
      "Steal The Show (From “엘리멘탈”)\n",
      "New Jeans\n",
      "UNFORGIVEN (feat. Nile Rodgers)\n",
      "Kitsch\n",
      "Hype boy\n",
      "Ditto\n",
      "손오공\n",
      "OMG\n",
      "Cool With You\n",
      "꽃\n",
      "Attention\n",
      "사건의 지평선\n",
      "After LIKE\n",
      "I Don't Think That I Like Her\n",
      "Cupid\n",
      "Dangerously\n",
      "사랑은 늘 도망가\n",
      "LOVE DIVE\n",
      "Candy\n",
      "심(心)\n",
      "파이팅 해야지 (Feat. 이영지)\n",
      "Teddy Bear\n",
      "물론\n",
      "사랑하지 않아서 그랬어\n",
      "ANTIFRAGILE\n",
      "사랑인가 봐\n",
      "Dynamite\n",
      "건물 사이에 피어난 장미 (Rose Blossom)\n",
      "너의 모든 순간\n",
      "Allergy\n",
      "Still With You\n",
      "ASAP\n",
      "ISTJ\n",
      "사랑..그게 뭔데\n",
      "모래 알갱이\n",
      "나에게 그대만이\n",
      "우리들의 블루스\n",
      "STAY\n",
      "Heaven(2023)\n",
      "잠깐 시간 될까\n",
      "Butter\n",
      "취중고백\n",
      "빛이 나는 너에게\n",
      "That's Hilarious\n",
      "해요 (2022)\n",
      "NIGHT DANCER\n",
      "TOMBOY\n",
      "Broken Melodies\n",
      "사실말야내가말야그게그러니까말이야\n",
      "첫 키스에 내 심장은 120BPM\n",
      "That’s Not How This Works (feat. Dan + Shay)\n",
      "다시 만날 수 있을까\n",
      "다정히 내 이름을 부르면\n",
      "Nxde\n",
      "봄날\n",
      "Summer (Feat. BE’O (비오))\n",
      "Monologue\n",
      "사람 Pt.2 (feat. 아이유)\n",
      "Get Up\n",
      "Permission to Dance\n",
      "KNOCK\n",
      "Dreamers [Music from the FIFA World Cup Qatar 2022 Official Soundtrack] (Feat. FIFA Sound)\n",
      "사랑의 바보\n",
      "잘 지내자, 우리 (여름날 우리 X 로이킴)\n",
      "이제 나만 믿어요\n",
      "Thirsty\n",
      "여름이 들려 (Summer Comes)\n",
      "Like Crazy\n",
      "In Bloom\n",
      "찬란한 하루\n",
      "무지개\n",
      "Take Two\n",
      "사막에서 꽃을 피우듯\n",
      "Cream Soda\n",
      "그라데이션\n",
      "London Boy\n",
      "아버지\n",
      "ELEVEN\n",
      "Polaroid\n",
      "겁도 없이 (feat. BIG Naughty)\n",
      "내가 아니라도\n",
      "주저하는 연인들을 위해\n",
      "The Planet\n",
      "Shut Down\n",
      "인생찬가\n",
      "사랑하기 싫어\n",
      "안녕이라고 말하지마\n",
      "on the street (with J. Cole)\n",
      "Love Me Like This\n",
      "FEARLESS\n",
      "예뻤어 (여름날 우리 X 김민석 (멜로망스))\n",
      "정이라고 하자 (Feat. 10CM)\n"
     ]
    }
   ],
   "source": [
    "for i in song: #for문을 이용하여 top100 곡제목만 추출\n",
    "    print(i.text.strip()) #.strip() 으로 공백제거"
   ]
  },
  {
   "cell_type": "code",
   "execution_count": 9,
   "id": "b34ede3c",
   "metadata": {},
   "outputs": [
    {
     "data": {
      "text/plain": [
       "100"
      ]
     },
     "execution_count": 9,
     "metadata": {},
     "output_type": "execute_result"
    }
   ],
   "source": [
    "album = soup.select(\"div.rank03\")\n",
    "len(album)"
   ]
  },
  {
   "cell_type": "code",
   "execution_count": 10,
   "id": "4fd491bc",
   "metadata": {},
   "outputs": [
    {
     "name": "stdout",
     "output_type": "stream",
     "text": [
      "NewJeans 2nd EP 'Get Up'\n",
      "Seven (feat. Latto) - Clean Ver.\n",
      "I feel\n",
      "NewJeans 2nd EP 'Get Up'\n",
      "1집 Alone\n",
      "I've IVE\n",
      "UNFORGIVEN\n",
      "MY WORLD - The 3rd Mini Album\n",
      "Steal The Show (From “엘리멘탈”)\n",
      "NewJeans 2nd EP 'Get Up'\n",
      "UNFORGIVEN\n",
      "I've IVE\n",
      "NewJeans 1st EP 'New Jeans'\n",
      "NewJeans 'OMG'\n",
      "SEVENTEEN 10th Mini Album ‘FML'\n",
      "NewJeans 'OMG'\n",
      "NewJeans 2nd EP 'Get Up'\n",
      "ME\n",
      "NewJeans 1st EP 'New Jeans'\n",
      "YOUNHA 6th Album Repackage 'END THEORY : Final Edition'\n",
      "After LIKE\n",
      "CHARLIE\n",
      "The Beginning: Cupid\n",
      "Nine Track Mind (Deluxe Edition)\n",
      "신사와 아가씨 OST Part.2\n",
      "LOVE DIVE\n",
      "Candy - Winter Special Mini Album\n",
      "심(心)\n",
      "부석순 1st Single Album 'SECOND WIND'\n",
      "Teddy Bear\n",
      "물론\n",
      "사랑하지 않아서 그랬어\n",
      "ANTIFRAGILE\n",
      "사랑인가 봐 (사내맞선 OST 스페셜 트랙)\n",
      "Dynamite (DayTime Version)\n",
      "H1-KEY 1st Mini Album [Rose Blossom]\n",
      "별에서 온 그대 OST Part.7\n",
      "I feel\n",
      "Still With You\n",
      "NewJeans 2nd EP 'Get Up'\n",
      "ISTJ - The 3rd Album\n",
      "사랑..그게 뭔데\n",
      "모래 알갱이\n",
      "나에게 그대만이\n",
      "IM HERO\n",
      "Stay\n",
      "시작은 첫키스 OST Part.1\n",
      "잠깐 시간 될까\n",
      "Butter\n",
      "취중고백\n",
      "빛이 나는 너에게\n",
      "CHARLIE\n",
      "해요 (2022)\n",
      "NIGHT DANCER\n",
      "I NEVER DIE\n",
      "ISTJ - The 3rd Album\n",
      "사실말야내가말야그게그러니까말이야\n",
      "ONGOING\n",
      "That’s Not How This Works (feat. Dan + Shay)\n",
      "IM HERO\n",
      "다정히 내 이름을 부르면 (경서예지 x 전건호)\n",
      "I love\n",
      "YOU NEVER WALK ALONE\n",
      "Summer\n",
      "Monologue\n",
      "D-DAY\n",
      "NewJeans 2nd EP 'Get Up'\n",
      "Butter / Permission to Dance\n",
      "Over The Moon\n",
      "Dreamers [Music from the FIFA World Cup Qatar 2022 Official Soundtrack]\n",
      "사랑의 바보\n",
      "잘 지내자, 우리 (여름날 우리 X 로이킴)\n",
      "내일은 미스터트롯 우승자 특전곡\n",
      "MY WORLD - The 3rd Mini Album\n",
      "Golden Hourglass\n",
      "FACE\n",
      "YOUTH IN THE SHADE\n",
      "찬란한 하루\n",
      "IM HERO\n",
      "Take Two\n",
      "사막에서 꽃을 피우듯\n",
      "EXIST - The 7th Album\n",
      "5.3\n",
      "Polaroid\n",
      "IM HERO\n",
      "ELEVEN\n",
      "Polaroid\n",
      "TO DIE FOR\n",
      "내가 아니라도\n",
      "전설\n",
      "The Planet\n",
      "BORN PINK\n",
      "IM HERO\n",
      "사랑하기 싫어\n",
      "안녕이라고 말하지마\n",
      "on the street (with J. Cole)\n",
      "expérgo\n",
      "FEARLESS\n",
      "예뻤어 (여름날 우리 X 김민석 (멜로망스))\n",
      "정이라고 하자\n"
     ]
    }
   ],
   "source": [
    "for i in album: #for문을 이용하여 top100 엘범만 추출\n",
    "    print(i.text.strip()) #.strip() 으로 공백제거"
   ]
  },
  {
   "cell_type": "code",
   "execution_count": 11,
   "id": "8515f9fe",
   "metadata": {},
   "outputs": [
    {
     "data": {
      "text/plain": [
       "101"
      ]
     },
     "execution_count": 11,
     "metadata": {},
     "output_type": "execute_result"
    }
   ],
   "source": [
    "rank = soup.select(\"span.rank\")\n",
    "len(rank)"
   ]
  },
  {
   "cell_type": "code",
   "execution_count": 12,
   "id": "8b7e3fd5",
   "metadata": {},
   "outputs": [
    {
     "name": "stdout",
     "output_type": "stream",
     "text": [
      "순위\n",
      "1\n",
      "2\n",
      "3\n",
      "4\n",
      "5\n",
      "6\n",
      "7\n",
      "8\n",
      "9\n",
      "10\n",
      "11\n",
      "12\n",
      "13\n",
      "14\n",
      "15\n",
      "16\n",
      "17\n",
      "18\n",
      "19\n",
      "20\n",
      "21\n",
      "22\n",
      "23\n",
      "24\n",
      "25\n",
      "26\n",
      "27\n",
      "28\n",
      "29\n",
      "30\n",
      "31\n",
      "32\n",
      "33\n",
      "34\n",
      "35\n",
      "36\n",
      "37\n",
      "38\n",
      "39\n",
      "40\n",
      "41\n",
      "42\n",
      "43\n",
      "44\n",
      "45\n",
      "46\n",
      "47\n",
      "48\n",
      "49\n",
      "50\n",
      "51\n",
      "52\n",
      "53\n",
      "54\n",
      "55\n",
      "56\n",
      "57\n",
      "58\n",
      "59\n",
      "60\n",
      "61\n",
      "62\n",
      "63\n",
      "64\n",
      "65\n",
      "66\n",
      "67\n",
      "68\n",
      "69\n",
      "70\n",
      "71\n",
      "72\n",
      "73\n",
      "74\n",
      "75\n",
      "76\n",
      "77\n",
      "78\n",
      "79\n",
      "80\n",
      "81\n",
      "82\n",
      "83\n",
      "84\n",
      "85\n",
      "86\n",
      "87\n",
      "88\n",
      "89\n",
      "90\n",
      "91\n",
      "92\n",
      "93\n",
      "94\n",
      "95\n",
      "96\n",
      "97\n",
      "98\n",
      "99\n",
      "100\n"
     ]
    }
   ],
   "source": [
    "for i in rank: #for문을 이용하여 top100 엘범만 추출\n",
    "    print(i.text.strip()) #.strip() 으로 공백제거\n",
    "    "
   ]
  },
  {
   "cell_type": "code",
   "execution_count": 28,
   "id": "e38c877c",
   "metadata": {},
   "outputs": [
    {
     "data": {
      "text/plain": [
       "100"
      ]
     },
     "execution_count": 28,
     "metadata": {},
     "output_type": "execute_result"
    }
   ],
   "source": [
    "img_url = soup.select(\".bg_album_frame\")\n",
    "len(img_url)"
   ]
  },
  {
   "cell_type": "code",
   "execution_count": 39,
   "id": "0e902de4",
   "metadata": {},
   "outputs": [
    {
     "ename": "TypeError",
     "evalue": "list indices must be integers or slices, not str",
     "output_type": "error",
     "traceback": [
      "\u001b[1;31m---------------------------------------------------------------------------\u001b[0m",
      "\u001b[1;31mTypeError\u001b[0m                                 Traceback (most recent call last)",
      "Cell \u001b[1;32mIn[39], line 5\u001b[0m\n\u001b[0;32m      3\u001b[0m \u001b[38;5;28;01mfor\u001b[39;00m i \u001b[38;5;129;01min\u001b[39;00m img_url:\n\u001b[0;32m      4\u001b[0m       \u001b[38;5;28;01mif\u001b[39;00m img_url:\n\u001b[1;32m----> 5\u001b[0m         url \u001b[38;5;241m=\u001b[39m \u001b[43mimg_url\u001b[49m\u001b[43m[\u001b[49m\u001b[38;5;124;43m'\u001b[39;49m\u001b[38;5;124;43mhref\u001b[39;49m\u001b[38;5;124;43m'\u001b[39;49m\u001b[43m]\u001b[49m\n\u001b[0;32m      6\u001b[0m         url_save\u001b[38;5;241m.\u001b[39mappend(url)              \u001b[38;5;66;03m# 추출하는 url를 리스트에 저장\u001b[39;00m\n\u001b[0;32m      7\u001b[0m         \u001b[38;5;28mprint\u001b[39m(url)\n",
      "\u001b[1;31mTypeError\u001b[0m: list indices must be integers or slices, not str"
     ]
    }
   ],
   "source": [
    "#url 추출방법 및 df표로 나타내는 방법을 못 찾았습니다.\n",
    "    \n",
    "       "
   ]
  },
  {
   "cell_type": "code",
   "execution_count": null,
   "id": "e61d2d05",
   "metadata": {},
   "outputs": [],
   "source": []
  }
 ],
 "metadata": {
  "kernelspec": {
   "display_name": "python3_8_5",
   "language": "python",
   "name": "py3_8_5"
  },
  "language_info": {
   "codemirror_mode": {
    "name": "ipython",
    "version": 3
   },
   "file_extension": ".py",
   "mimetype": "text/x-python",
   "name": "python",
   "nbconvert_exporter": "python",
   "pygments_lexer": "ipython3",
   "version": "3.8.5"
  }
 },
 "nbformat": 4,
 "nbformat_minor": 5
}
