{
  "nbformat": 4,
  "nbformat_minor": 0,
  "metadata": {
    "colab": {
      "provenance": []
    },
    "kernelspec": {
      "name": "python3",
      "display_name": "Python 3"
    },
    "language_info": {
      "name": "python"
    }
  },
  "cells": [
    {
      "cell_type": "code",
      "execution_count": 1,
      "metadata": {
        "id": "Wq5BF7z2QZKs"
      },
      "outputs": [],
      "source": [
        "import requests\n",
        "from bs4 import BeautifulSoup\n",
        "import json\n",
        "import pandas as pd"
      ]
    },
    {
      "cell_type": "code",
      "source": [
        "headers = {\n",
        "    \"User-Agent\": \"Mozilla/5.0 (Windows NT 10.0; Win64; x64) AppleWebKit/537.36 (KHTML, like Gecko) Chrome/115.0.0.0 Safari/537.36\"\n",
        "}\n",
        "\n",
        "url = \"https://www.melon.com/chart/index.htm\"\n",
        "res = requests.get(url, headers=headers)\n",
        "res"
      ],
      "metadata": {
        "colab": {
          "base_uri": "https://localhost:8080/"
        },
        "id": "E99OY24wSrpK",
        "outputId": "5fbb63c2-7e7e-4a20-d02b-3a3c6dde59af"
      },
      "execution_count": 2,
      "outputs": [
        {
          "output_type": "execute_result",
          "data": {
            "text/plain": [
              "<Response [200]>"
            ]
          },
          "metadata": {},
          "execution_count": 2
        }
      ]
    },
    {
      "cell_type": "code",
      "source": [
        "html = res.text\n",
        "len(html)"
      ],
      "metadata": {
        "colab": {
          "base_uri": "https://localhost:8080/"
        },
        "id": "CFNRa8OdTDUK",
        "outputId": "3a458e7c-f5a8-439a-a18e-3412f485b423"
      },
      "execution_count": 3,
      "outputs": [
        {
          "output_type": "execute_result",
          "data": {
            "text/plain": [
              "457861"
            ]
          },
          "metadata": {},
          "execution_count": 3
        }
      ]
    },
    {
      "cell_type": "code",
      "source": [
        "soup = BeautifulSoup(html, \"html.parser\")\n",
        "\n",
        "song_list = soup.select(\"span.rank\")\n",
        "len(song_list)"
      ],
      "metadata": {
        "colab": {
          "base_uri": "https://localhost:8080/"
        },
        "id": "k636bXdSTFjf",
        "outputId": "3a5577a8-23fb-4edd-911f-26ab983f0530"
      },
      "execution_count": 4,
      "outputs": [
        {
          "output_type": "execute_result",
          "data": {
            "text/plain": [
              "101"
            ]
          },
          "metadata": {},
          "execution_count": 4
        }
      ]
    },
    {
      "cell_type": "code",
      "source": [
        "# 한 곡에 대한 test\n",
        "tr_list = soup.select('tbody>tr')\n",
        "test_tr = tr_list[0]"
      ],
      "metadata": {
        "id": "jjr3rB94TIZp"
      },
      "execution_count": 5,
      "outputs": []
    },
    {
      "cell_type": "code",
      "source": [
        "# 곡 일련번호\n",
        "song_num = test_tr['data-song-no']\n",
        "# 곡 순위\n",
        "rank = test_tr.select_one('span.rank').string\n",
        "# 앨범명\n",
        "album_name = test_tr.select_one('.service_list_song .ellipsis.rank03 a').string\n",
        "# 곡명\n",
        "song_name = test_tr.select_one('.service_list_song .ellipsis.rank01 a').string\n",
        "# 가수\n",
        "artist = test_tr.select_one('.service_list_song .ellipsis.rank02 a').string\n",
        "# 커버이미지 주소\n",
        "coverimg_url = test_tr.select_one('a img')['src']\n",
        "# 좋아요\n",
        "# \"contsLike\">[0]>\"SUMMCNT\"\n",
        "like_url = f'https://www.melon.com/commonlike/getSongLike.json?contsIds={song_num}'\n",
        "like_html = requests.get(like_url, headers=headers).text\n",
        "likes = int(json.loads(like_html)['contsLike'][0]['SUMMCNT'])\n",
        "\n",
        "song_num, rank, album_name, song_name, artist, coverimg_url, likes"
      ],
      "metadata": {
        "id": "hgZw_IFrTQyK",
        "colab": {
          "base_uri": "https://localhost:8080/"
        },
        "outputId": "28148919-c6b2-4e3f-8788-905d5a846f8c"
      },
      "execution_count": 6,
      "outputs": [
        {
          "output_type": "execute_result",
          "data": {
            "text/plain": [
              "('36599950',\n",
              " '1',\n",
              " \"NewJeans 2nd EP 'Get Up'\",\n",
              " 'Super Shy',\n",
              " 'NewJeans',\n",
              " 'https://cdnimg.melon.co.kr/cm2/album/images/112/81/456/11281456_20230706180841_500.jpg/melon/resize/120/quality/80/optimize',\n",
              " 102204)"
            ]
          },
          "metadata": {},
          "execution_count": 6
        }
      ]
    },
    {
      "cell_type": "code",
      "source": [
        "# 모든 곡에 적용하기 위해 함수로 만들어서 실행\n",
        "def get_melon_info(tr):\n",
        "  # 곡 일련번호\n",
        "  song_num = tr['data-song-no']\n",
        "  # 곡 순위\n",
        "  rank = tr.select_one('span.rank').string\n",
        "  # 앨범명\n",
        "  album_name = tr.select_one('.service_list_song .ellipsis.rank03 a').string\n",
        "  # 곡명\n",
        "  song_name = tr.select_one('.service_list_song .ellipsis.rank01 a').string\n",
        "  # 가수\n",
        "  artist = tr.select_one('.service_list_song .ellipsis.rank02 a').string\n",
        "  # 커버이미지 주소\n",
        "  coverImg_url = tr.select_one('a img')['src']\n",
        "  # 좋아요\n",
        "  # \"contsLike\">[0]>\"SUMMCNT\"\n",
        "  like_url = f'https://www.melon.com/commonlike/getSongLike.json?contsIds={song_num}'\n",
        "  like_html = requests.get(like_url, headers=headers).text\n",
        "  likes = int(json.loads(like_html)['contsLike'][0]['SUMMCNT'])\n",
        "\n",
        "  song_info = {\n",
        "      '곡일련번호': [song_num],\n",
        "      '순위' : [rank],\n",
        "      '앨범' : [album_name],\n",
        "      '곡명' : [song_name],\n",
        "      '가수' : [artist],\n",
        "      '커버이미지_주소' : [coverImg_url],\n",
        "      '좋아요' : [likes]\n",
        "  }\n",
        "  song_info_df = pd.DataFrame(song_info)\n",
        "\n",
        "  return song_info_df"
      ],
      "metadata": {
        "id": "DzzUUK9aSK-1"
      },
      "execution_count": 7,
      "outputs": []
    },
    {
      "cell_type": "code",
      "source": [
        "def 멜론차트_가져오기():\n",
        "  # 함수 실행\n",
        "  tr_list = soup.select('tbody>tr')\n",
        "  melon_chart = pd.DataFrame(columns = {\n",
        "      '곡일련번호' : [],\n",
        "      '순위' : [],\n",
        "      '앨범' : [],\n",
        "      '곡명': [],\n",
        "      '가수' : [],\n",
        "      '커버이미지_주소' : [],\n",
        "      '좋아요' : []\n",
        "      })\n",
        "\n",
        "  for tr in tr_list:\n",
        "    melon_chart = pd.concat([melon_chart, get_melon_info(tr)], ignore_index = True)\n",
        "\n",
        "  return melon_chart"
      ],
      "metadata": {
        "id": "Qj2cGyIgSRnI"
      },
      "execution_count": 12,
      "outputs": []
    },
    {
      "cell_type": "code",
      "source": [
        "df = 멜론차트_가져오기()\n",
        "print(df.shape)\n",
        "df.head()"
      ],
      "metadata": {
        "id": "eERBIHp6dCed"
      },
      "execution_count": null,
      "outputs": []
    },
    {
      "cell_type": "code",
      "source": [],
      "metadata": {
        "id": "hE5sRt4Je3Mo"
      },
      "execution_count": null,
      "outputs": []
    }
  ]
}