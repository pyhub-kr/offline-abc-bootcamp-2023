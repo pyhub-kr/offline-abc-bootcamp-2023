{
 "cells": [
  {
   "cell_type": "markdown",
   "id": "5333c30e",
   "metadata": {},
   "source": [
    "# 라이브러리 정의"
   ]
  },
  {
   "cell_type": "code",
   "execution_count": 175,
   "id": "1079ebda",
   "metadata": {},
   "outputs": [],
   "source": [
    "import requests\n",
    "\n",
    "import datetime\n",
    "\n",
    "from bs4 import BeautifulSoup\n",
    "\n",
    "import json\n",
    "\n",
    "import pandas as pd\n",
    "\n",
    "from urllib.parse import urljoin\n",
    "\n",
    "import re"
   ]
  },
  {
   "cell_type": "markdown",
   "id": "09abff2c",
   "metadata": {},
   "source": [
    "# 접근을 위한 User-Agent Setting"
   ]
  },
  {
   "cell_type": "code",
   "execution_count": 176,
   "id": "95da960a",
   "metadata": {},
   "outputs": [],
   "source": [
    "headers= {\n",
    "    \"User-Agent\": \"Mozilla/5.0 (Windows NT 10.0; Win64; x64) AppleWebKit/537.36 (KHTML, like Gecko) Chrome/115.0.0.0 Safari/537.36\"\n",
    "}"
   ]
  },
  {
   "cell_type": "markdown",
   "id": "2c01c658",
   "metadata": {},
   "source": [
    "# 연결 확인"
   ]
  },
  {
   "cell_type": "code",
   "execution_count": 177,
   "id": "99193772",
   "metadata": {},
   "outputs": [
    {
     "data": {
      "text/plain": [
       "<Response [200]>"
      ]
     },
     "execution_count": 177,
     "metadata": {},
     "output_type": "execute_result"
    }
   ],
   "source": [
    "url = \"https://www.melon.com/chart/index.htm\"\n",
    "res = requests.get(url, headers=headers)\n",
    "res"
   ]
  },
  {
   "cell_type": "markdown",
   "id": "dc925519",
   "metadata": {},
   "source": [
    "# TOP 100 크롤링"
   ]
  },
  {
   "cell_type": "code",
   "execution_count": 178,
   "id": "134c2d4d",
   "metadata": {},
   "outputs": [],
   "source": [
    "html = res.text"
   ]
  },
  {
   "cell_type": "code",
   "execution_count": 179,
   "id": "8d45497a",
   "metadata": {},
   "outputs": [
    {
     "data": {
      "text/plain": [
       "100"
      ]
     },
     "execution_count": 179,
     "metadata": {},
     "output_type": "execute_result"
    }
   ],
   "source": [
    "soup = BeautifulSoup(html, \"html.parser\")\n",
    "melon_music_tag_list = soup.select(\".lst50\") + soup.select(\".lst100\")\n",
    "len(melon_music_tag_list)"
   ]
  },
  {
   "cell_type": "markdown",
   "id": "69a92e4d",
   "metadata": {},
   "source": [
    "# 가수 출력해보기 (PRESS)"
   ]
  },
  {
   "cell_type": "code",
   "execution_count": 180,
   "id": "2403cda2",
   "metadata": {},
   "outputs": [
    {
     "name": "stdout",
     "output_type": "stream",
     "text": [
      "NewJeans\n"
     ]
    }
   ],
   "source": [
    "singer = soup.select_one('td > div > div > div > a')\n",
    "melon_singer_list = singer.text\n",
    "print(melon_singer_list) "
   ]
  },
  {
   "cell_type": "markdown",
   "id": "9127e2ac",
   "metadata": {},
   "source": [
    "# URL 출력 해보기 (URL)"
   ]
  },
  {
   "cell_type": "code",
   "execution_count": 181,
   "id": "d5372b82",
   "metadata": {},
   "outputs": [],
   "source": [
    "melon_list = []\n",
    "melon_tag_list = soup.select('.wrap')\n",
    "#print(melon_tag_list)\n",
    "melon_url = \"https://www.melon.com/song/detail.htm\"\n",
    "\n",
    "for a_tag in melon_tag_list:\n",
    "    play_song_tags = a_tag.select('a[href*=\"playSong\"]')\n",
    "    \n",
    "    for play_song_tag in play_song_tags:\n",
    "        href_value = play_song_tag.get('href')\n",
    "\n",
    "        match = re.search(r\"playSong\\('\\d+',(\\d+)\\);\", href_value)\n",
    "\n",
    "        if match:\n",
    "            songId = match.group(1)\n",
    "            songId = \"?songId=\" + songId\n",
    "\n",
    "            song_url = urljoin(melon_url, songId)\n",
    "            #print(song_url)"
   ]
  },
  {
   "cell_type": "markdown",
   "id": "1629f584",
   "metadata": {},
   "source": [
    "# 곡 제목 출력해보기 (TITLE)"
   ]
  },
  {
   "cell_type": "code",
   "execution_count": 190,
   "id": "705c7efa",
   "metadata": {},
   "outputs": [
    {
     "name": "stdout",
     "output_type": "stream",
     "text": [
      "['Super Shy', '빛이 나는 너에게']\n"
     ]
    }
   ],
   "source": [
    "melon_title_list_1 = soup.select_one(\".lst50 span a\").text\n",
    "melon_title_list_2 = soup.select_one(\".lst100 span a\").text\n",
    "melon_title_list = [melon_title_list_1, melon_title_list_2]\n",
    "print(melon_title_list)\n"
   ]
  },
  {
   "cell_type": "markdown",
   "id": "bfb2bbbd",
   "metadata": {},
   "source": [
    "# 크롤링 할 데이터 리스트 정의"
   ]
  },
  {
   "cell_type": "markdown",
   "id": "d568c9bd",
   "metadata": {},
   "source": [
    "## press, title, url, published_at\n",
    "### 데이터 리스트 형태 (Rank, Title, Elbum, Like)"
   ]
  },
  {
   "cell_type": "code",
   "execution_count": 184,
   "id": "7c9d2f15",
   "metadata": {
    "scrolled": true
   },
   "outputs": [
    {
     "ename": "AttributeError",
     "evalue": "'str' object has no attribute 'select_one'",
     "output_type": "error",
     "traceback": [
      "\u001b[1;31m---------------------------------------------------------------------------\u001b[0m",
      "\u001b[1;31mAttributeError\u001b[0m                            Traceback (most recent call last)",
      "Cell \u001b[1;32mIn[184], line 5\u001b[0m\n\u001b[0;32m      3\u001b[0m \u001b[38;5;28;01mfor\u001b[39;00m melon_chart_tag \u001b[38;5;129;01min\u001b[39;00m melon_singer_list:\n\u001b[0;32m      4\u001b[0m     melon_chart_tag \u001b[38;5;241m=\u001b[39m song_url[\u001b[38;5;241m0\u001b[39m]\n\u001b[1;32m----> 5\u001b[0m     melon_url \u001b[38;5;241m=\u001b[39m melon_chart_tag\u001b[38;5;241m.\u001b[39mselect_one(\u001b[38;5;124m\"\u001b[39m\u001b[38;5;124m.list_title\u001b[39m\u001b[38;5;124m\"\u001b[39m)[\u001b[38;5;124m\"\u001b[39m\u001b[38;5;124mhref\u001b[39m\u001b[38;5;124m\"\u001b[39m]\n\u001b[0;32m      6\u001b[0m     melon_title \u001b[38;5;241m=\u001b[39m melon_chart_tag\u001b[38;5;241m.\u001b[39mselect_one(\u001b[38;5;124m\"\u001b[39m\u001b[38;5;124m.list_title\u001b[39m\u001b[38;5;124m\"\u001b[39m)\u001b[38;5;241m.\u001b[39mtext\n\u001b[0;32m      8\u001b[0m    \u001b[38;5;66;03m# article_published_delta = article_wrap_tag.select_one(\".list_time\").text\u001b[39;00m\n",
      "\u001b[1;31mAttributeError\u001b[0m: 'str' object has no attribute 'select_one'"
     ]
    }
   ],
   "source": [
    "melon_chart_list = []\n",
    "\n",
    "for melon_chart_tag in melon_singer_list:\n",
    "    melon_chart_tag = song_url[0]\n",
    "    melon_url = melon_chart_tag.select_one(\".list_title\")[\"href\"]\n",
    "    melon_title = melon_chart_tag.select_one(\".list_title\").text\n",
    "\n",
    "   # article_published_delta = article_wrap_tag.select_one(\".list_time\").text\n",
    "    \n",
    "    article = {\n",
    "        \"press\": melon_singer,\n",
    "        \"url\": song_url,\n",
    "        \"title\": melon_title_list,\n",
    "        #\"published_delta\":article_published_delta,\n",
    "        \n",
    "    }\n",
    "    article_list.append(article)\n",
    "\n",
    "melon_chart_list"
   ]
  },
  {
   "cell_type": "code",
   "execution_count": null,
   "id": "11ef5efa",
   "metadata": {},
   "outputs": [],
   "source": []
  },
  {
   "cell_type": "code",
   "execution_count": null,
   "id": "bd0d5aed",
   "metadata": {},
   "outputs": [],
   "source": []
  },
  {
   "cell_type": "code",
   "execution_count": null,
   "id": "3cf90050",
   "metadata": {},
   "outputs": [],
   "source": []
  },
  {
   "cell_type": "code",
   "execution_count": null,
   "id": "a8e5ad1e",
   "metadata": {},
   "outputs": [],
   "source": []
  },
  {
   "cell_type": "code",
   "execution_count": null,
   "id": "9c4d8a44",
   "metadata": {},
   "outputs": [],
   "source": []
  }
 ],
 "metadata": {
  "kernelspec": {
   "display_name": "Python 3 (ipykernel)",
   "language": "python",
   "name": "python3"
  },
  "language_info": {
   "codemirror_mode": {
    "name": "ipython",
    "version": 3
   },
   "file_extension": ".py",
   "mimetype": "text/x-python",
   "name": "python",
   "nbconvert_exporter": "python",
   "pygments_lexer": "ipython3",
   "version": "3.11.3"
  }
 },
 "nbformat": 4,
 "nbformat_minor": 5
}
